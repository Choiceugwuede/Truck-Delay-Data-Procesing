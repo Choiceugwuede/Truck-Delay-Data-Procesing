{
 "cells": [
  {
   "cell_type": "code",
   "execution_count": 1,
   "id": "9b2ffe63-9254-42fd-81c7-271980d76711",
   "metadata": {},
   "outputs": [],
   "source": [
    "import pandas as pd\n",
    "import seaborn as sns\n",
    "import matplotlib.pyplot as plt\n",
    "import numpy as np"
   ]
  },
  {
   "cell_type": "markdown",
   "id": "ae74f99f-7bd2-4e7e-b8c4-910bfe9359af",
   "metadata": {},
   "source": [
    "# Connect to Postgres"
   ]
  },
  {
   "cell_type": "code",
   "execution_count": 2,
   "id": "813d0c63-eafd-4ce0-a61e-86c1f9cd5bfd",
   "metadata": {},
   "outputs": [
    {
     "name": "stdout",
     "output_type": "stream",
     "text": [
      "Requirement already satisfied: psycopg2 in /home/ec2-user/anaconda3/envs/python3/lib/python3.10/site-packages (2.9.9)\n"
     ]
    }
   ],
   "source": [
    "!pip install psycopg2"
   ]
  },
  {
   "cell_type": "code",
   "execution_count": 3,
   "id": "13ee2cdc-350a-472d-b49c-ab0691f75c47",
   "metadata": {},
   "outputs": [],
   "source": [
    "import psycopg2"
   ]
  },
  {
   "cell_type": "code",
   "execution_count": 4,
   "id": "10add4db-7fc6-4e87-9d06-45385ddba449",
   "metadata": {},
   "outputs": [],
   "source": [
    "postgres_connect= psycopg2.connect(\n",
    "    user=\"postgres\",\n",
    "    password=\"*******\",\n",
    "    host=\"truck-delay-classification-postgresql.*****.rds.amazonaws.com\",\n",
    "    database=\"truckDB\",\n",
    "    port=\"5432\"\n",
    ")"
   ]
  },
  {
   "cell_type": "code",
   "execution_count": 5,
   "id": "d619a02a-e161-43a5-ae5a-09f91db45bc1",
   "metadata": {},
   "outputs": [],
   "source": [
    "sql_query= \"select * from routes_details\""
   ]
  },
  {
   "cell_type": "code",
   "execution_count": 6,
   "id": "376e6764-a1fc-4faf-a2ce-96d2cfa4e537",
   "metadata": {},
   "outputs": [
    {
     "name": "stderr",
     "output_type": "stream",
     "text": [
      "/tmp/ipykernel_11076/1567777423.py:1: UserWarning: pandas only supports SQLAlchemy connectable (engine/connection) or database string URI or sqlite3 DBAPI2 connection. Other DBAPI2 objects are not tested. Please consider using SQLAlchemy.\n",
      "  routes_df=pd.read_sql(sql_query, postgres_connect)\n"
     ]
    }
   ],
   "source": [
    "routes_df=pd.read_sql(sql_query, postgres_connect)"
   ]
  },
  {
   "cell_type": "code",
   "execution_count": 7,
   "id": "c6db69ce-4f0f-48c2-810b-1dde21896491",
   "metadata": {},
   "outputs": [
    {
     "data": {
      "text/html": [
       "<div>\n",
       "<style scoped>\n",
       "    .dataframe tbody tr th:only-of-type {\n",
       "        vertical-align: middle;\n",
       "    }\n",
       "\n",
       "    .dataframe tbody tr th {\n",
       "        vertical-align: top;\n",
       "    }\n",
       "\n",
       "    .dataframe thead th {\n",
       "        text-align: right;\n",
       "    }\n",
       "</style>\n",
       "<table border=\"1\" class=\"dataframe\">\n",
       "  <thead>\n",
       "    <tr style=\"text-align: right;\">\n",
       "      <th></th>\n",
       "      <th>route_id</th>\n",
       "      <th>origin_id</th>\n",
       "      <th>destination_id</th>\n",
       "      <th>distance</th>\n",
       "      <th>average_hours</th>\n",
       "    </tr>\n",
       "  </thead>\n",
       "  <tbody>\n",
       "    <tr>\n",
       "      <th>0</th>\n",
       "      <td>R-ada2a391</td>\n",
       "      <td>C-927ceb5e</td>\n",
       "      <td>C-56e39a5e</td>\n",
       "      <td>1735.06</td>\n",
       "      <td>34.70</td>\n",
       "    </tr>\n",
       "    <tr>\n",
       "      <th>1</th>\n",
       "      <td>R-ae0ef31f</td>\n",
       "      <td>C-927ceb5e</td>\n",
       "      <td>C-73ae5412</td>\n",
       "      <td>1498.24</td>\n",
       "      <td>29.96</td>\n",
       "    </tr>\n",
       "  </tbody>\n",
       "</table>\n",
       "</div>"
      ],
      "text/plain": [
       "     route_id   origin_id destination_id  distance  average_hours\n",
       "0  R-ada2a391  C-927ceb5e     C-56e39a5e   1735.06          34.70\n",
       "1  R-ae0ef31f  C-927ceb5e     C-73ae5412   1498.24          29.96"
      ]
     },
     "execution_count": 7,
     "metadata": {},
     "output_type": "execute_result"
    }
   ],
   "source": [
    "routes_df.head(2)"
   ]
  },
  {
   "cell_type": "code",
   "execution_count": 8,
   "id": "3a9512d4-415a-4c40-a6a8-743ef0680baf",
   "metadata": {},
   "outputs": [],
   "source": [
    "sql_query2=\"select * from routes_weather\""
   ]
  },
  {
   "cell_type": "code",
   "execution_count": 9,
   "id": "3a5eeff2-dac7-49a8-aecf-bd6897dd4336",
   "metadata": {},
   "outputs": [
    {
     "name": "stderr",
     "output_type": "stream",
     "text": [
      "/tmp/ipykernel_11076/3493221296.py:1: UserWarning: pandas only supports SQLAlchemy connectable (engine/connection) or database string URI or sqlite3 DBAPI2 connection. Other DBAPI2 objects are not tested. Please consider using SQLAlchemy.\n",
      "  routes_weather=pd.read_sql(sql_query2,postgres_connect)\n"
     ]
    }
   ],
   "source": [
    "routes_weather=pd.read_sql(sql_query2,postgres_connect)"
   ]
  },
  {
   "cell_type": "code",
   "execution_count": 10,
   "id": "b2ecd535-3a41-4534-a473-779739bcb126",
   "metadata": {},
   "outputs": [
    {
     "data": {
      "text/html": [
       "<div>\n",
       "<style scoped>\n",
       "    .dataframe tbody tr th:only-of-type {\n",
       "        vertical-align: middle;\n",
       "    }\n",
       "\n",
       "    .dataframe tbody tr th {\n",
       "        vertical-align: top;\n",
       "    }\n",
       "\n",
       "    .dataframe thead th {\n",
       "        text-align: right;\n",
       "    }\n",
       "</style>\n",
       "<table border=\"1\" class=\"dataframe\">\n",
       "  <thead>\n",
       "    <tr style=\"text-align: right;\">\n",
       "      <th></th>\n",
       "      <th>route_id</th>\n",
       "      <th>Date</th>\n",
       "      <th>temp</th>\n",
       "      <th>wind_speed</th>\n",
       "      <th>description</th>\n",
       "      <th>precip</th>\n",
       "      <th>humidity</th>\n",
       "      <th>visibility</th>\n",
       "      <th>pressure</th>\n",
       "      <th>chanceofrain</th>\n",
       "      <th>chanceoffog</th>\n",
       "      <th>chanceofsnow</th>\n",
       "      <th>chanceofthunder</th>\n",
       "    </tr>\n",
       "  </thead>\n",
       "  <tbody>\n",
       "    <tr>\n",
       "      <th>0</th>\n",
       "      <td>R-ada2a391</td>\n",
       "      <td>2019-01-01</td>\n",
       "      <td>30.0</td>\n",
       "      <td>11.0</td>\n",
       "      <td>Heavy snow</td>\n",
       "      <td>0.0</td>\n",
       "      <td>90</td>\n",
       "      <td>1.0</td>\n",
       "      <td>1010</td>\n",
       "      <td>0</td>\n",
       "      <td>0</td>\n",
       "      <td>0</td>\n",
       "      <td>0</td>\n",
       "    </tr>\n",
       "  </tbody>\n",
       "</table>\n",
       "</div>"
      ],
      "text/plain": [
       "     route_id       Date  temp  wind_speed description  precip  humidity  \\\n",
       "0  R-ada2a391 2019-01-01  30.0        11.0  Heavy snow     0.0        90   \n",
       "\n",
       "   visibility  pressure  chanceofrain  chanceoffog  chanceofsnow  \\\n",
       "0         1.0      1010             0            0             0   \n",
       "\n",
       "   chanceofthunder  \n",
       "0                0  "
      ]
     },
     "execution_count": 10,
     "metadata": {},
     "output_type": "execute_result"
    }
   ],
   "source": [
    "routes_weather.head(1)"
   ]
  },
  {
   "cell_type": "code",
   "execution_count": 11,
   "id": "c51d7ac6-34b9-4257-b483-0dca78cf60b7",
   "metadata": {},
   "outputs": [
    {
     "data": {
      "text/plain": [
       "(425712, 13)"
      ]
     },
     "execution_count": 11,
     "metadata": {},
     "output_type": "execute_result"
    }
   ],
   "source": [
    "routes_weather.shape"
   ]
  },
  {
   "cell_type": "code",
   "execution_count": 12,
   "id": "fbb839ab-fc13-4ffe-b238-7c48efc159eb",
   "metadata": {},
   "outputs": [
    {
     "data": {
      "text/plain": [
       "(2352, 5)"
      ]
     },
     "execution_count": 12,
     "metadata": {},
     "output_type": "execute_result"
    }
   ],
   "source": [
    "routes_df.shape"
   ]
  },
  {
   "cell_type": "code",
   "execution_count": 13,
   "id": "177a1ce4-7518-4cfd-94ee-28d3ffec71d7",
   "metadata": {},
   "outputs": [],
   "source": [
    "# Closes the database connection\n",
    "postgres_connect.commit()\n",
    "postgres_connect.close()  \n"
   ]
  },
  {
   "cell_type": "markdown",
   "id": "33b4f63c-967c-45bd-9603-b4576bef3905",
   "metadata": {},
   "source": [
    "# Connect to MySql"
   ]
  },
  {
   "cell_type": "code",
   "execution_count": 14,
   "id": "9e9630fa-a068-47c7-b797-a0348b00dba4",
   "metadata": {},
   "outputs": [
    {
     "name": "stdout",
     "output_type": "stream",
     "text": [
      "Requirement already satisfied: pymysql in /home/ec2-user/anaconda3/envs/python3/lib/python3.10/site-packages (1.1.1)\n"
     ]
    }
   ],
   "source": [
    "!pip install pymysql"
   ]
  },
  {
   "cell_type": "code",
   "execution_count": 15,
   "id": "82226e77-063e-48ca-b760-1d7395fc33d3",
   "metadata": {},
   "outputs": [],
   "source": [
    "import pymysql"
   ]
  },
  {
   "cell_type": "code",
   "execution_count": 16,
   "id": "3eb6a99f-cdbc-4c83-9027-da21dd6d5ff0",
   "metadata": {},
   "outputs": [],
   "source": [
    "mysql_connect=pymysql.connect(\n",
    "    user=\"admin\",\n",
    "    password=\"******\",\n",
    "    host=\"truck-delay-classification-mysql.*****.rds.amazonaws.com\",\n",
    "    database=\"TruckDB\"\n",
    ")"
   ]
  },
  {
   "cell_type": "markdown",
   "id": "b1cf2513-c1a0-4542-8290-9cd26a42c4e4",
   "metadata": {},
   "source": [
    "## To navigate the entire database; use .cursor()"
   ]
  },
  {
   "cell_type": "code",
   "execution_count": 17,
   "id": "4a8ca45f-2512-4352-97c6-e75b1a70f03a",
   "metadata": {},
   "outputs": [],
   "source": [
    "cursor=mysql_connect.cursor()"
   ]
  },
  {
   "cell_type": "code",
   "execution_count": 18,
   "id": "75794cf9-8ab9-4242-877e-d549933967ca",
   "metadata": {},
   "outputs": [
    {
     "data": {
      "text/plain": [
       "5"
      ]
     },
     "execution_count": 18,
     "metadata": {},
     "output_type": "execute_result"
    }
   ],
   "source": [
    "cursor.execute(\"SHOW TABLES\")"
   ]
  },
  {
   "cell_type": "code",
   "execution_count": 19,
   "id": "67c51aae-e388-41b5-9065-ffb48c5fd207",
   "metadata": {},
   "outputs": [
    {
     "name": "stdout",
     "output_type": "stream",
     "text": [
      "('city_weather',)\n",
      "('drivers_details',)\n",
      "('traffic_details',)\n",
      "('truck_details',)\n",
      "('truck_schedule_data',)\n"
     ]
    }
   ],
   "source": [
    "for table_name in cursor:\n",
    "    print(table_name)"
   ]
  },
  {
   "cell_type": "code",
   "execution_count": 20,
   "id": "c26536d7-f0ac-477f-aed1-dc57890bacf7",
   "metadata": {},
   "outputs": [
    {
     "name": "stderr",
     "output_type": "stream",
     "text": [
      "/tmp/ipykernel_11076/2288413617.py:2: UserWarning: pandas only supports SQLAlchemy connectable (engine/connection) or database string URI or sqlite3 DBAPI2 connection. Other DBAPI2 objects are not tested. Please consider using SQLAlchemy.\n",
      "  city_weather=pd.read_sql(query1, mysql_connect)\n"
     ]
    }
   ],
   "source": [
    "query1=\"select * from city_weather\"\n",
    "city_weather=pd.read_sql(query1, mysql_connect)"
   ]
  },
  {
   "cell_type": "code",
   "execution_count": 21,
   "id": "e47933c0-2358-4cd9-9d9c-839795ed8bf0",
   "metadata": {},
   "outputs": [
    {
     "data": {
      "text/plain": [
       "(55176, 14)"
      ]
     },
     "execution_count": 21,
     "metadata": {},
     "output_type": "execute_result"
    }
   ],
   "source": [
    "city_weather.shape"
   ]
  },
  {
   "cell_type": "code",
   "execution_count": 22,
   "id": "3d9de8f4-2f28-46a5-ba22-368e8933252a",
   "metadata": {},
   "outputs": [
    {
     "name": "stderr",
     "output_type": "stream",
     "text": [
      "/tmp/ipykernel_11076/1615129393.py:2: UserWarning: pandas only supports SQLAlchemy connectable (engine/connection) or database string URI or sqlite3 DBAPI2 connection. Other DBAPI2 objects are not tested. Please consider using SQLAlchemy.\n",
      "  drivers_df=pd.read_sql(query2, mysql_connect)\n"
     ]
    }
   ],
   "source": [
    "query2=\"select * from drivers_details\"\n",
    "drivers_df=pd.read_sql(query2, mysql_connect)"
   ]
  },
  {
   "cell_type": "code",
   "execution_count": 23,
   "id": "387f3634-5798-4e3e-8b83-0a13d8f7ec36",
   "metadata": {},
   "outputs": [
    {
     "name": "stderr",
     "output_type": "stream",
     "text": [
      "/tmp/ipykernel_11076/4239517180.py:2: UserWarning: pandas only supports SQLAlchemy connectable (engine/connection) or database string URI or sqlite3 DBAPI2 connection. Other DBAPI2 objects are not tested. Please consider using SQLAlchemy.\n",
      "  traffic_df=pd.read_sql(query3, mysql_connect)\n"
     ]
    }
   ],
   "source": [
    "query3=\"select * from traffic_details\"\n",
    "traffic_df=pd.read_sql(query3, mysql_connect)"
   ]
  },
  {
   "cell_type": "code",
   "execution_count": 24,
   "id": "b7566b8e-4f98-4cd7-a450-44b4e7611873",
   "metadata": {},
   "outputs": [
    {
     "name": "stderr",
     "output_type": "stream",
     "text": [
      "/tmp/ipykernel_11076/1504434724.py:2: UserWarning: pandas only supports SQLAlchemy connectable (engine/connection) or database string URI or sqlite3 DBAPI2 connection. Other DBAPI2 objects are not tested. Please consider using SQLAlchemy.\n",
      "  schedule_df=pd.read_sql(query4, mysql_connect)\n"
     ]
    }
   ],
   "source": [
    "query4=\"select * from truck_schedule_data\"\n",
    "schedule_df=pd.read_sql(query4, mysql_connect)"
   ]
  },
  {
   "cell_type": "code",
   "execution_count": 25,
   "id": "5ddcdab5-8249-413c-a1c4-9f6ae588b6b1",
   "metadata": {},
   "outputs": [
    {
     "name": "stderr",
     "output_type": "stream",
     "text": [
      "/tmp/ipykernel_11076/2266866804.py:2: UserWarning: pandas only supports SQLAlchemy connectable (engine/connection) or database string URI or sqlite3 DBAPI2 connection. Other DBAPI2 objects are not tested. Please consider using SQLAlchemy.\n",
      "  truck_df=pd.read_sql(query5, mysql_connect)\n"
     ]
    }
   ],
   "source": [
    "query5=\"select * from truck_details\"\n",
    "truck_df=pd.read_sql(query5, mysql_connect)"
   ]
  },
  {
   "cell_type": "code",
   "execution_count": 26,
   "id": "c3f22700-c848-4d27-aa92-f9320621ee15",
   "metadata": {},
   "outputs": [
    {
     "name": "stdout",
     "output_type": "stream",
     "text": [
      "(1300, 5) \n",
      " (12308, 5) \n",
      " (2597913, 5) \n",
      " (1300, 9) \n",
      " (55176, 14)\n"
     ]
    }
   ],
   "source": [
    "print(truck_df.shape,\"\\n\",\n",
    "      schedule_df.shape,\"\\n\",\n",
    "      traffic_df.shape,\"\\n\",\n",
    "      drivers_df.shape,\"\\n\",\n",
    "      city_weather.shape\n",
    "     )\n",
    "      \n",
    "      \n",
    "      "
   ]
  },
  {
   "cell_type": "code",
   "execution_count": 27,
   "id": "5bb31eb8-d506-498d-9270-31c1b2e027b2",
   "metadata": {},
   "outputs": [],
   "source": [
    "#close connection\n",
    "mysql_connect.commit()\n",
    "cursor.close()\n",
    "mysql_connect.close()\n"
   ]
  },
  {
   "cell_type": "markdown",
   "id": "44da8ee8-3a80-46ef-9492-6b52e18f71d2",
   "metadata": {},
   "source": [
    "# Exploartory Data Analysis (EDA)"
   ]
  },
  {
   "cell_type": "markdown",
   "id": "2531d89f-b228-4499-b9bf-d235f2e25b56",
   "metadata": {},
   "source": [
    "## Driver's Data Analysis"
   ]
  },
  {
   "cell_type": "code",
   "execution_count": 28,
   "id": "29853af7-97e3-44e9-8997-e8bace893fc6",
   "metadata": {},
   "outputs": [
    {
     "name": "stdout",
     "output_type": "stream",
     "text": [
      "<class 'pandas.core.frame.DataFrame'>\n",
      "RangeIndex: 1300 entries, 0 to 1299\n",
      "Data columns (total 9 columns):\n",
      " #   Column             Non-Null Count  Dtype  \n",
      "---  ------             --------------  -----  \n",
      " 0   driver_id          1300 non-null   object \n",
      " 1   name               1300 non-null   object \n",
      " 2   gender             1277 non-null   object \n",
      " 3   age                1300 non-null   int64  \n",
      " 4   experience         1300 non-null   int64  \n",
      " 5   driving_style      1248 non-null   object \n",
      " 6   ratings            1300 non-null   int64  \n",
      " 7   vehicle_no         1300 non-null   int64  \n",
      " 8   average_speed_mph  1300 non-null   float64\n",
      "dtypes: float64(1), int64(4), object(4)\n",
      "memory usage: 91.5+ KB\n"
     ]
    }
   ],
   "source": [
    "drivers_df.info()"
   ]
  },
  {
   "cell_type": "code",
   "execution_count": 29,
   "id": "ec69ebff-e54c-4c48-b590-784deb321661",
   "metadata": {},
   "outputs": [
    {
     "data": {
      "text/html": [
       "<div>\n",
       "<style scoped>\n",
       "    .dataframe tbody tr th:only-of-type {\n",
       "        vertical-align: middle;\n",
       "    }\n",
       "\n",
       "    .dataframe tbody tr th {\n",
       "        vertical-align: top;\n",
       "    }\n",
       "\n",
       "    .dataframe thead th {\n",
       "        text-align: right;\n",
       "    }\n",
       "</style>\n",
       "<table border=\"1\" class=\"dataframe\">\n",
       "  <thead>\n",
       "    <tr style=\"text-align: right;\">\n",
       "      <th></th>\n",
       "      <th>driver_id</th>\n",
       "      <th>name</th>\n",
       "      <th>gender</th>\n",
       "      <th>age</th>\n",
       "      <th>experience</th>\n",
       "      <th>driving_style</th>\n",
       "      <th>ratings</th>\n",
       "      <th>vehicle_no</th>\n",
       "      <th>average_speed_mph</th>\n",
       "    </tr>\n",
       "  </thead>\n",
       "  <tbody>\n",
       "    <tr>\n",
       "      <th>0</th>\n",
       "      <td>d9f30553-6</td>\n",
       "      <td>Daniel Marks</td>\n",
       "      <td>male</td>\n",
       "      <td>47</td>\n",
       "      <td>5</td>\n",
       "      <td>proactive</td>\n",
       "      <td>7</td>\n",
       "      <td>42302347</td>\n",
       "      <td>62.22</td>\n",
       "    </tr>\n",
       "    <tr>\n",
       "      <th>1</th>\n",
       "      <td>82de7bb8-2</td>\n",
       "      <td>Clifford Carr</td>\n",
       "      <td>male</td>\n",
       "      <td>47</td>\n",
       "      <td>14</td>\n",
       "      <td>proactive</td>\n",
       "      <td>4</td>\n",
       "      <td>27867488</td>\n",
       "      <td>60.89</td>\n",
       "    </tr>\n",
       "  </tbody>\n",
       "</table>\n",
       "</div>"
      ],
      "text/plain": [
       "    driver_id           name gender  age  experience driving_style  ratings  \\\n",
       "0  d9f30553-6   Daniel Marks   male   47           5     proactive        7   \n",
       "1  82de7bb8-2  Clifford Carr   male   47          14     proactive        4   \n",
       "\n",
       "   vehicle_no  average_speed_mph  \n",
       "0    42302347              62.22  \n",
       "1    27867488              60.89  "
      ]
     },
     "execution_count": 29,
     "metadata": {},
     "output_type": "execute_result"
    }
   ],
   "source": [
    "drivers_df.head(2)"
   ]
  },
  {
   "cell_type": "code",
   "execution_count": 30,
   "id": "1ee8ef43-6ca1-4439-99a7-a4961f619e1f",
   "metadata": {},
   "outputs": [
    {
     "data": {
      "text/html": [
       "<div>\n",
       "<style scoped>\n",
       "    .dataframe tbody tr th:only-of-type {\n",
       "        vertical-align: middle;\n",
       "    }\n",
       "\n",
       "    .dataframe tbody tr th {\n",
       "        vertical-align: top;\n",
       "    }\n",
       "\n",
       "    .dataframe thead th {\n",
       "        text-align: right;\n",
       "    }\n",
       "</style>\n",
       "<table border=\"1\" class=\"dataframe\">\n",
       "  <thead>\n",
       "    <tr style=\"text-align: right;\">\n",
       "      <th></th>\n",
       "      <th>age</th>\n",
       "      <th>experience</th>\n",
       "      <th>ratings</th>\n",
       "      <th>vehicle_no</th>\n",
       "      <th>average_speed_mph</th>\n",
       "    </tr>\n",
       "  </thead>\n",
       "  <tbody>\n",
       "    <tr>\n",
       "      <th>count</th>\n",
       "      <td>1300.000000</td>\n",
       "      <td>1300.000000</td>\n",
       "      <td>1300.000000</td>\n",
       "      <td>1.300000e+03</td>\n",
       "      <td>1300.000000</td>\n",
       "    </tr>\n",
       "    <tr>\n",
       "      <th>mean</th>\n",
       "      <td>47.814615</td>\n",
       "      <td>11.988462</td>\n",
       "      <td>5.633846</td>\n",
       "      <td>3.263242e+07</td>\n",
       "      <td>53.262854</td>\n",
       "    </tr>\n",
       "    <tr>\n",
       "      <th>std</th>\n",
       "      <td>4.973240</td>\n",
       "      <td>6.951765</td>\n",
       "      <td>2.137266</td>\n",
       "      <td>2.205390e+07</td>\n",
       "      <td>8.504282</td>\n",
       "    </tr>\n",
       "    <tr>\n",
       "      <th>min</th>\n",
       "      <td>28.000000</td>\n",
       "      <td>-8.000000</td>\n",
       "      <td>2.000000</td>\n",
       "      <td>1.000839e+07</td>\n",
       "      <td>29.150000</td>\n",
       "    </tr>\n",
       "    <tr>\n",
       "      <th>25%</th>\n",
       "      <td>45.000000</td>\n",
       "      <td>7.000000</td>\n",
       "      <td>4.000000</td>\n",
       "      <td>1.817244e+07</td>\n",
       "      <td>45.427500</td>\n",
       "    </tr>\n",
       "    <tr>\n",
       "      <th>50%</th>\n",
       "      <td>48.000000</td>\n",
       "      <td>11.000000</td>\n",
       "      <td>6.000000</td>\n",
       "      <td>2.584212e+07</td>\n",
       "      <td>57.340000</td>\n",
       "    </tr>\n",
       "    <tr>\n",
       "      <th>75%</th>\n",
       "      <td>51.000000</td>\n",
       "      <td>17.000000</td>\n",
       "      <td>8.000000</td>\n",
       "      <td>3.340052e+07</td>\n",
       "      <td>60.350000</td>\n",
       "    </tr>\n",
       "    <tr>\n",
       "      <th>max</th>\n",
       "      <td>65.000000</td>\n",
       "      <td>35.000000</td>\n",
       "      <td>9.000000</td>\n",
       "      <td>9.998167e+07</td>\n",
       "      <td>67.240000</td>\n",
       "    </tr>\n",
       "  </tbody>\n",
       "</table>\n",
       "</div>"
      ],
      "text/plain": [
       "               age   experience      ratings    vehicle_no  average_speed_mph\n",
       "count  1300.000000  1300.000000  1300.000000  1.300000e+03        1300.000000\n",
       "mean     47.814615    11.988462     5.633846  3.263242e+07          53.262854\n",
       "std       4.973240     6.951765     2.137266  2.205390e+07           8.504282\n",
       "min      28.000000    -8.000000     2.000000  1.000839e+07          29.150000\n",
       "25%      45.000000     7.000000     4.000000  1.817244e+07          45.427500\n",
       "50%      48.000000    11.000000     6.000000  2.584212e+07          57.340000\n",
       "75%      51.000000    17.000000     8.000000  3.340052e+07          60.350000\n",
       "max      65.000000    35.000000     9.000000  9.998167e+07          67.240000"
      ]
     },
     "execution_count": 30,
     "metadata": {},
     "output_type": "execute_result"
    }
   ],
   "source": [
    "drivers_df.describe()"
   ]
  },
  {
   "cell_type": "code",
   "execution_count": 31,
   "id": "963f752c-affc-4c24-9dee-030e82d5b4bc",
   "metadata": {},
   "outputs": [
    {
     "data": {
      "text/plain": [
       "Text(0.5, 1.0, 'Gender and Rating Plot')"
      ]
     },
     "execution_count": 31,
     "metadata": {},
     "output_type": "execute_result"
    },
    {
     "data": {
      "image/png": "[encoded data removed]",
      "text/plain": [
       "<Figure size 640x480 with 1 Axes>"
      ]
     },
     "metadata": {},
     "output_type": "display_data"
    }
   ],
   "source": [
    "#boxplot between gender and ratings\n",
    "\n",
    "sns.boxplot(x='gender', y='ratings', data=drivers_df)\n",
    "plt.title(\"Gender and Rating Plot\")"
   ]
  },
  {
   "cell_type": "code",
   "execution_count": 32,
   "id": "12bb4e78-ba46-447c-a4a8-47bb98c248d1",
   "metadata": {},
   "outputs": [
    {
     "data": {
      "text/plain": [
       "<Axes: xlabel='ratings', ylabel='average_speed_mph'>"
      ]
     },
     "execution_count": 32,
     "metadata": {},
     "output_type": "execute_result"
    },
    {
     "data": {
      "image/png": "[encoded data removed]",
      "text/plain": [
       "<Figure size 640x480 with 1 Axes>"
      ]
     },
     "metadata": {},
     "output_type": "display_data"
    }
   ],
   "source": [
    "sns.scatterplot(x='ratings',y='average_speed_mph',data=drivers_df)"
   ]
  },
  {
   "cell_type": "code",
   "execution_count": 33,
   "id": "9adca490-c789-4124-be44-1744823f3227",
   "metadata": {},
   "outputs": [
    {
     "data": {
      "image/png": "[encoded data removed]",
      "text/plain": [
       "<Figure size 1000x500 with 1 Axes>"
      ]
     },
     "metadata": {},
     "output_type": "display_data"
    },
    {
     "data": {
      "image/png": "[encoded data removed]",
      "text/plain": [
       "<Figure size 1000x500 with 1 Axes>"
      ]
     },
     "metadata": {},
     "output_type": "display_data"
    },
    {
     "data": {
      "image/png": "[encoded data removed]",
      "text/plain": [
       "<Figure size 1000x500 with 1 Axes>"
      ]
     },
     "metadata": {},
     "output_type": "display_data"
    },
    {
     "data": {
      "image/png": "[encoded data removed]",
      "text/plain": [
       "<Figure size 1000x500 with 1 Axes>"
      ]
     },
     "metadata": {},
     "output_type": "display_data"
    }
   ],
   "source": [
    "#list of numerical columns to visualize\n",
    "drivers_num_cols=['age','experience','ratings','average_speed_mph']\n",
    "\n",
    "#loop through each numerical column and create histograms with KDE\n",
    "for col in drivers_num_cols:\n",
    "    plt.figure(figsize=(10, 5))\n",
    "\n",
    "    #Create a histogram with KDE using seaborn\n",
    "    sns.histplot(drivers_df[col], bins=30, kde=True)\n",
    "    #set the title\n",
    "    plt.title(f'{col} distribution')\n",
    "    #set the label for the x-axis\n",
    "    plt.xlabel(f'{col}')\n",
    "    plt.show()"
   ]
  },
  {
   "cell_type": "markdown",
   "id": "36573ab3-0dc1-4065-a568-4d6a16bea018",
   "metadata": {},
   "source": [
    "## Truck Details Analysis"
   ]
  },
  {
   "cell_type": "code",
   "execution_count": 34,
   "id": "fd9f36fa-9740-4a05-8bb2-dd267f068232",
   "metadata": {},
   "outputs": [
    {
     "data": {
      "text/html": [
       "<div>\n",
       "<style scoped>\n",
       "    .dataframe tbody tr th:only-of-type {\n",
       "        vertical-align: middle;\n",
       "    }\n",
       "\n",
       "    .dataframe tbody tr th {\n",
       "        vertical-align: top;\n",
       "    }\n",
       "\n",
       "    .dataframe thead th {\n",
       "        text-align: right;\n",
       "    }\n",
       "</style>\n",
       "<table border=\"1\" class=\"dataframe\">\n",
       "  <thead>\n",
       "    <tr style=\"text-align: right;\">\n",
       "      <th></th>\n",
       "      <th>truck_id</th>\n",
       "      <th>truck_age</th>\n",
       "      <th>load_capacity_pounds</th>\n",
       "      <th>mileage_mpg</th>\n",
       "      <th>fuel_type</th>\n",
       "    </tr>\n",
       "  </thead>\n",
       "  <tbody>\n",
       "    <tr>\n",
       "      <th>0</th>\n",
       "      <td>42302347</td>\n",
       "      <td>10</td>\n",
       "      <td>3000.0</td>\n",
       "      <td>17</td>\n",
       "      <td>gas</td>\n",
       "    </tr>\n",
       "    <tr>\n",
       "      <th>1</th>\n",
       "      <td>27867488</td>\n",
       "      <td>14</td>\n",
       "      <td>10000.0</td>\n",
       "      <td>22</td>\n",
       "      <td>diesel</td>\n",
       "    </tr>\n",
       "  </tbody>\n",
       "</table>\n",
       "</div>"
      ],
      "text/plain": [
       "   truck_id  truck_age  load_capacity_pounds  mileage_mpg fuel_type\n",
       "0  42302347         10                3000.0           17       gas\n",
       "1  27867488         14               10000.0           22    diesel"
      ]
     },
     "execution_count": 34,
     "metadata": {},
     "output_type": "execute_result"
    }
   ],
   "source": [
    "truck_df.head(2)"
   ]
  },
  {
   "cell_type": "code",
   "execution_count": 35,
   "id": "08b6e57d-450c-4ee6-afe0-34f39759026d",
   "metadata": {},
   "outputs": [
    {
     "name": "stdout",
     "output_type": "stream",
     "text": [
      "<class 'pandas.core.frame.DataFrame'>\n",
      "RangeIndex: 1300 entries, 0 to 1299\n",
      "Data columns (total 5 columns):\n",
      " #   Column                Non-Null Count  Dtype  \n",
      "---  ------                --------------  -----  \n",
      " 0   truck_id              1300 non-null   int64  \n",
      " 1   truck_age             1300 non-null   int64  \n",
      " 2   load_capacity_pounds  1243 non-null   float64\n",
      " 3   mileage_mpg           1300 non-null   int64  \n",
      " 4   fuel_type             1300 non-null   object \n",
      "dtypes: float64(1), int64(3), object(1)\n",
      "memory usage: 50.9+ KB\n"
     ]
    }
   ],
   "source": [
    "truck_df.info()"
   ]
  },
  {
   "cell_type": "code",
   "execution_count": 36,
   "id": "5bfce894-0536-4518-870a-e3270b4dd582",
   "metadata": {},
   "outputs": [
    {
     "data": {
      "text/html": [
       "<div>\n",
       "<style scoped>\n",
       "    .dataframe tbody tr th:only-of-type {\n",
       "        vertical-align: middle;\n",
       "    }\n",
       "\n",
       "    .dataframe tbody tr th {\n",
       "        vertical-align: top;\n",
       "    }\n",
       "\n",
       "    .dataframe thead th {\n",
       "        text-align: right;\n",
       "    }\n",
       "</style>\n",
       "<table border=\"1\" class=\"dataframe\">\n",
       "  <thead>\n",
       "    <tr style=\"text-align: right;\">\n",
       "      <th></th>\n",
       "      <th>truck_id</th>\n",
       "      <th>truck_age</th>\n",
       "      <th>load_capacity_pounds</th>\n",
       "      <th>mileage_mpg</th>\n",
       "      <th>fuel_type</th>\n",
       "    </tr>\n",
       "  </thead>\n",
       "  <tbody>\n",
       "    <tr>\n",
       "      <th>count</th>\n",
       "      <td>1.300000e+03</td>\n",
       "      <td>1300.000000</td>\n",
       "      <td>1243.000000</td>\n",
       "      <td>1300.000000</td>\n",
       "      <td>1300</td>\n",
       "    </tr>\n",
       "    <tr>\n",
       "      <th>unique</th>\n",
       "      <td>NaN</td>\n",
       "      <td>NaN</td>\n",
       "      <td>NaN</td>\n",
       "      <td>NaN</td>\n",
       "      <td>3</td>\n",
       "    </tr>\n",
       "    <tr>\n",
       "      <th>top</th>\n",
       "      <td>NaN</td>\n",
       "      <td>NaN</td>\n",
       "      <td>NaN</td>\n",
       "      <td>NaN</td>\n",
       "      <td>diesel</td>\n",
       "    </tr>\n",
       "    <tr>\n",
       "      <th>freq</th>\n",
       "      <td>NaN</td>\n",
       "      <td>NaN</td>\n",
       "      <td>NaN</td>\n",
       "      <td>NaN</td>\n",
       "      <td>692</td>\n",
       "    </tr>\n",
       "    <tr>\n",
       "      <th>mean</th>\n",
       "      <td>3.263242e+07</td>\n",
       "      <td>9.513077</td>\n",
       "      <td>8610.619469</td>\n",
       "      <td>20.784615</td>\n",
       "      <td>NaN</td>\n",
       "    </tr>\n",
       "    <tr>\n",
       "      <th>std</th>\n",
       "      <td>2.205390e+07</td>\n",
       "      <td>2.039030</td>\n",
       "      <td>5583.759795</td>\n",
       "      <td>3.655876</td>\n",
       "      <td>NaN</td>\n",
       "    </tr>\n",
       "    <tr>\n",
       "      <th>min</th>\n",
       "      <td>1.000839e+07</td>\n",
       "      <td>3.000000</td>\n",
       "      <td>3000.000000</td>\n",
       "      <td>11.000000</td>\n",
       "      <td>NaN</td>\n",
       "    </tr>\n",
       "    <tr>\n",
       "      <th>25%</th>\n",
       "      <td>1.817244e+07</td>\n",
       "      <td>8.000000</td>\n",
       "      <td>4000.000000</td>\n",
       "      <td>18.000000</td>\n",
       "      <td>NaN</td>\n",
       "    </tr>\n",
       "    <tr>\n",
       "      <th>50%</th>\n",
       "      <td>2.584212e+07</td>\n",
       "      <td>10.000000</td>\n",
       "      <td>6000.000000</td>\n",
       "      <td>21.000000</td>\n",
       "      <td>NaN</td>\n",
       "    </tr>\n",
       "    <tr>\n",
       "      <th>75%</th>\n",
       "      <td>3.340052e+07</td>\n",
       "      <td>11.000000</td>\n",
       "      <td>15000.000000</td>\n",
       "      <td>24.000000</td>\n",
       "      <td>NaN</td>\n",
       "    </tr>\n",
       "    <tr>\n",
       "      <th>max</th>\n",
       "      <td>9.998167e+07</td>\n",
       "      <td>15.000000</td>\n",
       "      <td>20000.000000</td>\n",
       "      <td>29.000000</td>\n",
       "      <td>NaN</td>\n",
       "    </tr>\n",
       "  </tbody>\n",
       "</table>\n",
       "</div>"
      ],
      "text/plain": [
       "            truck_id    truck_age  load_capacity_pounds  mileage_mpg fuel_type\n",
       "count   1.300000e+03  1300.000000           1243.000000  1300.000000      1300\n",
       "unique           NaN          NaN                   NaN          NaN         3\n",
       "top              NaN          NaN                   NaN          NaN    diesel\n",
       "freq             NaN          NaN                   NaN          NaN       692\n",
       "mean    3.263242e+07     9.513077           8610.619469    20.784615       NaN\n",
       "std     2.205390e+07     2.039030           5583.759795     3.655876       NaN\n",
       "min     1.000839e+07     3.000000           3000.000000    11.000000       NaN\n",
       "25%     1.817244e+07     8.000000           4000.000000    18.000000       NaN\n",
       "50%     2.584212e+07    10.000000           6000.000000    21.000000       NaN\n",
       "75%     3.340052e+07    11.000000          15000.000000    24.000000       NaN\n",
       "max     9.998167e+07    15.000000          20000.000000    29.000000       NaN"
      ]
     },
     "execution_count": 36,
     "metadata": {},
     "output_type": "execute_result"
    }
   ],
   "source": [
    "truck_df.describe(include='all')"
   ]
  },
  {
   "cell_type": "code",
   "execution_count": 37,
   "id": "619f0206-40c6-48f2-afb2-49f93e47a5d0",
   "metadata": {},
   "outputs": [
    {
     "data": {
      "image/png": "[encoded data removed]",
      "text/plain": [
       "<Figure size 1000x500 with 1 Axes>"
      ]
     },
     "metadata": {},
     "output_type": "display_data"
    },
    {
     "data": {
      "image/png": "[encoded data removed]",
      "text/plain": [
       "<Figure size 1000x500 with 1 Axes>"
      ]
     },
     "metadata": {},
     "output_type": "display_data"
    },
    {
     "data": {
      "image/png": "[encoded data removed]",
      "text/plain": [
       "<Figure size 1000x500 with 1 Axes>"
      ]
     },
     "metadata": {},
     "output_type": "display_data"
    }
   ],
   "source": [
    "#list of numerical columns to visualize\n",
    "truck_num_cols=['truck_age','load_capacity_pounds','mileage_mpg']\n",
    "\n",
    "#loop through each numerical column and create histograms with KDE\n",
    "for col in truck_num_cols:\n",
    "    plt.figure(figsize=(10, 5))\n",
    "\n",
    "    #Create a histogram with KDE using seaborn\n",
    "    sns.histplot(truck_df[col], bins=30, kde=True)\n",
    "    #set the title\n",
    "    plt.title(f'{col} distribution')\n",
    "    #set the label for the x-axis\n",
    "    plt.xlabel(f'{col}')\n",
    "    plt.show()"
   ]
  },
  {
   "cell_type": "code",
   "execution_count": 38,
   "id": "5271959d-88e4-4993-a595-0548b1a22ff1",
   "metadata": {},
   "outputs": [
    {
     "data": {
      "text/html": [
       "<div>\n",
       "<style scoped>\n",
       "    .dataframe tbody tr th:only-of-type {\n",
       "        vertical-align: middle;\n",
       "    }\n",
       "\n",
       "    .dataframe tbody tr th {\n",
       "        vertical-align: top;\n",
       "    }\n",
       "\n",
       "    .dataframe thead th {\n",
       "        text-align: right;\n",
       "    }\n",
       "</style>\n",
       "<table border=\"1\" class=\"dataframe\">\n",
       "  <thead>\n",
       "    <tr style=\"text-align: right;\">\n",
       "      <th></th>\n",
       "      <th>truck_id</th>\n",
       "      <th>truck_age</th>\n",
       "      <th>load_capacity_pounds</th>\n",
       "      <th>mileage_mpg</th>\n",
       "      <th>fuel_type</th>\n",
       "    </tr>\n",
       "  </thead>\n",
       "  <tbody>\n",
       "    <tr>\n",
       "      <th>5</th>\n",
       "      <td>29303248</td>\n",
       "      <td>9</td>\n",
       "      <td>4000.0</td>\n",
       "      <td>15</td>\n",
       "      <td>gas</td>\n",
       "    </tr>\n",
       "    <tr>\n",
       "      <th>7</th>\n",
       "      <td>21093078</td>\n",
       "      <td>8</td>\n",
       "      <td>NaN</td>\n",
       "      <td>14</td>\n",
       "      <td>gas</td>\n",
       "    </tr>\n",
       "    <tr>\n",
       "      <th>20</th>\n",
       "      <td>96362807</td>\n",
       "      <td>11</td>\n",
       "      <td>3000.0</td>\n",
       "      <td>14</td>\n",
       "      <td>gas</td>\n",
       "    </tr>\n",
       "    <tr>\n",
       "      <th>27</th>\n",
       "      <td>25645401</td>\n",
       "      <td>12</td>\n",
       "      <td>6000.0</td>\n",
       "      <td>14</td>\n",
       "      <td>gas</td>\n",
       "    </tr>\n",
       "    <tr>\n",
       "      <th>35</th>\n",
       "      <td>14541120</td>\n",
       "      <td>12</td>\n",
       "      <td>15000.0</td>\n",
       "      <td>14</td>\n",
       "      <td>gas</td>\n",
       "    </tr>\n",
       "  </tbody>\n",
       "</table>\n",
       "</div>"
      ],
      "text/plain": [
       "    truck_id  truck_age  load_capacity_pounds  mileage_mpg fuel_type\n",
       "5   29303248          9                4000.0           15       gas\n",
       "7   21093078          8                   NaN           14       gas\n",
       "20  96362807         11                3000.0           14       gas\n",
       "27  25645401         12                6000.0           14       gas\n",
       "35  14541120         12               15000.0           14       gas"
      ]
     },
     "execution_count": 38,
     "metadata": {},
     "output_type": "execute_result"
    }
   ],
   "source": [
    "low_mileage=truck_df[truck_df['mileage_mpg']<=15]\n",
    "low_mileage.head()"
   ]
  },
  {
   "cell_type": "code",
   "execution_count": 39,
   "id": "299c2bb3-78be-47b8-a667-4cd542c7816c",
   "metadata": {},
   "outputs": [
    {
     "data": {
      "text/plain": [
       "(88, 5)"
      ]
     },
     "execution_count": 39,
     "metadata": {},
     "output_type": "execute_result"
    }
   ],
   "source": [
    "low_mileage.shape"
   ]
  },
  {
   "cell_type": "code",
   "execution_count": 40,
   "id": "41505bf3-230d-4351-abf3-ca22b3134feb",
   "metadata": {},
   "outputs": [
    {
     "data": {
      "image/png": "[encoded data removed]",
      "text/plain": [
       "<Figure size 1000x500 with 1 Axes>"
      ]
     },
     "metadata": {},
     "output_type": "display_data"
    }
   ],
   "source": [
    "#plotting low_mileage against truck age\n",
    "\n",
    "plt.figure(figsize=(10, 5))\n",
    "\n",
    "#Create a histogram with KDE using seaborn\n",
    "sns.histplot(low_mileage[\"truck_age\"], bins=30, kde=True)\n",
    "#set the title\n",
    "plt.title(f'{\"truck_age\"} distribution')\n",
    "#set the label for the x-axis\n",
    "plt.xlabel(f'{\"truck_age\"}')\n",
    "plt.show()"
   ]
  },
  {
   "cell_type": "markdown",
   "id": "f4e586ff-b69e-433a-b43c-fa995b2c4690",
   "metadata": {},
   "source": [
    "## Traffic and Weather Data Analysis"
   ]
  },
  {
   "cell_type": "code",
   "execution_count": 41,
   "id": "638131e1-3f8e-413f-acad-d2aef1736e6c",
   "metadata": {},
   "outputs": [
    {
     "data": {
      "text/html": [
       "<div>\n",
       "<style scoped>\n",
       "    .dataframe tbody tr th:only-of-type {\n",
       "        vertical-align: middle;\n",
       "    }\n",
       "\n",
       "    .dataframe tbody tr th {\n",
       "        vertical-align: top;\n",
       "    }\n",
       "\n",
       "    .dataframe thead th {\n",
       "        text-align: right;\n",
       "    }\n",
       "</style>\n",
       "<table border=\"1\" class=\"dataframe\">\n",
       "  <thead>\n",
       "    <tr style=\"text-align: right;\">\n",
       "      <th></th>\n",
       "      <th>route_id</th>\n",
       "      <th>date</th>\n",
       "      <th>hour</th>\n",
       "      <th>no_of_vehicles</th>\n",
       "      <th>accident</th>\n",
       "    </tr>\n",
       "  </thead>\n",
       "  <tbody>\n",
       "    <tr>\n",
       "      <th>0</th>\n",
       "      <td>R-ada2a391</td>\n",
       "      <td>2019-01-01</td>\n",
       "      <td>0</td>\n",
       "      <td>669.0</td>\n",
       "      <td>0</td>\n",
       "    </tr>\n",
       "    <tr>\n",
       "      <th>1</th>\n",
       "      <td>R-ada2a391</td>\n",
       "      <td>2019-01-01</td>\n",
       "      <td>100</td>\n",
       "      <td>628.0</td>\n",
       "      <td>0</td>\n",
       "    </tr>\n",
       "  </tbody>\n",
       "</table>\n",
       "</div>"
      ],
      "text/plain": [
       "     route_id        date  hour  no_of_vehicles  accident\n",
       "0  R-ada2a391  2019-01-01     0           669.0         0\n",
       "1  R-ada2a391  2019-01-01   100           628.0         0"
      ]
     },
     "execution_count": 41,
     "metadata": {},
     "output_type": "execute_result"
    }
   ],
   "source": [
    "traffic_df.head(2)"
   ]
  },
  {
   "cell_type": "code",
   "execution_count": 42,
   "id": "02c847f5-4153-483e-b855-fa3799d05b22",
   "metadata": {},
   "outputs": [
    {
     "name": "stdout",
     "output_type": "stream",
     "text": [
      "<class 'pandas.core.frame.DataFrame'>\n",
      "RangeIndex: 2597913 entries, 0 to 2597912\n",
      "Data columns (total 5 columns):\n",
      " #   Column          Dtype  \n",
      "---  ------          -----  \n",
      " 0   route_id        object \n",
      " 1   date            object \n",
      " 2   hour            int64  \n",
      " 3   no_of_vehicles  float64\n",
      " 4   accident        int64  \n",
      "dtypes: float64(1), int64(2), object(2)\n",
      "memory usage: 99.1+ MB\n"
     ]
    }
   ],
   "source": [
    "traffic_df.info()"
   ]
  },
  {
   "cell_type": "code",
   "execution_count": 43,
   "id": "3d5bcc93-4750-4636-8796-14e11cb80ba0",
   "metadata": {},
   "outputs": [
    {
     "data": {
      "text/html": [
       "<div>\n",
       "<style scoped>\n",
       "    .dataframe tbody tr th:only-of-type {\n",
       "        vertical-align: middle;\n",
       "    }\n",
       "\n",
       "    .dataframe tbody tr th {\n",
       "        vertical-align: top;\n",
       "    }\n",
       "\n",
       "    .dataframe thead th {\n",
       "        text-align: right;\n",
       "    }\n",
       "</style>\n",
       "<table border=\"1\" class=\"dataframe\">\n",
       "  <thead>\n",
       "    <tr style=\"text-align: right;\">\n",
       "      <th></th>\n",
       "      <th>route_id</th>\n",
       "      <th>date</th>\n",
       "      <th>hour</th>\n",
       "      <th>no_of_vehicles</th>\n",
       "      <th>accident</th>\n",
       "    </tr>\n",
       "  </thead>\n",
       "  <tbody>\n",
       "    <tr>\n",
       "      <th>count</th>\n",
       "      <td>2597913</td>\n",
       "      <td>2597913</td>\n",
       "      <td>2.597913e+06</td>\n",
       "      <td>2.596761e+06</td>\n",
       "      <td>2.597913e+06</td>\n",
       "    </tr>\n",
       "    <tr>\n",
       "      <th>unique</th>\n",
       "      <td>2352</td>\n",
       "      <td>46</td>\n",
       "      <td>NaN</td>\n",
       "      <td>NaN</td>\n",
       "      <td>NaN</td>\n",
       "    </tr>\n",
       "    <tr>\n",
       "      <th>top</th>\n",
       "      <td>R-48cfa4e6</td>\n",
       "      <td>2019-02-08</td>\n",
       "      <td>NaN</td>\n",
       "      <td>NaN</td>\n",
       "      <td>NaN</td>\n",
       "    </tr>\n",
       "    <tr>\n",
       "      <th>freq</th>\n",
       "      <td>1148</td>\n",
       "      <td>56488</td>\n",
       "      <td>NaN</td>\n",
       "      <td>NaN</td>\n",
       "      <td>NaN</td>\n",
       "    </tr>\n",
       "    <tr>\n",
       "      <th>mean</th>\n",
       "      <td>NaN</td>\n",
       "      <td>NaN</td>\n",
       "      <td>1.150021e+03</td>\n",
       "      <td>1.566776e+03</td>\n",
       "      <td>5.320848e-02</td>\n",
       "    </tr>\n",
       "    <tr>\n",
       "      <th>std</th>\n",
       "      <td>NaN</td>\n",
       "      <td>NaN</td>\n",
       "      <td>6.922211e+02</td>\n",
       "      <td>8.959424e+02</td>\n",
       "      <td>2.244490e-01</td>\n",
       "    </tr>\n",
       "    <tr>\n",
       "      <th>min</th>\n",
       "      <td>NaN</td>\n",
       "      <td>NaN</td>\n",
       "      <td>0.000000e+00</td>\n",
       "      <td>1.000000e+02</td>\n",
       "      <td>0.000000e+00</td>\n",
       "    </tr>\n",
       "    <tr>\n",
       "      <th>25%</th>\n",
       "      <td>NaN</td>\n",
       "      <td>NaN</td>\n",
       "      <td>6.000000e+02</td>\n",
       "      <td>6.060000e+02</td>\n",
       "      <td>0.000000e+00</td>\n",
       "    </tr>\n",
       "    <tr>\n",
       "      <th>50%</th>\n",
       "      <td>NaN</td>\n",
       "      <td>NaN</td>\n",
       "      <td>1.200000e+03</td>\n",
       "      <td>1.969000e+03</td>\n",
       "      <td>0.000000e+00</td>\n",
       "    </tr>\n",
       "    <tr>\n",
       "      <th>75%</th>\n",
       "      <td>NaN</td>\n",
       "      <td>NaN</td>\n",
       "      <td>1.800000e+03</td>\n",
       "      <td>2.326000e+03</td>\n",
       "      <td>0.000000e+00</td>\n",
       "    </tr>\n",
       "    <tr>\n",
       "      <th>max</th>\n",
       "      <td>NaN</td>\n",
       "      <td>NaN</td>\n",
       "      <td>2.300000e+03</td>\n",
       "      <td>3.636000e+03</td>\n",
       "      <td>1.000000e+00</td>\n",
       "    </tr>\n",
       "  </tbody>\n",
       "</table>\n",
       "</div>"
      ],
      "text/plain": [
       "          route_id        date          hour  no_of_vehicles      accident\n",
       "count      2597913     2597913  2.597913e+06    2.596761e+06  2.597913e+06\n",
       "unique        2352          46           NaN             NaN           NaN\n",
       "top     R-48cfa4e6  2019-02-08           NaN             NaN           NaN\n",
       "freq          1148       56488           NaN             NaN           NaN\n",
       "mean           NaN         NaN  1.150021e+03    1.566776e+03  5.320848e-02\n",
       "std            NaN         NaN  6.922211e+02    8.959424e+02  2.244490e-01\n",
       "min            NaN         NaN  0.000000e+00    1.000000e+02  0.000000e+00\n",
       "25%            NaN         NaN  6.000000e+02    6.060000e+02  0.000000e+00\n",
       "50%            NaN         NaN  1.200000e+03    1.969000e+03  0.000000e+00\n",
       "75%            NaN         NaN  1.800000e+03    2.326000e+03  0.000000e+00\n",
       "max            NaN         NaN  2.300000e+03    3.636000e+03  1.000000e+00"
      ]
     },
     "execution_count": 43,
     "metadata": {},
     "output_type": "execute_result"
    }
   ],
   "source": [
    "traffic_df.describe(include='all')"
   ]
  },
  {
   "cell_type": "code",
   "execution_count": 44,
   "id": "8d81afdc-7bcb-4045-9ba2-5a9a29c99772",
   "metadata": {},
   "outputs": [],
   "source": [
    "def categorize_time(hour):\n",
    "    if 300<=hour<600:\n",
    "        return 'Early Morning'\n",
    "    elif 600 <= hour <1200:\n",
    "        return 'Morning'\n",
    "    elif 1200 <= hour < 1600:\n",
    "        return 'Noon'\n",
    "    elif 1600 <= hour < 2000:\n",
    "        return 'Evening'\n",
    "    elif 2000 <= hour < 2300:\n",
    "        return 'Night'\n",
    "    elif 0 <= hour < 300:\n",
    "        return 'Night'\n",
    "traffic=traffic_df.copy()\n",
    "traffic['time_category']=traffic['hour'].apply(categorize_time)\n",
    "        \n",
    "        "
   ]
  },
  {
   "cell_type": "code",
   "execution_count": 45,
   "id": "a67761dc-0be8-4f1e-a26f-fb92fe8b11ad",
   "metadata": {},
   "outputs": [
    {
     "data": {
      "text/html": [
       "<div>\n",
       "<style scoped>\n",
       "    .dataframe tbody tr th:only-of-type {\n",
       "        vertical-align: middle;\n",
       "    }\n",
       "\n",
       "    .dataframe tbody tr th {\n",
       "        vertical-align: top;\n",
       "    }\n",
       "\n",
       "    .dataframe thead th {\n",
       "        text-align: right;\n",
       "    }\n",
       "</style>\n",
       "<table border=\"1\" class=\"dataframe\">\n",
       "  <thead>\n",
       "    <tr style=\"text-align: right;\">\n",
       "      <th></th>\n",
       "      <th>route_id</th>\n",
       "      <th>date</th>\n",
       "      <th>hour</th>\n",
       "      <th>no_of_vehicles</th>\n",
       "      <th>accident</th>\n",
       "      <th>time_category</th>\n",
       "    </tr>\n",
       "  </thead>\n",
       "  <tbody>\n",
       "    <tr>\n",
       "      <th>0</th>\n",
       "      <td>R-ada2a391</td>\n",
       "      <td>2019-01-01</td>\n",
       "      <td>0</td>\n",
       "      <td>669.0</td>\n",
       "      <td>0</td>\n",
       "      <td>Night</td>\n",
       "    </tr>\n",
       "    <tr>\n",
       "      <th>1</th>\n",
       "      <td>R-ada2a391</td>\n",
       "      <td>2019-01-01</td>\n",
       "      <td>100</td>\n",
       "      <td>628.0</td>\n",
       "      <td>0</td>\n",
       "      <td>Night</td>\n",
       "    </tr>\n",
       "    <tr>\n",
       "      <th>2</th>\n",
       "      <td>R-ada2a391</td>\n",
       "      <td>2019-01-01</td>\n",
       "      <td>200</td>\n",
       "      <td>516.0</td>\n",
       "      <td>0</td>\n",
       "      <td>Night</td>\n",
       "    </tr>\n",
       "    <tr>\n",
       "      <th>3</th>\n",
       "      <td>R-ada2a391</td>\n",
       "      <td>2019-01-01</td>\n",
       "      <td>300</td>\n",
       "      <td>582.0</td>\n",
       "      <td>0</td>\n",
       "      <td>Early Morning</td>\n",
       "    </tr>\n",
       "    <tr>\n",
       "      <th>4</th>\n",
       "      <td>R-ada2a391</td>\n",
       "      <td>2019-01-01</td>\n",
       "      <td>400</td>\n",
       "      <td>564.0</td>\n",
       "      <td>0</td>\n",
       "      <td>Early Morning</td>\n",
       "    </tr>\n",
       "  </tbody>\n",
       "</table>\n",
       "</div>"
      ],
      "text/plain": [
       "     route_id        date  hour  no_of_vehicles  accident  time_category\n",
       "0  R-ada2a391  2019-01-01     0           669.0         0          Night\n",
       "1  R-ada2a391  2019-01-01   100           628.0         0          Night\n",
       "2  R-ada2a391  2019-01-01   200           516.0         0          Night\n",
       "3  R-ada2a391  2019-01-01   300           582.0         0  Early Morning\n",
       "4  R-ada2a391  2019-01-01   400           564.0         0  Early Morning"
      ]
     },
     "execution_count": 45,
     "metadata": {},
     "output_type": "execute_result"
    }
   ],
   "source": [
    "traffic.head()"
   ]
  },
  {
   "cell_type": "code",
   "execution_count": 46,
   "id": "f9aebc43-c0fe-41a3-95d4-c32e9003a6eb",
   "metadata": {},
   "outputs": [
    {
     "data": {
      "text/plain": [
       "time_category\n",
       "Early Morning     563.030071\n",
       "Evening          1999.185426\n",
       "Morning          1735.696694\n",
       "Night            1263.594675\n",
       "Noon             1990.786218\n",
       "Name: no_of_vehicles, dtype: float64"
      ]
     },
     "execution_count": 46,
     "metadata": {},
     "output_type": "execute_result"
    }
   ],
   "source": [
    "traffic.groupby('time_category')['no_of_vehicles'].mean()"
   ]
  },
  {
   "cell_type": "code",
   "execution_count": 47,
   "id": "725c33d4-0731-4671-bdb7-8de64d57d6ed",
   "metadata": {},
   "outputs": [
    {
     "data": {
      "text/plain": [
       "time_category\n",
       "Early Morning    17315\n",
       "Evening          22863\n",
       "Morning          34477\n",
       "Night            34965\n",
       "Noon             22805\n",
       "Name: accident, dtype: int64"
      ]
     },
     "execution_count": 47,
     "metadata": {},
     "output_type": "execute_result"
    }
   ],
   "source": [
    "traffic.groupby('time_category')['accident'].sum()"
   ]
  },
  {
   "cell_type": "code",
   "execution_count": 48,
   "id": "afc14239-2e20-4eee-9c39-e4e1e187f232",
   "metadata": {},
   "outputs": [],
   "source": [
    "traffic['date']=pd.to_datetime(traffic['date'])"
   ]
  },
  {
   "cell_type": "markdown",
   "id": "da50f70e-eb92-4abf-aa7d-2346457bfc25",
   "metadata": {},
   "source": [
    "## City Weather Analysis"
   ]
  },
  {
   "cell_type": "code",
   "execution_count": 49,
   "id": "de993b82-9c77-47a8-962f-0a2788c574f9",
   "metadata": {},
   "outputs": [
    {
     "data": {
      "text/html": [
       "<div>\n",
       "<style scoped>\n",
       "    .dataframe tbody tr th:only-of-type {\n",
       "        vertical-align: middle;\n",
       "    }\n",
       "\n",
       "    .dataframe tbody tr th {\n",
       "        vertical-align: top;\n",
       "    }\n",
       "\n",
       "    .dataframe thead th {\n",
       "        text-align: right;\n",
       "    }\n",
       "</style>\n",
       "<table border=\"1\" class=\"dataframe\">\n",
       "  <thead>\n",
       "    <tr style=\"text-align: right;\">\n",
       "      <th></th>\n",
       "      <th>city_id</th>\n",
       "      <th>date</th>\n",
       "      <th>hour</th>\n",
       "      <th>temp</th>\n",
       "      <th>wind_speed</th>\n",
       "      <th>description</th>\n",
       "      <th>precip</th>\n",
       "      <th>humidity</th>\n",
       "      <th>visibility</th>\n",
       "      <th>pressure</th>\n",
       "      <th>chanceofrain</th>\n",
       "      <th>chanceoffog</th>\n",
       "      <th>chanceofsnow</th>\n",
       "      <th>chanceofthunder</th>\n",
       "    </tr>\n",
       "  </thead>\n",
       "  <tbody>\n",
       "    <tr>\n",
       "      <th>0</th>\n",
       "      <td>C-927ceb5e</td>\n",
       "      <td>2019-01-01</td>\n",
       "      <td>0</td>\n",
       "      <td>30.0</td>\n",
       "      <td>11.0</td>\n",
       "      <td>Light snow</td>\n",
       "      <td>0.0</td>\n",
       "      <td>86</td>\n",
       "      <td>6.0</td>\n",
       "      <td>1019.0</td>\n",
       "      <td>0.0</td>\n",
       "      <td>0.0</td>\n",
       "      <td>0.0</td>\n",
       "      <td>0.0</td>\n",
       "    </tr>\n",
       "    <tr>\n",
       "      <th>1</th>\n",
       "      <td>C-927ceb5e</td>\n",
       "      <td>2019-01-01</td>\n",
       "      <td>100</td>\n",
       "      <td>28.0</td>\n",
       "      <td>12.0</td>\n",
       "      <td>Light snow</td>\n",
       "      <td>0.0</td>\n",
       "      <td>86</td>\n",
       "      <td>5.0</td>\n",
       "      <td>1021.0</td>\n",
       "      <td>0.0</td>\n",
       "      <td>0.0</td>\n",
       "      <td>0.0</td>\n",
       "      <td>0.0</td>\n",
       "    </tr>\n",
       "  </tbody>\n",
       "</table>\n",
       "</div>"
      ],
      "text/plain": [
       "      city_id        date  hour  temp  wind_speed description  precip  \\\n",
       "0  C-927ceb5e  2019-01-01     0  30.0        11.0  Light snow     0.0   \n",
       "1  C-927ceb5e  2019-01-01   100  28.0        12.0  Light snow     0.0   \n",
       "\n",
       "   humidity  visibility  pressure  chanceofrain  chanceoffog  chanceofsnow  \\\n",
       "0        86         6.0    1019.0           0.0          0.0           0.0   \n",
       "1        86         5.0    1021.0           0.0          0.0           0.0   \n",
       "\n",
       "   chanceofthunder  \n",
       "0              0.0  \n",
       "1              0.0  "
      ]
     },
     "execution_count": 49,
     "metadata": {},
     "output_type": "execute_result"
    }
   ],
   "source": [
    "city_weather.head(2)"
   ]
  },
  {
   "cell_type": "code",
   "execution_count": 50,
   "id": "8b0431b1-724e-4068-a014-62c3515ca539",
   "metadata": {},
   "outputs": [
    {
     "name": "stdout",
     "output_type": "stream",
     "text": [
      "<class 'pandas.core.frame.DataFrame'>\n",
      "RangeIndex: 55176 entries, 0 to 55175\n",
      "Data columns (total 14 columns):\n",
      " #   Column           Non-Null Count  Dtype  \n",
      "---  ------           --------------  -----  \n",
      " 0   city_id          55176 non-null  object \n",
      " 1   date             55176 non-null  object \n",
      " 2   hour             55176 non-null  int64  \n",
      " 3   temp             55176 non-null  float64\n",
      " 4   wind_speed       55176 non-null  float64\n",
      " 5   description      55176 non-null  object \n",
      " 6   precip           55176 non-null  float64\n",
      " 7   humidity         55176 non-null  int64  \n",
      " 8   visibility       55176 non-null  float64\n",
      " 9   pressure         55176 non-null  float64\n",
      " 10  chanceofrain     55176 non-null  float64\n",
      " 11  chanceoffog      55176 non-null  float64\n",
      " 12  chanceofsnow     55176 non-null  float64\n",
      " 13  chanceofthunder  55176 non-null  float64\n",
      "dtypes: float64(9), int64(2), object(3)\n",
      "memory usage: 5.9+ MB\n"
     ]
    }
   ],
   "source": [
    "city_weather.info()"
   ]
  },
  {
   "cell_type": "code",
   "execution_count": 51,
   "id": "2648bf5a-9f5e-4ce7-a267-e55822a6b255",
   "metadata": {},
   "outputs": [],
   "source": [
    "city_weather['date']=pd.to_datetime(city_weather['date'])"
   ]
  },
  {
   "cell_type": "code",
   "execution_count": 52,
   "id": "62da2cf9-a128-480b-a49b-2826f1b191ee",
   "metadata": {},
   "outputs": [
    {
     "name": "stderr",
     "output_type": "stream",
     "text": [
      "/tmp/ipykernel_11076/3640512792.py:1: FutureWarning: Treating datetime data as categorical rather than numeric in `.describe` is deprecated and will be removed in a future version of pandas. Specify `datetime_is_numeric=True` to silence this warning and adopt the future behavior now.\n",
      "  city_weather.describe(include='all')\n"
     ]
    },
    {
     "data": {
      "text/html": [
       "<div>\n",
       "<style scoped>\n",
       "    .dataframe tbody tr th:only-of-type {\n",
       "        vertical-align: middle;\n",
       "    }\n",
       "\n",
       "    .dataframe tbody tr th {\n",
       "        vertical-align: top;\n",
       "    }\n",
       "\n",
       "    .dataframe thead th {\n",
       "        text-align: right;\n",
       "    }\n",
       "</style>\n",
       "<table border=\"1\" class=\"dataframe\">\n",
       "  <thead>\n",
       "    <tr style=\"text-align: right;\">\n",
       "      <th></th>\n",
       "      <th>city_id</th>\n",
       "      <th>date</th>\n",
       "      <th>hour</th>\n",
       "      <th>temp</th>\n",
       "      <th>wind_speed</th>\n",
       "      <th>description</th>\n",
       "      <th>precip</th>\n",
       "      <th>humidity</th>\n",
       "      <th>visibility</th>\n",
       "      <th>pressure</th>\n",
       "      <th>chanceofrain</th>\n",
       "      <th>chanceoffog</th>\n",
       "      <th>chanceofsnow</th>\n",
       "      <th>chanceofthunder</th>\n",
       "    </tr>\n",
       "  </thead>\n",
       "  <tbody>\n",
       "    <tr>\n",
       "      <th>count</th>\n",
       "      <td>55176</td>\n",
       "      <td>55176</td>\n",
       "      <td>55176.000000</td>\n",
       "      <td>55176.000000</td>\n",
       "      <td>55176.000000</td>\n",
       "      <td>55176</td>\n",
       "      <td>55176.000000</td>\n",
       "      <td>55176.000000</td>\n",
       "      <td>55176.000000</td>\n",
       "      <td>55176.000000</td>\n",
       "      <td>55176.0</td>\n",
       "      <td>55176.0</td>\n",
       "      <td>55176.0</td>\n",
       "      <td>55176.0</td>\n",
       "    </tr>\n",
       "    <tr>\n",
       "      <th>unique</th>\n",
       "      <td>49</td>\n",
       "      <td>46</td>\n",
       "      <td>NaN</td>\n",
       "      <td>NaN</td>\n",
       "      <td>NaN</td>\n",
       "      <td>47</td>\n",
       "      <td>NaN</td>\n",
       "      <td>NaN</td>\n",
       "      <td>NaN</td>\n",
       "      <td>NaN</td>\n",
       "      <td>NaN</td>\n",
       "      <td>NaN</td>\n",
       "      <td>NaN</td>\n",
       "      <td>NaN</td>\n",
       "    </tr>\n",
       "    <tr>\n",
       "      <th>top</th>\n",
       "      <td>C-9bbf5d8a</td>\n",
       "      <td>2019-01-01 00:00:00</td>\n",
       "      <td>NaN</td>\n",
       "      <td>NaN</td>\n",
       "      <td>NaN</td>\n",
       "      <td>Clear</td>\n",
       "      <td>NaN</td>\n",
       "      <td>NaN</td>\n",
       "      <td>NaN</td>\n",
       "      <td>NaN</td>\n",
       "      <td>NaN</td>\n",
       "      <td>NaN</td>\n",
       "      <td>NaN</td>\n",
       "      <td>NaN</td>\n",
       "    </tr>\n",
       "    <tr>\n",
       "      <th>freq</th>\n",
       "      <td>2208</td>\n",
       "      <td>1200</td>\n",
       "      <td>NaN</td>\n",
       "      <td>NaN</td>\n",
       "      <td>NaN</td>\n",
       "      <td>10252</td>\n",
       "      <td>NaN</td>\n",
       "      <td>NaN</td>\n",
       "      <td>NaN</td>\n",
       "      <td>NaN</td>\n",
       "      <td>NaN</td>\n",
       "      <td>NaN</td>\n",
       "      <td>NaN</td>\n",
       "      <td>NaN</td>\n",
       "    </tr>\n",
       "    <tr>\n",
       "      <th>first</th>\n",
       "      <td>NaN</td>\n",
       "      <td>2019-01-01 00:00:00</td>\n",
       "      <td>NaN</td>\n",
       "      <td>NaN</td>\n",
       "      <td>NaN</td>\n",
       "      <td>NaN</td>\n",
       "      <td>NaN</td>\n",
       "      <td>NaN</td>\n",
       "      <td>NaN</td>\n",
       "      <td>NaN</td>\n",
       "      <td>NaN</td>\n",
       "      <td>NaN</td>\n",
       "      <td>NaN</td>\n",
       "      <td>NaN</td>\n",
       "    </tr>\n",
       "    <tr>\n",
       "      <th>last</th>\n",
       "      <td>NaN</td>\n",
       "      <td>2019-02-15 00:00:00</td>\n",
       "      <td>NaN</td>\n",
       "      <td>NaN</td>\n",
       "      <td>NaN</td>\n",
       "      <td>NaN</td>\n",
       "      <td>NaN</td>\n",
       "      <td>NaN</td>\n",
       "      <td>NaN</td>\n",
       "      <td>NaN</td>\n",
       "      <td>NaN</td>\n",
       "      <td>NaN</td>\n",
       "      <td>NaN</td>\n",
       "      <td>NaN</td>\n",
       "    </tr>\n",
       "    <tr>\n",
       "      <th>mean</th>\n",
       "      <td>NaN</td>\n",
       "      <td>NaN</td>\n",
       "      <td>1150.000000</td>\n",
       "      <td>36.896169</td>\n",
       "      <td>7.888647</td>\n",
       "      <td>NaN</td>\n",
       "      <td>0.003614</td>\n",
       "      <td>70.808141</td>\n",
       "      <td>5.168878</td>\n",
       "      <td>1019.413404</td>\n",
       "      <td>0.0</td>\n",
       "      <td>0.0</td>\n",
       "      <td>0.0</td>\n",
       "      <td>0.0</td>\n",
       "    </tr>\n",
       "    <tr>\n",
       "      <th>std</th>\n",
       "      <td>NaN</td>\n",
       "      <td>NaN</td>\n",
       "      <td>692.224928</td>\n",
       "      <td>21.766273</td>\n",
       "      <td>4.349798</td>\n",
       "      <td>NaN</td>\n",
       "      <td>0.023185</td>\n",
       "      <td>21.078367</td>\n",
       "      <td>1.639954</td>\n",
       "      <td>8.543195</td>\n",
       "      <td>0.0</td>\n",
       "      <td>0.0</td>\n",
       "      <td>0.0</td>\n",
       "      <td>0.0</td>\n",
       "    </tr>\n",
       "    <tr>\n",
       "      <th>min</th>\n",
       "      <td>NaN</td>\n",
       "      <td>NaN</td>\n",
       "      <td>0.000000</td>\n",
       "      <td>-35.000000</td>\n",
       "      <td>0.000000</td>\n",
       "      <td>NaN</td>\n",
       "      <td>0.000000</td>\n",
       "      <td>3.000000</td>\n",
       "      <td>0.000000</td>\n",
       "      <td>988.000000</td>\n",
       "      <td>0.0</td>\n",
       "      <td>0.0</td>\n",
       "      <td>0.0</td>\n",
       "      <td>0.0</td>\n",
       "    </tr>\n",
       "    <tr>\n",
       "      <th>25%</th>\n",
       "      <td>NaN</td>\n",
       "      <td>NaN</td>\n",
       "      <td>575.000000</td>\n",
       "      <td>23.000000</td>\n",
       "      <td>5.000000</td>\n",
       "      <td>NaN</td>\n",
       "      <td>0.000000</td>\n",
       "      <td>57.000000</td>\n",
       "      <td>6.000000</td>\n",
       "      <td>1014.000000</td>\n",
       "      <td>0.0</td>\n",
       "      <td>0.0</td>\n",
       "      <td>0.0</td>\n",
       "      <td>0.0</td>\n",
       "    </tr>\n",
       "    <tr>\n",
       "      <th>50%</th>\n",
       "      <td>NaN</td>\n",
       "      <td>NaN</td>\n",
       "      <td>1150.000000</td>\n",
       "      <td>34.000000</td>\n",
       "      <td>7.000000</td>\n",
       "      <td>NaN</td>\n",
       "      <td>0.000000</td>\n",
       "      <td>75.000000</td>\n",
       "      <td>6.000000</td>\n",
       "      <td>1019.000000</td>\n",
       "      <td>0.0</td>\n",
       "      <td>0.0</td>\n",
       "      <td>0.0</td>\n",
       "      <td>0.0</td>\n",
       "    </tr>\n",
       "    <tr>\n",
       "      <th>75%</th>\n",
       "      <td>NaN</td>\n",
       "      <td>NaN</td>\n",
       "      <td>1725.000000</td>\n",
       "      <td>48.000000</td>\n",
       "      <td>11.000000</td>\n",
       "      <td>NaN</td>\n",
       "      <td>0.000000</td>\n",
       "      <td>88.000000</td>\n",
       "      <td>6.000000</td>\n",
       "      <td>1025.000000</td>\n",
       "      <td>0.0</td>\n",
       "      <td>0.0</td>\n",
       "      <td>0.0</td>\n",
       "      <td>0.0</td>\n",
       "    </tr>\n",
       "    <tr>\n",
       "      <th>max</th>\n",
       "      <td>NaN</td>\n",
       "      <td>NaN</td>\n",
       "      <td>2300.000000</td>\n",
       "      <td>104.000000</td>\n",
       "      <td>33.000000</td>\n",
       "      <td>NaN</td>\n",
       "      <td>0.800000</td>\n",
       "      <td>100.000000</td>\n",
       "      <td>6.000000</td>\n",
       "      <td>1049.000000</td>\n",
       "      <td>0.0</td>\n",
       "      <td>0.0</td>\n",
       "      <td>0.0</td>\n",
       "      <td>0.0</td>\n",
       "    </tr>\n",
       "  </tbody>\n",
       "</table>\n",
       "</div>"
      ],
      "text/plain": [
       "           city_id                 date          hour          temp  \\\n",
       "count        55176                55176  55176.000000  55176.000000   \n",
       "unique          49                   46           NaN           NaN   \n",
       "top     C-9bbf5d8a  2019-01-01 00:00:00           NaN           NaN   \n",
       "freq          2208                 1200           NaN           NaN   \n",
       "first          NaN  2019-01-01 00:00:00           NaN           NaN   \n",
       "last           NaN  2019-02-15 00:00:00           NaN           NaN   \n",
       "mean           NaN                  NaN   1150.000000     36.896169   \n",
       "std            NaN                  NaN    692.224928     21.766273   \n",
       "min            NaN                  NaN      0.000000    -35.000000   \n",
       "25%            NaN                  NaN    575.000000     23.000000   \n",
       "50%            NaN                  NaN   1150.000000     34.000000   \n",
       "75%            NaN                  NaN   1725.000000     48.000000   \n",
       "max            NaN                  NaN   2300.000000    104.000000   \n",
       "\n",
       "          wind_speed description        precip      humidity    visibility  \\\n",
       "count   55176.000000       55176  55176.000000  55176.000000  55176.000000   \n",
       "unique           NaN          47           NaN           NaN           NaN   \n",
       "top              NaN       Clear           NaN           NaN           NaN   \n",
       "freq             NaN       10252           NaN           NaN           NaN   \n",
       "first            NaN         NaN           NaN           NaN           NaN   \n",
       "last             NaN         NaN           NaN           NaN           NaN   \n",
       "mean        7.888647         NaN      0.003614     70.808141      5.168878   \n",
       "std         4.349798         NaN      0.023185     21.078367      1.639954   \n",
       "min         0.000000         NaN      0.000000      3.000000      0.000000   \n",
       "25%         5.000000         NaN      0.000000     57.000000      6.000000   \n",
       "50%         7.000000         NaN      0.000000     75.000000      6.000000   \n",
       "75%        11.000000         NaN      0.000000     88.000000      6.000000   \n",
       "max        33.000000         NaN      0.800000    100.000000      6.000000   \n",
       "\n",
       "            pressure  chanceofrain  chanceoffog  chanceofsnow  chanceofthunder  \n",
       "count   55176.000000       55176.0      55176.0       55176.0          55176.0  \n",
       "unique           NaN           NaN          NaN           NaN              NaN  \n",
       "top              NaN           NaN          NaN           NaN              NaN  \n",
       "freq             NaN           NaN          NaN           NaN              NaN  \n",
       "first            NaN           NaN          NaN           NaN              NaN  \n",
       "last             NaN           NaN          NaN           NaN              NaN  \n",
       "mean     1019.413404           0.0          0.0           0.0              0.0  \n",
       "std         8.543195           0.0          0.0           0.0              0.0  \n",
       "min       988.000000           0.0          0.0           0.0              0.0  \n",
       "25%      1014.000000           0.0          0.0           0.0              0.0  \n",
       "50%      1019.000000           0.0          0.0           0.0              0.0  \n",
       "75%      1025.000000           0.0          0.0           0.0              0.0  \n",
       "max      1049.000000           0.0          0.0           0.0              0.0  "
      ]
     },
     "execution_count": 52,
     "metadata": {},
     "output_type": "execute_result"
    }
   ],
   "source": [
    "city_weather.describe(include='all')"
   ]
  },
  {
   "cell_type": "markdown",
   "id": "665e1444-be22-40a5-aac0-fbc14ab530f3",
   "metadata": {},
   "source": [
    "## Routes Data Analysis"
   ]
  },
  {
   "cell_type": "code",
   "execution_count": 53,
   "id": "d188dea0-a229-464a-8a98-4af8dc3b3a33",
   "metadata": {},
   "outputs": [
    {
     "data": {
      "text/html": [
       "<div>\n",
       "<style scoped>\n",
       "    .dataframe tbody tr th:only-of-type {\n",
       "        vertical-align: middle;\n",
       "    }\n",
       "\n",
       "    .dataframe tbody tr th {\n",
       "        vertical-align: top;\n",
       "    }\n",
       "\n",
       "    .dataframe thead th {\n",
       "        text-align: right;\n",
       "    }\n",
       "</style>\n",
       "<table border=\"1\" class=\"dataframe\">\n",
       "  <thead>\n",
       "    <tr style=\"text-align: right;\">\n",
       "      <th></th>\n",
       "      <th>route_id</th>\n",
       "      <th>origin_id</th>\n",
       "      <th>destination_id</th>\n",
       "      <th>distance</th>\n",
       "      <th>average_hours</th>\n",
       "    </tr>\n",
       "  </thead>\n",
       "  <tbody>\n",
       "    <tr>\n",
       "      <th>0</th>\n",
       "      <td>R-ada2a391</td>\n",
       "      <td>C-927ceb5e</td>\n",
       "      <td>C-56e39a5e</td>\n",
       "      <td>1735.06</td>\n",
       "      <td>34.70</td>\n",
       "    </tr>\n",
       "    <tr>\n",
       "      <th>1</th>\n",
       "      <td>R-ae0ef31f</td>\n",
       "      <td>C-927ceb5e</td>\n",
       "      <td>C-73ae5412</td>\n",
       "      <td>1498.24</td>\n",
       "      <td>29.96</td>\n",
       "    </tr>\n",
       "  </tbody>\n",
       "</table>\n",
       "</div>"
      ],
      "text/plain": [
       "     route_id   origin_id destination_id  distance  average_hours\n",
       "0  R-ada2a391  C-927ceb5e     C-56e39a5e   1735.06          34.70\n",
       "1  R-ae0ef31f  C-927ceb5e     C-73ae5412   1498.24          29.96"
      ]
     },
     "execution_count": 53,
     "metadata": {},
     "output_type": "execute_result"
    }
   ],
   "source": [
    "routes_df.head(2)"
   ]
  },
  {
   "cell_type": "code",
   "execution_count": 54,
   "id": "d32d9b78-57ba-429b-904a-fbea27be3f81",
   "metadata": {},
   "outputs": [
    {
     "name": "stdout",
     "output_type": "stream",
     "text": [
      "<class 'pandas.core.frame.DataFrame'>\n",
      "RangeIndex: 2352 entries, 0 to 2351\n",
      "Data columns (total 5 columns):\n",
      " #   Column          Non-Null Count  Dtype  \n",
      "---  ------          --------------  -----  \n",
      " 0   route_id        2352 non-null   object \n",
      " 1   origin_id       2352 non-null   object \n",
      " 2   destination_id  2352 non-null   object \n",
      " 3   distance        2352 non-null   float64\n",
      " 4   average_hours   2352 non-null   float64\n",
      "dtypes: float64(2), object(3)\n",
      "memory usage: 92.0+ KB\n"
     ]
    }
   ],
   "source": [
    "routes_df.info()"
   ]
  },
  {
   "cell_type": "code",
   "execution_count": 55,
   "id": "c57730c0-1eea-493d-b567-17618365a879",
   "metadata": {},
   "outputs": [
    {
     "data": {
      "text/html": [
       "<div>\n",
       "<style scoped>\n",
       "    .dataframe tbody tr th:only-of-type {\n",
       "        vertical-align: middle;\n",
       "    }\n",
       "\n",
       "    .dataframe tbody tr th {\n",
       "        vertical-align: top;\n",
       "    }\n",
       "\n",
       "    .dataframe thead th {\n",
       "        text-align: right;\n",
       "    }\n",
       "</style>\n",
       "<table border=\"1\" class=\"dataframe\">\n",
       "  <thead>\n",
       "    <tr style=\"text-align: right;\">\n",
       "      <th></th>\n",
       "      <th>route_id</th>\n",
       "      <th>origin_id</th>\n",
       "      <th>destination_id</th>\n",
       "      <th>distance</th>\n",
       "      <th>average_hours</th>\n",
       "    </tr>\n",
       "  </thead>\n",
       "  <tbody>\n",
       "    <tr>\n",
       "      <th>count</th>\n",
       "      <td>2352</td>\n",
       "      <td>2352</td>\n",
       "      <td>2352</td>\n",
       "      <td>2352.000000</td>\n",
       "      <td>2352.000000</td>\n",
       "    </tr>\n",
       "    <tr>\n",
       "      <th>unique</th>\n",
       "      <td>2352</td>\n",
       "      <td>49</td>\n",
       "      <td>49</td>\n",
       "      <td>NaN</td>\n",
       "      <td>NaN</td>\n",
       "    </tr>\n",
       "    <tr>\n",
       "      <th>top</th>\n",
       "      <td>R-38a366a9</td>\n",
       "      <td>C-927ceb5e</td>\n",
       "      <td>C-56e39a5e</td>\n",
       "      <td>NaN</td>\n",
       "      <td>NaN</td>\n",
       "    </tr>\n",
       "    <tr>\n",
       "      <th>freq</th>\n",
       "      <td>1</td>\n",
       "      <td>48</td>\n",
       "      <td>48</td>\n",
       "      <td>NaN</td>\n",
       "      <td>NaN</td>\n",
       "    </tr>\n",
       "    <tr>\n",
       "      <th>mean</th>\n",
       "      <td>NaN</td>\n",
       "      <td>NaN</td>\n",
       "      <td>NaN</td>\n",
       "      <td>2376.825230</td>\n",
       "      <td>47.536556</td>\n",
       "    </tr>\n",
       "    <tr>\n",
       "      <th>std</th>\n",
       "      <td>NaN</td>\n",
       "      <td>NaN</td>\n",
       "      <td>NaN</td>\n",
       "      <td>2696.904248</td>\n",
       "      <td>53.938045</td>\n",
       "    </tr>\n",
       "    <tr>\n",
       "      <th>min</th>\n",
       "      <td>NaN</td>\n",
       "      <td>NaN</td>\n",
       "      <td>NaN</td>\n",
       "      <td>3.900000</td>\n",
       "      <td>0.080000</td>\n",
       "    </tr>\n",
       "    <tr>\n",
       "      <th>25%</th>\n",
       "      <td>NaN</td>\n",
       "      <td>NaN</td>\n",
       "      <td>NaN</td>\n",
       "      <td>557.365000</td>\n",
       "      <td>11.147500</td>\n",
       "    </tr>\n",
       "    <tr>\n",
       "      <th>50%</th>\n",
       "      <td>NaN</td>\n",
       "      <td>NaN</td>\n",
       "      <td>NaN</td>\n",
       "      <td>1104.825000</td>\n",
       "      <td>22.100000</td>\n",
       "    </tr>\n",
       "    <tr>\n",
       "      <th>75%</th>\n",
       "      <td>NaN</td>\n",
       "      <td>NaN</td>\n",
       "      <td>NaN</td>\n",
       "      <td>2516.407500</td>\n",
       "      <td>50.327500</td>\n",
       "    </tr>\n",
       "    <tr>\n",
       "      <th>max</th>\n",
       "      <td>NaN</td>\n",
       "      <td>NaN</td>\n",
       "      <td>NaN</td>\n",
       "      <td>10055.010000</td>\n",
       "      <td>201.100000</td>\n",
       "    </tr>\n",
       "  </tbody>\n",
       "</table>\n",
       "</div>"
      ],
      "text/plain": [
       "          route_id   origin_id destination_id      distance  average_hours\n",
       "count         2352        2352           2352   2352.000000    2352.000000\n",
       "unique        2352          49             49           NaN            NaN\n",
       "top     R-38a366a9  C-927ceb5e     C-56e39a5e           NaN            NaN\n",
       "freq             1          48             48           NaN            NaN\n",
       "mean           NaN         NaN            NaN   2376.825230      47.536556\n",
       "std            NaN         NaN            NaN   2696.904248      53.938045\n",
       "min            NaN         NaN            NaN      3.900000       0.080000\n",
       "25%            NaN         NaN            NaN    557.365000      11.147500\n",
       "50%            NaN         NaN            NaN   1104.825000      22.100000\n",
       "75%            NaN         NaN            NaN   2516.407500      50.327500\n",
       "max            NaN         NaN            NaN  10055.010000     201.100000"
      ]
     },
     "execution_count": 55,
     "metadata": {},
     "output_type": "execute_result"
    }
   ],
   "source": [
    "routes_df.describe(include='all')"
   ]
  },
  {
   "cell_type": "code",
   "execution_count": 56,
   "id": "d378ede6-71df-4eff-8a53-19c868febc5b",
   "metadata": {},
   "outputs": [
    {
     "data": {
      "text/html": [
       "<div>\n",
       "<style scoped>\n",
       "    .dataframe tbody tr th:only-of-type {\n",
       "        vertical-align: middle;\n",
       "    }\n",
       "\n",
       "    .dataframe tbody tr th {\n",
       "        vertical-align: top;\n",
       "    }\n",
       "\n",
       "    .dataframe thead th {\n",
       "        text-align: right;\n",
       "    }\n",
       "</style>\n",
       "<table border=\"1\" class=\"dataframe\">\n",
       "  <thead>\n",
       "    <tr style=\"text-align: right;\">\n",
       "      <th></th>\n",
       "      <th>origin_id</th>\n",
       "      <th>destination_id</th>\n",
       "      <th>total_routes</th>\n",
       "    </tr>\n",
       "  </thead>\n",
       "  <tbody>\n",
       "    <tr>\n",
       "      <th>0</th>\n",
       "      <td>C-01660979</td>\n",
       "      <td>C-03bb3e48</td>\n",
       "      <td>1</td>\n",
       "    </tr>\n",
       "    <tr>\n",
       "      <th>1</th>\n",
       "      <td>C-01660979</td>\n",
       "      <td>C-19236709</td>\n",
       "      <td>1</td>\n",
       "    </tr>\n",
       "    <tr>\n",
       "      <th>2</th>\n",
       "      <td>C-01660979</td>\n",
       "      <td>C-280b55fb</td>\n",
       "      <td>1</td>\n",
       "    </tr>\n",
       "    <tr>\n",
       "      <th>3</th>\n",
       "      <td>C-01660979</td>\n",
       "      <td>C-2aaf0e1a</td>\n",
       "      <td>1</td>\n",
       "    </tr>\n",
       "    <tr>\n",
       "      <th>4</th>\n",
       "      <td>C-01660979</td>\n",
       "      <td>C-2bd47dc5</td>\n",
       "      <td>1</td>\n",
       "    </tr>\n",
       "    <tr>\n",
       "      <th>...</th>\n",
       "      <td>...</td>\n",
       "      <td>...</td>\n",
       "      <td>...</td>\n",
       "    </tr>\n",
       "    <tr>\n",
       "      <th>2347</th>\n",
       "      <td>C-ff8c0c3c</td>\n",
       "      <td>C-e6dcda92</td>\n",
       "      <td>1</td>\n",
       "    </tr>\n",
       "    <tr>\n",
       "      <th>2348</th>\n",
       "      <td>C-ff8c0c3c</td>\n",
       "      <td>C-ef47bdcd</td>\n",
       "      <td>1</td>\n",
       "    </tr>\n",
       "    <tr>\n",
       "      <th>2349</th>\n",
       "      <td>C-ff8c0c3c</td>\n",
       "      <td>C-f5ed4c15</td>\n",
       "      <td>1</td>\n",
       "    </tr>\n",
       "    <tr>\n",
       "      <th>2350</th>\n",
       "      <td>C-ff8c0c3c</td>\n",
       "      <td>C-f8f01604</td>\n",
       "      <td>1</td>\n",
       "    </tr>\n",
       "    <tr>\n",
       "      <th>2351</th>\n",
       "      <td>C-ff8c0c3c</td>\n",
       "      <td>C-fc66f0ab</td>\n",
       "      <td>1</td>\n",
       "    </tr>\n",
       "  </tbody>\n",
       "</table>\n",
       "<p>2352 rows × 3 columns</p>\n",
       "</div>"
      ],
      "text/plain": [
       "       origin_id destination_id  total_routes\n",
       "0     C-01660979     C-03bb3e48             1\n",
       "1     C-01660979     C-19236709             1\n",
       "2     C-01660979     C-280b55fb             1\n",
       "3     C-01660979     C-2aaf0e1a             1\n",
       "4     C-01660979     C-2bd47dc5             1\n",
       "...          ...            ...           ...\n",
       "2347  C-ff8c0c3c     C-e6dcda92             1\n",
       "2348  C-ff8c0c3c     C-ef47bdcd             1\n",
       "2349  C-ff8c0c3c     C-f5ed4c15             1\n",
       "2350  C-ff8c0c3c     C-f8f01604             1\n",
       "2351  C-ff8c0c3c     C-fc66f0ab             1\n",
       "\n",
       "[2352 rows x 3 columns]"
      ]
     },
     "execution_count": 56,
     "metadata": {},
     "output_type": "execute_result"
    }
   ],
   "source": [
    "routes_df.groupby(['origin_id','destination_id'], as_index=False).agg(total_routes=('route_id','nunique'))"
   ]
  },
  {
   "cell_type": "markdown",
   "id": "f5a57849-0c4d-4974-9f7c-84156428da56",
   "metadata": {},
   "source": [
    "## Routes Weather Data Analysis"
   ]
  },
  {
   "cell_type": "code",
   "execution_count": 57,
   "id": "c9bfa50a-ac67-42ff-8a4d-259e344d3f69",
   "metadata": {},
   "outputs": [
    {
     "data": {
      "text/html": [
       "<div>\n",
       "<style scoped>\n",
       "    .dataframe tbody tr th:only-of-type {\n",
       "        vertical-align: middle;\n",
       "    }\n",
       "\n",
       "    .dataframe tbody tr th {\n",
       "        vertical-align: top;\n",
       "    }\n",
       "\n",
       "    .dataframe thead th {\n",
       "        text-align: right;\n",
       "    }\n",
       "</style>\n",
       "<table border=\"1\" class=\"dataframe\">\n",
       "  <thead>\n",
       "    <tr style=\"text-align: right;\">\n",
       "      <th></th>\n",
       "      <th>route_id</th>\n",
       "      <th>Date</th>\n",
       "      <th>temp</th>\n",
       "      <th>wind_speed</th>\n",
       "      <th>description</th>\n",
       "      <th>precip</th>\n",
       "      <th>humidity</th>\n",
       "      <th>visibility</th>\n",
       "      <th>pressure</th>\n",
       "      <th>chanceofrain</th>\n",
       "      <th>chanceoffog</th>\n",
       "      <th>chanceofsnow</th>\n",
       "      <th>chanceofthunder</th>\n",
       "    </tr>\n",
       "  </thead>\n",
       "  <tbody>\n",
       "    <tr>\n",
       "      <th>0</th>\n",
       "      <td>R-ada2a391</td>\n",
       "      <td>2019-01-01 00:00:00</td>\n",
       "      <td>30.0</td>\n",
       "      <td>11.0</td>\n",
       "      <td>Heavy snow</td>\n",
       "      <td>0.0</td>\n",
       "      <td>90</td>\n",
       "      <td>1.0</td>\n",
       "      <td>1010</td>\n",
       "      <td>0</td>\n",
       "      <td>0</td>\n",
       "      <td>0</td>\n",
       "      <td>0</td>\n",
       "    </tr>\n",
       "    <tr>\n",
       "      <th>1</th>\n",
       "      <td>R-ada2a391</td>\n",
       "      <td>2019-01-01 06:00:00</td>\n",
       "      <td>30.0</td>\n",
       "      <td>11.0</td>\n",
       "      <td>Heavy snow</td>\n",
       "      <td>0.0</td>\n",
       "      <td>91</td>\n",
       "      <td>3.0</td>\n",
       "      <td>1012</td>\n",
       "      <td>0</td>\n",
       "      <td>0</td>\n",
       "      <td>0</td>\n",
       "      <td>0</td>\n",
       "    </tr>\n",
       "  </tbody>\n",
       "</table>\n",
       "</div>"
      ],
      "text/plain": [
       "     route_id                Date  temp  wind_speed description  precip  \\\n",
       "0  R-ada2a391 2019-01-01 00:00:00  30.0        11.0  Heavy snow     0.0   \n",
       "1  R-ada2a391 2019-01-01 06:00:00  30.0        11.0  Heavy snow     0.0   \n",
       "\n",
       "   humidity  visibility  pressure  chanceofrain  chanceoffog  chanceofsnow  \\\n",
       "0        90         1.0      1010             0            0             0   \n",
       "1        91         3.0      1012             0            0             0   \n",
       "\n",
       "   chanceofthunder  \n",
       "0                0  \n",
       "1                0  "
      ]
     },
     "execution_count": 57,
     "metadata": {},
     "output_type": "execute_result"
    }
   ],
   "source": [
    "routes_weather.head(2)"
   ]
  },
  {
   "cell_type": "code",
   "execution_count": 58,
   "id": "af06e682-7b8a-49d3-9395-95446dc03758",
   "metadata": {},
   "outputs": [
    {
     "name": "stdout",
     "output_type": "stream",
     "text": [
      "<class 'pandas.core.frame.DataFrame'>\n",
      "RangeIndex: 425712 entries, 0 to 425711\n",
      "Data columns (total 13 columns):\n",
      " #   Column           Non-Null Count   Dtype         \n",
      "---  ------           --------------   -----         \n",
      " 0   route_id         425712 non-null  object        \n",
      " 1   Date             425712 non-null  datetime64[ns]\n",
      " 2   temp             425712 non-null  float64       \n",
      " 3   wind_speed       425712 non-null  float64       \n",
      " 4   description      425712 non-null  object        \n",
      " 5   precip           425712 non-null  float64       \n",
      " 6   humidity         425712 non-null  int64         \n",
      " 7   visibility       425712 non-null  float64       \n",
      " 8   pressure         425712 non-null  int64         \n",
      " 9   chanceofrain     425712 non-null  int64         \n",
      " 10  chanceoffog      425712 non-null  int64         \n",
      " 11  chanceofsnow     425712 non-null  int64         \n",
      " 12  chanceofthunder  425712 non-null  int64         \n",
      "dtypes: datetime64[ns](1), float64(4), int64(6), object(2)\n",
      "memory usage: 42.2+ MB\n"
     ]
    }
   ],
   "source": [
    "routes_weather.info()"
   ]
  },
  {
   "cell_type": "code",
   "execution_count": 59,
   "id": "70dd99dd-5252-4cb1-8aa5-03a38de838eb",
   "metadata": {},
   "outputs": [
    {
     "name": "stderr",
     "output_type": "stream",
     "text": [
      "/tmp/ipykernel_11076/1224300838.py:1: FutureWarning: Treating datetime data as categorical rather than numeric in `.describe` is deprecated and will be removed in a future version of pandas. Specify `datetime_is_numeric=True` to silence this warning and adopt the future behavior now.\n",
      "  routes_weather.describe(include='all')\n"
     ]
    },
    {
     "data": {
      "text/html": [
       "<div>\n",
       "<style scoped>\n",
       "    .dataframe tbody tr th:only-of-type {\n",
       "        vertical-align: middle;\n",
       "    }\n",
       "\n",
       "    .dataframe tbody tr th {\n",
       "        vertical-align: top;\n",
       "    }\n",
       "\n",
       "    .dataframe thead th {\n",
       "        text-align: right;\n",
       "    }\n",
       "</style>\n",
       "<table border=\"1\" class=\"dataframe\">\n",
       "  <thead>\n",
       "    <tr style=\"text-align: right;\">\n",
       "      <th></th>\n",
       "      <th>route_id</th>\n",
       "      <th>Date</th>\n",
       "      <th>temp</th>\n",
       "      <th>wind_speed</th>\n",
       "      <th>description</th>\n",
       "      <th>precip</th>\n",
       "      <th>humidity</th>\n",
       "      <th>visibility</th>\n",
       "      <th>pressure</th>\n",
       "      <th>chanceofrain</th>\n",
       "      <th>chanceoffog</th>\n",
       "      <th>chanceofsnow</th>\n",
       "      <th>chanceofthunder</th>\n",
       "    </tr>\n",
       "  </thead>\n",
       "  <tbody>\n",
       "    <tr>\n",
       "      <th>count</th>\n",
       "      <td>425712</td>\n",
       "      <td>425712</td>\n",
       "      <td>425712.000000</td>\n",
       "      <td>425712.000000</td>\n",
       "      <td>425712</td>\n",
       "      <td>425712.000000</td>\n",
       "      <td>425712.000000</td>\n",
       "      <td>425712.000000</td>\n",
       "      <td>425712.000000</td>\n",
       "      <td>425712.0</td>\n",
       "      <td>425712.0</td>\n",
       "      <td>425712.0</td>\n",
       "      <td>425712.0</td>\n",
       "    </tr>\n",
       "    <tr>\n",
       "      <th>unique</th>\n",
       "      <td>2352</td>\n",
       "      <td>181</td>\n",
       "      <td>NaN</td>\n",
       "      <td>NaN</td>\n",
       "      <td>48</td>\n",
       "      <td>NaN</td>\n",
       "      <td>NaN</td>\n",
       "      <td>NaN</td>\n",
       "      <td>NaN</td>\n",
       "      <td>NaN</td>\n",
       "      <td>NaN</td>\n",
       "      <td>NaN</td>\n",
       "      <td>NaN</td>\n",
       "    </tr>\n",
       "    <tr>\n",
       "      <th>top</th>\n",
       "      <td>R-38a366a9</td>\n",
       "      <td>2019-02-14 18:00:00</td>\n",
       "      <td>NaN</td>\n",
       "      <td>NaN</td>\n",
       "      <td>Clear</td>\n",
       "      <td>NaN</td>\n",
       "      <td>NaN</td>\n",
       "      <td>NaN</td>\n",
       "      <td>NaN</td>\n",
       "      <td>NaN</td>\n",
       "      <td>NaN</td>\n",
       "      <td>NaN</td>\n",
       "      <td>NaN</td>\n",
       "    </tr>\n",
       "    <tr>\n",
       "      <th>freq</th>\n",
       "      <td>181</td>\n",
       "      <td>2352</td>\n",
       "      <td>NaN</td>\n",
       "      <td>NaN</td>\n",
       "      <td>99356</td>\n",
       "      <td>NaN</td>\n",
       "      <td>NaN</td>\n",
       "      <td>NaN</td>\n",
       "      <td>NaN</td>\n",
       "      <td>NaN</td>\n",
       "      <td>NaN</td>\n",
       "      <td>NaN</td>\n",
       "      <td>NaN</td>\n",
       "    </tr>\n",
       "    <tr>\n",
       "      <th>first</th>\n",
       "      <td>NaN</td>\n",
       "      <td>2019-01-01 00:00:00</td>\n",
       "      <td>NaN</td>\n",
       "      <td>NaN</td>\n",
       "      <td>NaN</td>\n",
       "      <td>NaN</td>\n",
       "      <td>NaN</td>\n",
       "      <td>NaN</td>\n",
       "      <td>NaN</td>\n",
       "      <td>NaN</td>\n",
       "      <td>NaN</td>\n",
       "      <td>NaN</td>\n",
       "      <td>NaN</td>\n",
       "    </tr>\n",
       "    <tr>\n",
       "      <th>last</th>\n",
       "      <td>NaN</td>\n",
       "      <td>2019-02-15 00:00:00</td>\n",
       "      <td>NaN</td>\n",
       "      <td>NaN</td>\n",
       "      <td>NaN</td>\n",
       "      <td>NaN</td>\n",
       "      <td>NaN</td>\n",
       "      <td>NaN</td>\n",
       "      <td>NaN</td>\n",
       "      <td>NaN</td>\n",
       "      <td>NaN</td>\n",
       "      <td>NaN</td>\n",
       "      <td>NaN</td>\n",
       "    </tr>\n",
       "    <tr>\n",
       "      <th>mean</th>\n",
       "      <td>NaN</td>\n",
       "      <td>NaN</td>\n",
       "      <td>57.518090</td>\n",
       "      <td>8.016063</td>\n",
       "      <td>NaN</td>\n",
       "      <td>0.005530</td>\n",
       "      <td>71.654482</td>\n",
       "      <td>5.378733</td>\n",
       "      <td>1015.541540</td>\n",
       "      <td>0.0</td>\n",
       "      <td>0.0</td>\n",
       "      <td>0.0</td>\n",
       "      <td>0.0</td>\n",
       "    </tr>\n",
       "    <tr>\n",
       "      <th>std</th>\n",
       "      <td>NaN</td>\n",
       "      <td>NaN</td>\n",
       "      <td>19.919266</td>\n",
       "      <td>4.469639</td>\n",
       "      <td>NaN</td>\n",
       "      <td>0.028918</td>\n",
       "      <td>21.106049</td>\n",
       "      <td>1.414776</td>\n",
       "      <td>7.306384</td>\n",
       "      <td>0.0</td>\n",
       "      <td>0.0</td>\n",
       "      <td>0.0</td>\n",
       "      <td>0.0</td>\n",
       "    </tr>\n",
       "    <tr>\n",
       "      <th>min</th>\n",
       "      <td>NaN</td>\n",
       "      <td>NaN</td>\n",
       "      <td>-24.000000</td>\n",
       "      <td>0.000000</td>\n",
       "      <td>NaN</td>\n",
       "      <td>0.000000</td>\n",
       "      <td>3.000000</td>\n",
       "      <td>0.000000</td>\n",
       "      <td>985.000000</td>\n",
       "      <td>0.0</td>\n",
       "      <td>0.0</td>\n",
       "      <td>0.0</td>\n",
       "      <td>0.0</td>\n",
       "    </tr>\n",
       "    <tr>\n",
       "      <th>25%</th>\n",
       "      <td>NaN</td>\n",
       "      <td>NaN</td>\n",
       "      <td>43.000000</td>\n",
       "      <td>5.000000</td>\n",
       "      <td>NaN</td>\n",
       "      <td>0.000000</td>\n",
       "      <td>59.000000</td>\n",
       "      <td>6.000000</td>\n",
       "      <td>1011.000000</td>\n",
       "      <td>0.0</td>\n",
       "      <td>0.0</td>\n",
       "      <td>0.0</td>\n",
       "      <td>0.0</td>\n",
       "    </tr>\n",
       "    <tr>\n",
       "      <th>50%</th>\n",
       "      <td>NaN</td>\n",
       "      <td>NaN</td>\n",
       "      <td>59.000000</td>\n",
       "      <td>7.000000</td>\n",
       "      <td>NaN</td>\n",
       "      <td>0.000000</td>\n",
       "      <td>76.000000</td>\n",
       "      <td>6.000000</td>\n",
       "      <td>1015.000000</td>\n",
       "      <td>0.0</td>\n",
       "      <td>0.0</td>\n",
       "      <td>0.0</td>\n",
       "      <td>0.0</td>\n",
       "    </tr>\n",
       "    <tr>\n",
       "      <th>75%</th>\n",
       "      <td>NaN</td>\n",
       "      <td>NaN</td>\n",
       "      <td>73.000000</td>\n",
       "      <td>11.000000</td>\n",
       "      <td>NaN</td>\n",
       "      <td>0.000000</td>\n",
       "      <td>89.000000</td>\n",
       "      <td>6.000000</td>\n",
       "      <td>1019.000000</td>\n",
       "      <td>0.0</td>\n",
       "      <td>0.0</td>\n",
       "      <td>0.0</td>\n",
       "      <td>0.0</td>\n",
       "    </tr>\n",
       "    <tr>\n",
       "      <th>max</th>\n",
       "      <td>NaN</td>\n",
       "      <td>NaN</td>\n",
       "      <td>113.000000</td>\n",
       "      <td>35.000000</td>\n",
       "      <td>NaN</td>\n",
       "      <td>1.300000</td>\n",
       "      <td>100.000000</td>\n",
       "      <td>6.000000</td>\n",
       "      <td>1050.000000</td>\n",
       "      <td>0.0</td>\n",
       "      <td>0.0</td>\n",
       "      <td>0.0</td>\n",
       "      <td>0.0</td>\n",
       "    </tr>\n",
       "  </tbody>\n",
       "</table>\n",
       "</div>"
      ],
      "text/plain": [
       "          route_id                 Date           temp     wind_speed  \\\n",
       "count       425712               425712  425712.000000  425712.000000   \n",
       "unique        2352                  181            NaN            NaN   \n",
       "top     R-38a366a9  2019-02-14 18:00:00            NaN            NaN   \n",
       "freq           181                 2352            NaN            NaN   \n",
       "first          NaN  2019-01-01 00:00:00            NaN            NaN   \n",
       "last           NaN  2019-02-15 00:00:00            NaN            NaN   \n",
       "mean           NaN                  NaN      57.518090       8.016063   \n",
       "std            NaN                  NaN      19.919266       4.469639   \n",
       "min            NaN                  NaN     -24.000000       0.000000   \n",
       "25%            NaN                  NaN      43.000000       5.000000   \n",
       "50%            NaN                  NaN      59.000000       7.000000   \n",
       "75%            NaN                  NaN      73.000000      11.000000   \n",
       "max            NaN                  NaN     113.000000      35.000000   \n",
       "\n",
       "       description         precip       humidity     visibility  \\\n",
       "count       425712  425712.000000  425712.000000  425712.000000   \n",
       "unique          48            NaN            NaN            NaN   \n",
       "top          Clear            NaN            NaN            NaN   \n",
       "freq         99356            NaN            NaN            NaN   \n",
       "first          NaN            NaN            NaN            NaN   \n",
       "last           NaN            NaN            NaN            NaN   \n",
       "mean           NaN       0.005530      71.654482       5.378733   \n",
       "std            NaN       0.028918      21.106049       1.414776   \n",
       "min            NaN       0.000000       3.000000       0.000000   \n",
       "25%            NaN       0.000000      59.000000       6.000000   \n",
       "50%            NaN       0.000000      76.000000       6.000000   \n",
       "75%            NaN       0.000000      89.000000       6.000000   \n",
       "max            NaN       1.300000     100.000000       6.000000   \n",
       "\n",
       "             pressure  chanceofrain  chanceoffog  chanceofsnow  \\\n",
       "count   425712.000000      425712.0     425712.0      425712.0   \n",
       "unique            NaN           NaN          NaN           NaN   \n",
       "top               NaN           NaN          NaN           NaN   \n",
       "freq              NaN           NaN          NaN           NaN   \n",
       "first             NaN           NaN          NaN           NaN   \n",
       "last              NaN           NaN          NaN           NaN   \n",
       "mean      1015.541540           0.0          0.0           0.0   \n",
       "std          7.306384           0.0          0.0           0.0   \n",
       "min        985.000000           0.0          0.0           0.0   \n",
       "25%       1011.000000           0.0          0.0           0.0   \n",
       "50%       1015.000000           0.0          0.0           0.0   \n",
       "75%       1019.000000           0.0          0.0           0.0   \n",
       "max       1050.000000           0.0          0.0           0.0   \n",
       "\n",
       "        chanceofthunder  \n",
       "count          425712.0  \n",
       "unique              NaN  \n",
       "top                 NaN  \n",
       "freq                NaN  \n",
       "first               NaN  \n",
       "last                NaN  \n",
       "mean                0.0  \n",
       "std                 0.0  \n",
       "min                 0.0  \n",
       "25%                 0.0  \n",
       "50%                 0.0  \n",
       "75%                 0.0  \n",
       "max                 0.0  "
      ]
     },
     "execution_count": 59,
     "metadata": {},
     "output_type": "execute_result"
    }
   ],
   "source": [
    "routes_weather.describe(include='all')"
   ]
  },
  {
   "cell_type": "code",
   "execution_count": 60,
   "id": "c1b98069-4a2d-4793-9e92-32eab4d174f1",
   "metadata": {},
   "outputs": [
    {
     "data": {
      "text/plain": [
       "{'Blizzard',\n",
       " 'Blowing snow',\n",
       " 'Clear',\n",
       " 'Cloudy',\n",
       " 'Fog',\n",
       " 'Freezing drizzle',\n",
       " 'Freezing fog',\n",
       " 'Heavy freezing drizzle',\n",
       " 'Heavy rain',\n",
       " 'Heavy rain at times',\n",
       " 'Heavy snow',\n",
       " 'Ice pellets',\n",
       " 'Light drizzle',\n",
       " 'Light freezing rain',\n",
       " 'Light rain',\n",
       " 'Light rain shower',\n",
       " 'Light showers of ice pellets',\n",
       " 'Light sleet',\n",
       " 'Light sleet showers',\n",
       " 'Light snow',\n",
       " 'Light snow showers',\n",
       " 'Mist',\n",
       " 'Moderate or heavy freezing rain',\n",
       " 'Moderate or heavy rain shower',\n",
       " 'Moderate or heavy rain with thunder',\n",
       " 'Moderate or heavy sleet',\n",
       " 'Moderate or heavy sleet showers',\n",
       " 'Moderate or heavy snow showers',\n",
       " 'Moderate or heavy snow with thunder',\n",
       " 'Moderate rain',\n",
       " 'Moderate rain at times',\n",
       " 'Moderate snow',\n",
       " 'Overcast',\n",
       " 'Partly cloudy',\n",
       " 'Patchy freezing drizzle possible',\n",
       " 'Patchy heavy snow',\n",
       " 'Patchy light drizzle',\n",
       " 'Patchy light rain',\n",
       " 'Patchy light rain with thunder',\n",
       " 'Patchy light snow',\n",
       " 'Patchy light snow with thunder',\n",
       " 'Patchy moderate snow',\n",
       " 'Patchy rain possible',\n",
       " 'Patchy sleet possible',\n",
       " 'Patchy snow possible',\n",
       " 'Sunny',\n",
       " 'Thundery outbreaks possible',\n",
       " 'Torrential rain shower'}"
      ]
     },
     "execution_count": 60,
     "metadata": {},
     "output_type": "execute_result"
    }
   ],
   "source": [
    "set(routes_weather['description'])"
   ]
  },
  {
   "cell_type": "code",
   "execution_count": 61,
   "id": "5db89392-39b2-4b21-a809-1129b2b64928",
   "metadata": {},
   "outputs": [
    {
     "data": {
      "text/plain": [
       "{'Moderate or heavy showers of ice pellets'}"
      ]
     },
     "execution_count": 61,
     "metadata": {},
     "output_type": "execute_result"
    }
   ],
   "source": [
    "set(city_weather['description'])-set(routes_weather['description'])"
   ]
  },
  {
   "cell_type": "code",
   "execution_count": 62,
   "id": "0bdcdbb4-8e5c-48b8-93f6-6891f2097136",
   "metadata": {},
   "outputs": [
    {
     "data": {
      "text/plain": [
       "{'Moderate or heavy sleet showers', 'Patchy light snow with thunder'}"
      ]
     },
     "execution_count": 62,
     "metadata": {},
     "output_type": "execute_result"
    }
   ],
   "source": [
    "set(routes_weather['description'])-set(city_weather['description'])"
   ]
  },
  {
   "cell_type": "markdown",
   "id": "cb12ba60-4641-4cca-8410-dc6c7fc21a3f",
   "metadata": {},
   "source": [
    "## Schedule Data Analysis"
   ]
  },
  {
   "cell_type": "code",
   "execution_count": 63,
   "id": "3465e70b-54e3-44ce-b41a-83a7c4b61f9a",
   "metadata": {},
   "outputs": [
    {
     "name": "stdout",
     "output_type": "stream",
     "text": [
      "<class 'pandas.core.frame.DataFrame'>\n",
      "RangeIndex: 12308 entries, 0 to 12307\n",
      "Data columns (total 5 columns):\n",
      " #   Column             Non-Null Count  Dtype         \n",
      "---  ------             --------------  -----         \n",
      " 0   truck_id           12308 non-null  int64         \n",
      " 1   route_id           12308 non-null  object        \n",
      " 2   departure_date     12308 non-null  datetime64[ns]\n",
      " 3   estimated_arrival  12308 non-null  object        \n",
      " 4   delay              12308 non-null  int64         \n",
      "dtypes: datetime64[ns](1), int64(2), object(2)\n",
      "memory usage: 480.9+ KB\n"
     ]
    }
   ],
   "source": [
    "schedule_df.info()"
   ]
  },
  {
   "cell_type": "code",
   "execution_count": 64,
   "id": "80d8647b-f080-4f5c-9e3d-c87cc808b8a1",
   "metadata": {},
   "outputs": [
    {
     "data": {
      "text/html": [
       "<div>\n",
       "<style scoped>\n",
       "    .dataframe tbody tr th:only-of-type {\n",
       "        vertical-align: middle;\n",
       "    }\n",
       "\n",
       "    .dataframe tbody tr th {\n",
       "        vertical-align: top;\n",
       "    }\n",
       "\n",
       "    .dataframe thead th {\n",
       "        text-align: right;\n",
       "    }\n",
       "</style>\n",
       "<table border=\"1\" class=\"dataframe\">\n",
       "  <thead>\n",
       "    <tr style=\"text-align: right;\">\n",
       "      <th></th>\n",
       "      <th>truck_id</th>\n",
       "      <th>route_id</th>\n",
       "      <th>departure_date</th>\n",
       "      <th>estimated_arrival</th>\n",
       "      <th>delay</th>\n",
       "    </tr>\n",
       "  </thead>\n",
       "  <tbody>\n",
       "    <tr>\n",
       "      <th>0</th>\n",
       "      <td>30312694</td>\n",
       "      <td>R-b236e347</td>\n",
       "      <td>2019-01-01 07:00:00</td>\n",
       "      <td>2019-01-01 13:13:12.</td>\n",
       "      <td>0</td>\n",
       "    </tr>\n",
       "    <tr>\n",
       "      <th>1</th>\n",
       "      <td>59856374</td>\n",
       "      <td>R-29ea762e</td>\n",
       "      <td>2019-01-01 07:00:00</td>\n",
       "      <td>2019-01-02 04:01:12.</td>\n",
       "      <td>0</td>\n",
       "    </tr>\n",
       "  </tbody>\n",
       "</table>\n",
       "</div>"
      ],
      "text/plain": [
       "   truck_id    route_id      departure_date     estimated_arrival  delay\n",
       "0  30312694  R-b236e347 2019-01-01 07:00:00  2019-01-01 13:13:12.      0\n",
       "1  59856374  R-29ea762e 2019-01-01 07:00:00  2019-01-02 04:01:12.      0"
      ]
     },
     "execution_count": 64,
     "metadata": {},
     "output_type": "execute_result"
    }
   ],
   "source": [
    "schedule_df.head(2)"
   ]
  },
  {
   "cell_type": "code",
   "execution_count": 65,
   "id": "6ac0fd21-4c6c-4a7b-8c8e-f2a1b9b92a40",
   "metadata": {},
   "outputs": [],
   "source": [
    "schedule_df['estimated_arrival']=pd.to_datetime(schedule_df['estimated_arrival'])"
   ]
  },
  {
   "cell_type": "code",
   "execution_count": 66,
   "id": "8d89005c-6eb8-4e44-aadf-73d0dbade6a2",
   "metadata": {},
   "outputs": [
    {
     "data": {
      "text/html": [
       "<div>\n",
       "<style scoped>\n",
       "    .dataframe tbody tr th:only-of-type {\n",
       "        vertical-align: middle;\n",
       "    }\n",
       "\n",
       "    .dataframe tbody tr th {\n",
       "        vertical-align: top;\n",
       "    }\n",
       "\n",
       "    .dataframe thead th {\n",
       "        text-align: right;\n",
       "    }\n",
       "</style>\n",
       "<table border=\"1\" class=\"dataframe\">\n",
       "  <thead>\n",
       "    <tr style=\"text-align: right;\">\n",
       "      <th></th>\n",
       "      <th>truck_id</th>\n",
       "      <th>delay</th>\n",
       "    </tr>\n",
       "  </thead>\n",
       "  <tbody>\n",
       "    <tr>\n",
       "      <th>count</th>\n",
       "      <td>1.230800e+04</td>\n",
       "      <td>12308.000000</td>\n",
       "    </tr>\n",
       "    <tr>\n",
       "      <th>mean</th>\n",
       "      <td>3.291135e+07</td>\n",
       "      <td>0.348879</td>\n",
       "    </tr>\n",
       "    <tr>\n",
       "      <th>std</th>\n",
       "      <td>2.221287e+07</td>\n",
       "      <td>0.476635</td>\n",
       "    </tr>\n",
       "    <tr>\n",
       "      <th>min</th>\n",
       "      <td>1.000839e+07</td>\n",
       "      <td>0.000000</td>\n",
       "    </tr>\n",
       "    <tr>\n",
       "      <th>25%</th>\n",
       "      <td>1.844361e+07</td>\n",
       "      <td>0.000000</td>\n",
       "    </tr>\n",
       "    <tr>\n",
       "      <th>50%</th>\n",
       "      <td>2.611401e+07</td>\n",
       "      <td>0.000000</td>\n",
       "    </tr>\n",
       "    <tr>\n",
       "      <th>75%</th>\n",
       "      <td>3.325027e+07</td>\n",
       "      <td>1.000000</td>\n",
       "    </tr>\n",
       "    <tr>\n",
       "      <th>max</th>\n",
       "      <td>9.998167e+07</td>\n",
       "      <td>1.000000</td>\n",
       "    </tr>\n",
       "  </tbody>\n",
       "</table>\n",
       "</div>"
      ],
      "text/plain": [
       "           truck_id         delay\n",
       "count  1.230800e+04  12308.000000\n",
       "mean   3.291135e+07      0.348879\n",
       "std    2.221287e+07      0.476635\n",
       "min    1.000839e+07      0.000000\n",
       "25%    1.844361e+07      0.000000\n",
       "50%    2.611401e+07      0.000000\n",
       "75%    3.325027e+07      1.000000\n",
       "max    9.998167e+07      1.000000"
      ]
     },
     "execution_count": 66,
     "metadata": {},
     "output_type": "execute_result"
    }
   ],
   "source": [
    "schedule_df.describe()"
   ]
  },
  {
   "cell_type": "code",
   "execution_count": 67,
   "id": "4815e1a9-8f4f-48d7-b23c-b19732a6d7c7",
   "metadata": {},
   "outputs": [],
   "source": [
    "schedule_df['estimated_arrival']=pd.to_datetime(schedule_df['estimated_arrival'])"
   ]
  },
  {
   "cell_type": "markdown",
   "id": "6df19c3e-21d5-413e-a6e8-cb14fae93707",
   "metadata": {},
   "source": [
    "# Data Preprocessing"
   ]
  },
  {
   "cell_type": "markdown",
   "id": "d2eae63f-7d7e-4abe-8879-2c4c10909bb5",
   "metadata": {},
   "source": [
    "## Drivers_df"
   ]
  },
  {
   "cell_type": "code",
   "execution_count": 68,
   "id": "eeea4ff2-9d45-4d0b-accf-0858b25313d6",
   "metadata": {},
   "outputs": [
    {
     "name": "stdout",
     "output_type": "stream",
     "text": [
      "<class 'pandas.core.frame.DataFrame'>\n",
      "RangeIndex: 1300 entries, 0 to 1299\n",
      "Data columns (total 9 columns):\n",
      " #   Column             Non-Null Count  Dtype  \n",
      "---  ------             --------------  -----  \n",
      " 0   driver_id          1300 non-null   object \n",
      " 1   name               1300 non-null   object \n",
      " 2   gender             1277 non-null   object \n",
      " 3   age                1300 non-null   int64  \n",
      " 4   experience         1300 non-null   int64  \n",
      " 5   driving_style      1248 non-null   object \n",
      " 6   ratings            1300 non-null   int64  \n",
      " 7   vehicle_no         1300 non-null   int64  \n",
      " 8   average_speed_mph  1300 non-null   float64\n",
      "dtypes: float64(1), int64(4), object(4)\n",
      "memory usage: 91.5+ KB\n"
     ]
    }
   ],
   "source": [
    "drivers_df.info()"
   ]
  },
  {
   "cell_type": "code",
   "execution_count": 69,
   "id": "408d7bbf-91e1-4de3-add4-22ae3afd5c71",
   "metadata": {},
   "outputs": [
    {
     "data": {
      "text/html": [
       "<div>\n",
       "<style scoped>\n",
       "    .dataframe tbody tr th:only-of-type {\n",
       "        vertical-align: middle;\n",
       "    }\n",
       "\n",
       "    .dataframe tbody tr th {\n",
       "        vertical-align: top;\n",
       "    }\n",
       "\n",
       "    .dataframe thead th {\n",
       "        text-align: right;\n",
       "    }\n",
       "</style>\n",
       "<table border=\"1\" class=\"dataframe\">\n",
       "  <thead>\n",
       "    <tr style=\"text-align: right;\">\n",
       "      <th></th>\n",
       "      <th>driver_id</th>\n",
       "      <th>name</th>\n",
       "      <th>gender</th>\n",
       "      <th>age</th>\n",
       "      <th>experience</th>\n",
       "      <th>driving_style</th>\n",
       "      <th>ratings</th>\n",
       "      <th>vehicle_no</th>\n",
       "      <th>average_speed_mph</th>\n",
       "    </tr>\n",
       "  </thead>\n",
       "  <tbody>\n",
       "    <tr>\n",
       "      <th>0</th>\n",
       "      <td>d9f30553-6</td>\n",
       "      <td>Daniel Marks</td>\n",
       "      <td>male</td>\n",
       "      <td>47</td>\n",
       "      <td>5</td>\n",
       "      <td>proactive</td>\n",
       "      <td>7</td>\n",
       "      <td>42302347</td>\n",
       "      <td>62.22</td>\n",
       "    </tr>\n",
       "    <tr>\n",
       "      <th>1</th>\n",
       "      <td>82de7bb8-2</td>\n",
       "      <td>Clifford Carr</td>\n",
       "      <td>male</td>\n",
       "      <td>47</td>\n",
       "      <td>14</td>\n",
       "      <td>proactive</td>\n",
       "      <td>4</td>\n",
       "      <td>27867488</td>\n",
       "      <td>60.89</td>\n",
       "    </tr>\n",
       "  </tbody>\n",
       "</table>\n",
       "</div>"
      ],
      "text/plain": [
       "    driver_id           name gender  age  experience driving_style  ratings  \\\n",
       "0  d9f30553-6   Daniel Marks   male   47           5     proactive        7   \n",
       "1  82de7bb8-2  Clifford Carr   male   47          14     proactive        4   \n",
       "\n",
       "   vehicle_no  average_speed_mph  \n",
       "0    42302347              62.22  \n",
       "1    27867488              60.89  "
      ]
     },
     "execution_count": 69,
     "metadata": {},
     "output_type": "execute_result"
    }
   ],
   "source": [
    "drivers_df.head(2)"
   ]
  },
  {
   "cell_type": "code",
   "execution_count": 70,
   "id": "24b2cc7d-26df-401b-8083-54d0c0b5ec6c",
   "metadata": {},
   "outputs": [
    {
     "data": {
      "text/plain": [
       "driver_id             0\n",
       "name                  0\n",
       "gender               23\n",
       "age                   0\n",
       "experience            0\n",
       "driving_style        52\n",
       "ratings               0\n",
       "vehicle_no            0\n",
       "average_speed_mph     0\n",
       "dtype: int64"
      ]
     },
     "execution_count": 70,
     "metadata": {},
     "output_type": "execute_result"
    }
   ],
   "source": [
    "drivers_df.isna().sum()"
   ]
  },
  {
   "cell_type": "code",
   "execution_count": 71,
   "id": "8f0505f3-8ef3-48ab-a7ab-19f2d2ae719f",
   "metadata": {},
   "outputs": [],
   "source": [
    "drivers_df['gender']=drivers_df['gender'].fillna('Unknown')"
   ]
  },
  {
   "cell_type": "code",
   "execution_count": 72,
   "id": "e307f41a-e86e-4dfa-a25d-505752c82c39",
   "metadata": {},
   "outputs": [],
   "source": [
    "drivers_df['driving_style']=drivers_df['driving_style'].fillna('Unknown')"
   ]
  },
  {
   "cell_type": "code",
   "execution_count": 73,
   "id": "8cbd2513-f7e5-4797-b663-eca3b5730a78",
   "metadata": {},
   "outputs": [
    {
     "data": {
      "text/plain": [
       "0"
      ]
     },
     "execution_count": 73,
     "metadata": {},
     "output_type": "execute_result"
    }
   ],
   "source": [
    "drivers_df['driver_id'].duplicated().sum()"
   ]
  },
  {
   "cell_type": "code",
   "execution_count": 74,
   "id": "3d80e45d-77d4-4831-888e-5a4e32d6852e",
   "metadata": {},
   "outputs": [
    {
     "data": {
      "text/html": [
       "<div>\n",
       "<style scoped>\n",
       "    .dataframe tbody tr th:only-of-type {\n",
       "        vertical-align: middle;\n",
       "    }\n",
       "\n",
       "    .dataframe tbody tr th {\n",
       "        vertical-align: top;\n",
       "    }\n",
       "\n",
       "    .dataframe thead th {\n",
       "        text-align: right;\n",
       "    }\n",
       "</style>\n",
       "<table border=\"1\" class=\"dataframe\">\n",
       "  <thead>\n",
       "    <tr style=\"text-align: right;\">\n",
       "      <th></th>\n",
       "      <th>driver_id</th>\n",
       "      <th>name</th>\n",
       "      <th>gender</th>\n",
       "      <th>age</th>\n",
       "      <th>experience</th>\n",
       "      <th>driving_style</th>\n",
       "      <th>ratings</th>\n",
       "      <th>vehicle_no</th>\n",
       "      <th>average_speed_mph</th>\n",
       "    </tr>\n",
       "  </thead>\n",
       "  <tbody>\n",
       "    <tr>\n",
       "      <th>151</th>\n",
       "      <td>87a34a65-1</td>\n",
       "      <td>Ronald Campbell</td>\n",
       "      <td>male</td>\n",
       "      <td>50</td>\n",
       "      <td>-7</td>\n",
       "      <td>conservative</td>\n",
       "      <td>4</td>\n",
       "      <td>21928760</td>\n",
       "      <td>35.20</td>\n",
       "    </tr>\n",
       "    <tr>\n",
       "      <th>258</th>\n",
       "      <td>73abe416-e</td>\n",
       "      <td>David Kennedy</td>\n",
       "      <td>male</td>\n",
       "      <td>48</td>\n",
       "      <td>-2</td>\n",
       "      <td>conservative</td>\n",
       "      <td>8</td>\n",
       "      <td>24034677</td>\n",
       "      <td>42.67</td>\n",
       "    </tr>\n",
       "    <tr>\n",
       "      <th>263</th>\n",
       "      <td>c0cc3366-f</td>\n",
       "      <td>Christopher Knight</td>\n",
       "      <td>male</td>\n",
       "      <td>49</td>\n",
       "      <td>-2</td>\n",
       "      <td>proactive</td>\n",
       "      <td>8</td>\n",
       "      <td>31840617</td>\n",
       "      <td>58.94</td>\n",
       "    </tr>\n",
       "    <tr>\n",
       "      <th>448</th>\n",
       "      <td>0d090479-f</td>\n",
       "      <td>Joshua Hernandez</td>\n",
       "      <td>male</td>\n",
       "      <td>48</td>\n",
       "      <td>-2</td>\n",
       "      <td>proactive</td>\n",
       "      <td>2</td>\n",
       "      <td>19167358</td>\n",
       "      <td>58.26</td>\n",
       "    </tr>\n",
       "    <tr>\n",
       "      <th>518</th>\n",
       "      <td>432fc063-2</td>\n",
       "      <td>Scott Levy</td>\n",
       "      <td>male</td>\n",
       "      <td>46</td>\n",
       "      <td>-3</td>\n",
       "      <td>proactive</td>\n",
       "      <td>8</td>\n",
       "      <td>14625993</td>\n",
       "      <td>64.51</td>\n",
       "    </tr>\n",
       "    <tr>\n",
       "      <th>575</th>\n",
       "      <td>2adfe6cd-b</td>\n",
       "      <td>Steven Murray</td>\n",
       "      <td>male</td>\n",
       "      <td>42</td>\n",
       "      <td>-3</td>\n",
       "      <td>proactive</td>\n",
       "      <td>8</td>\n",
       "      <td>89718106</td>\n",
       "      <td>61.59</td>\n",
       "    </tr>\n",
       "    <tr>\n",
       "      <th>584</th>\n",
       "      <td>443ead57-c</td>\n",
       "      <td>Michael Bullock</td>\n",
       "      <td>male</td>\n",
       "      <td>42</td>\n",
       "      <td>-5</td>\n",
       "      <td>conservative</td>\n",
       "      <td>3</td>\n",
       "      <td>30137411</td>\n",
       "      <td>50.49</td>\n",
       "    </tr>\n",
       "    <tr>\n",
       "      <th>645</th>\n",
       "      <td>84ceeb04-5</td>\n",
       "      <td>John Tucker</td>\n",
       "      <td>male</td>\n",
       "      <td>48</td>\n",
       "      <td>-1</td>\n",
       "      <td>conservative</td>\n",
       "      <td>8</td>\n",
       "      <td>29624480</td>\n",
       "      <td>48.47</td>\n",
       "    </tr>\n",
       "    <tr>\n",
       "      <th>856</th>\n",
       "      <td>940779db-6</td>\n",
       "      <td>Sandra Martinez</td>\n",
       "      <td>Unknown</td>\n",
       "      <td>49</td>\n",
       "      <td>-5</td>\n",
       "      <td>conservative</td>\n",
       "      <td>3</td>\n",
       "      <td>42300252</td>\n",
       "      <td>49.06</td>\n",
       "    </tr>\n",
       "    <tr>\n",
       "      <th>893</th>\n",
       "      <td>fd0c9ec1-d</td>\n",
       "      <td>David Rangel</td>\n",
       "      <td>male</td>\n",
       "      <td>46</td>\n",
       "      <td>-4</td>\n",
       "      <td>proactive</td>\n",
       "      <td>4</td>\n",
       "      <td>18950712</td>\n",
       "      <td>59.87</td>\n",
       "    </tr>\n",
       "    <tr>\n",
       "      <th>1159</th>\n",
       "      <td>d3498788-e</td>\n",
       "      <td>Kristopher Estrada</td>\n",
       "      <td>male</td>\n",
       "      <td>50</td>\n",
       "      <td>-1</td>\n",
       "      <td>proactive</td>\n",
       "      <td>4</td>\n",
       "      <td>27216192</td>\n",
       "      <td>62.05</td>\n",
       "    </tr>\n",
       "    <tr>\n",
       "      <th>1235</th>\n",
       "      <td>aa819c6a-2</td>\n",
       "      <td>Donald Evans</td>\n",
       "      <td>male</td>\n",
       "      <td>43</td>\n",
       "      <td>-8</td>\n",
       "      <td>conservative</td>\n",
       "      <td>3</td>\n",
       "      <td>26300714</td>\n",
       "      <td>52.30</td>\n",
       "    </tr>\n",
       "  </tbody>\n",
       "</table>\n",
       "</div>"
      ],
      "text/plain": [
       "       driver_id                name   gender  age  experience driving_style  \\\n",
       "151   87a34a65-1     Ronald Campbell     male   50          -7  conservative   \n",
       "258   73abe416-e       David Kennedy     male   48          -2  conservative   \n",
       "263   c0cc3366-f  Christopher Knight     male   49          -2     proactive   \n",
       "448   0d090479-f    Joshua Hernandez     male   48          -2     proactive   \n",
       "518   432fc063-2          Scott Levy     male   46          -3     proactive   \n",
       "575   2adfe6cd-b       Steven Murray     male   42          -3     proactive   \n",
       "584   443ead57-c     Michael Bullock     male   42          -5  conservative   \n",
       "645   84ceeb04-5         John Tucker     male   48          -1  conservative   \n",
       "856   940779db-6     Sandra Martinez  Unknown   49          -5  conservative   \n",
       "893   fd0c9ec1-d        David Rangel     male   46          -4     proactive   \n",
       "1159  d3498788-e  Kristopher Estrada     male   50          -1     proactive   \n",
       "1235  aa819c6a-2        Donald Evans     male   43          -8  conservative   \n",
       "\n",
       "      ratings  vehicle_no  average_speed_mph  \n",
       "151         4    21928760              35.20  \n",
       "258         8    24034677              42.67  \n",
       "263         8    31840617              58.94  \n",
       "448         2    19167358              58.26  \n",
       "518         8    14625993              64.51  \n",
       "575         8    89718106              61.59  \n",
       "584         3    30137411              50.49  \n",
       "645         8    29624480              48.47  \n",
       "856         3    42300252              49.06  \n",
       "893         4    18950712              59.87  \n",
       "1159        4    27216192              62.05  \n",
       "1235        3    26300714              52.30  "
      ]
     },
     "execution_count": 74,
     "metadata": {},
     "output_type": "execute_result"
    }
   ],
   "source": [
    "drivers_df[drivers_df.experience<0]"
   ]
  },
  {
   "cell_type": "code",
   "execution_count": 75,
   "id": "7b20adda-d507-48d1-8f31-7f4db4f9050e",
   "metadata": {},
   "outputs": [],
   "source": [
    "drivers_df['experience']=np.where(drivers_df.experience<0, abs(drivers_df.experience), drivers_df.experience)"
   ]
  },
  {
   "cell_type": "code",
   "execution_count": 76,
   "id": "e3b25477-b1b1-4495-af67-d8ffb64779ff",
   "metadata": {},
   "outputs": [
    {
     "data": {
      "text/html": [
       "<div>\n",
       "<style scoped>\n",
       "    .dataframe tbody tr th:only-of-type {\n",
       "        vertical-align: middle;\n",
       "    }\n",
       "\n",
       "    .dataframe tbody tr th {\n",
       "        vertical-align: top;\n",
       "    }\n",
       "\n",
       "    .dataframe thead th {\n",
       "        text-align: right;\n",
       "    }\n",
       "</style>\n",
       "<table border=\"1\" class=\"dataframe\">\n",
       "  <thead>\n",
       "    <tr style=\"text-align: right;\">\n",
       "      <th></th>\n",
       "      <th>age</th>\n",
       "      <th>experience</th>\n",
       "      <th>ratings</th>\n",
       "      <th>vehicle_no</th>\n",
       "      <th>average_speed_mph</th>\n",
       "    </tr>\n",
       "  </thead>\n",
       "  <tbody>\n",
       "    <tr>\n",
       "      <th>count</th>\n",
       "      <td>1300.000000</td>\n",
       "      <td>1300.000000</td>\n",
       "      <td>1300.000000</td>\n",
       "      <td>1.300000e+03</td>\n",
       "      <td>1300.000000</td>\n",
       "    </tr>\n",
       "    <tr>\n",
       "      <th>mean</th>\n",
       "      <td>47.814615</td>\n",
       "      <td>12.054615</td>\n",
       "      <td>5.633846</td>\n",
       "      <td>3.263242e+07</td>\n",
       "      <td>53.262854</td>\n",
       "    </tr>\n",
       "    <tr>\n",
       "      <th>std</th>\n",
       "      <td>4.973240</td>\n",
       "      <td>6.836320</td>\n",
       "      <td>2.137266</td>\n",
       "      <td>2.205390e+07</td>\n",
       "      <td>8.504282</td>\n",
       "    </tr>\n",
       "    <tr>\n",
       "      <th>min</th>\n",
       "      <td>28.000000</td>\n",
       "      <td>0.000000</td>\n",
       "      <td>2.000000</td>\n",
       "      <td>1.000839e+07</td>\n",
       "      <td>29.150000</td>\n",
       "    </tr>\n",
       "    <tr>\n",
       "      <th>25%</th>\n",
       "      <td>45.000000</td>\n",
       "      <td>7.000000</td>\n",
       "      <td>4.000000</td>\n",
       "      <td>1.817244e+07</td>\n",
       "      <td>45.427500</td>\n",
       "    </tr>\n",
       "    <tr>\n",
       "      <th>50%</th>\n",
       "      <td>48.000000</td>\n",
       "      <td>11.000000</td>\n",
       "      <td>6.000000</td>\n",
       "      <td>2.584212e+07</td>\n",
       "      <td>57.340000</td>\n",
       "    </tr>\n",
       "    <tr>\n",
       "      <th>75%</th>\n",
       "      <td>51.000000</td>\n",
       "      <td>17.000000</td>\n",
       "      <td>8.000000</td>\n",
       "      <td>3.340052e+07</td>\n",
       "      <td>60.350000</td>\n",
       "    </tr>\n",
       "    <tr>\n",
       "      <th>max</th>\n",
       "      <td>65.000000</td>\n",
       "      <td>35.000000</td>\n",
       "      <td>9.000000</td>\n",
       "      <td>9.998167e+07</td>\n",
       "      <td>67.240000</td>\n",
       "    </tr>\n",
       "  </tbody>\n",
       "</table>\n",
       "</div>"
      ],
      "text/plain": [
       "               age   experience      ratings    vehicle_no  average_speed_mph\n",
       "count  1300.000000  1300.000000  1300.000000  1.300000e+03        1300.000000\n",
       "mean     47.814615    12.054615     5.633846  3.263242e+07          53.262854\n",
       "std       4.973240     6.836320     2.137266  2.205390e+07           8.504282\n",
       "min      28.000000     0.000000     2.000000  1.000839e+07          29.150000\n",
       "25%      45.000000     7.000000     4.000000  1.817244e+07          45.427500\n",
       "50%      48.000000    11.000000     6.000000  2.584212e+07          57.340000\n",
       "75%      51.000000    17.000000     8.000000  3.340052e+07          60.350000\n",
       "max      65.000000    35.000000     9.000000  9.998167e+07          67.240000"
      ]
     },
     "execution_count": 76,
     "metadata": {},
     "output_type": "execute_result"
    }
   ],
   "source": [
    "drivers_df.describe()"
   ]
  },
  {
   "cell_type": "code",
   "execution_count": 77,
   "id": "d91bb717-171f-4b31-adeb-80fb2685add2",
   "metadata": {},
   "outputs": [
    {
     "name": "stderr",
     "output_type": "stream",
     "text": [
      "/tmp/ipykernel_11076/686381233.py:1: FutureWarning: The default value of numeric_only in DataFrame.corr is deprecated. In a future version, it will default to False. Select only valid columns or specify the value of numeric_only to silence this warning.\n",
      "  drivers_df.corr()\n"
     ]
    },
    {
     "data": {
      "text/html": [
       "<div>\n",
       "<style scoped>\n",
       "    .dataframe tbody tr th:only-of-type {\n",
       "        vertical-align: middle;\n",
       "    }\n",
       "\n",
       "    .dataframe tbody tr th {\n",
       "        vertical-align: top;\n",
       "    }\n",
       "\n",
       "    .dataframe thead th {\n",
       "        text-align: right;\n",
       "    }\n",
       "</style>\n",
       "<table border=\"1\" class=\"dataframe\">\n",
       "  <thead>\n",
       "    <tr style=\"text-align: right;\">\n",
       "      <th></th>\n",
       "      <th>age</th>\n",
       "      <th>experience</th>\n",
       "      <th>ratings</th>\n",
       "      <th>vehicle_no</th>\n",
       "      <th>average_speed_mph</th>\n",
       "    </tr>\n",
       "  </thead>\n",
       "  <tbody>\n",
       "    <tr>\n",
       "      <th>age</th>\n",
       "      <td>1.000000</td>\n",
       "      <td>0.594806</td>\n",
       "      <td>0.253400</td>\n",
       "      <td>0.017698</td>\n",
       "      <td>0.001834</td>\n",
       "    </tr>\n",
       "    <tr>\n",
       "      <th>experience</th>\n",
       "      <td>0.594806</td>\n",
       "      <td>1.000000</td>\n",
       "      <td>0.327033</td>\n",
       "      <td>0.026842</td>\n",
       "      <td>-0.004308</td>\n",
       "    </tr>\n",
       "    <tr>\n",
       "      <th>ratings</th>\n",
       "      <td>0.253400</td>\n",
       "      <td>0.327033</td>\n",
       "      <td>1.000000</td>\n",
       "      <td>-0.000161</td>\n",
       "      <td>0.011820</td>\n",
       "    </tr>\n",
       "    <tr>\n",
       "      <th>vehicle_no</th>\n",
       "      <td>0.017698</td>\n",
       "      <td>0.026842</td>\n",
       "      <td>-0.000161</td>\n",
       "      <td>1.000000</td>\n",
       "      <td>0.011184</td>\n",
       "    </tr>\n",
       "    <tr>\n",
       "      <th>average_speed_mph</th>\n",
       "      <td>0.001834</td>\n",
       "      <td>-0.004308</td>\n",
       "      <td>0.011820</td>\n",
       "      <td>0.011184</td>\n",
       "      <td>1.000000</td>\n",
       "    </tr>\n",
       "  </tbody>\n",
       "</table>\n",
       "</div>"
      ],
      "text/plain": [
       "                        age  experience   ratings  vehicle_no  \\\n",
       "age                1.000000    0.594806  0.253400    0.017698   \n",
       "experience         0.594806    1.000000  0.327033    0.026842   \n",
       "ratings            0.253400    0.327033  1.000000   -0.000161   \n",
       "vehicle_no         0.017698    0.026842 -0.000161    1.000000   \n",
       "average_speed_mph  0.001834   -0.004308  0.011820    0.011184   \n",
       "\n",
       "                   average_speed_mph  \n",
       "age                         0.001834  \n",
       "experience                 -0.004308  \n",
       "ratings                     0.011820  \n",
       "vehicle_no                  0.011184  \n",
       "average_speed_mph           1.000000  "
      ]
     },
     "execution_count": 77,
     "metadata": {},
     "output_type": "execute_result"
    }
   ],
   "source": [
    "drivers_df.corr()"
   ]
  },
  {
   "cell_type": "markdown",
   "id": "af13a9e4-cdc4-4e8f-8209-1ee4e41dbad1",
   "metadata": {},
   "source": [
    "## Trucks_df"
   ]
  },
  {
   "cell_type": "code",
   "execution_count": 78,
   "id": "292e6b16-b685-4fff-8e52-1e4a8a9a7202",
   "metadata": {},
   "outputs": [
    {
     "name": "stdout",
     "output_type": "stream",
     "text": [
      "<class 'pandas.core.frame.DataFrame'>\n",
      "RangeIndex: 1300 entries, 0 to 1299\n",
      "Data columns (total 5 columns):\n",
      " #   Column                Non-Null Count  Dtype  \n",
      "---  ------                --------------  -----  \n",
      " 0   truck_id              1300 non-null   int64  \n",
      " 1   truck_age             1300 non-null   int64  \n",
      " 2   load_capacity_pounds  1243 non-null   float64\n",
      " 3   mileage_mpg           1300 non-null   int64  \n",
      " 4   fuel_type             1300 non-null   object \n",
      "dtypes: float64(1), int64(3), object(1)\n",
      "memory usage: 50.9+ KB\n"
     ]
    }
   ],
   "source": [
    "truck_df.info()"
   ]
  },
  {
   "cell_type": "code",
   "execution_count": 79,
   "id": "9461c39f-9d9b-4bde-9d55-1e009ca2a900",
   "metadata": {},
   "outputs": [
    {
     "data": {
      "text/plain": [
       "truck_id                 0\n",
       "truck_age                0\n",
       "load_capacity_pounds    57\n",
       "mileage_mpg              0\n",
       "fuel_type                0\n",
       "dtype: int64"
      ]
     },
     "execution_count": 79,
     "metadata": {},
     "output_type": "execute_result"
    }
   ],
   "source": [
    "truck_df.isna().sum()"
   ]
  },
  {
   "cell_type": "code",
   "execution_count": 80,
   "id": "2ef271f1-d074-47b6-8fa2-634c6f4bd1a7",
   "metadata": {},
   "outputs": [
    {
     "data": {
      "text/plain": [
       "array(['gas', 'diesel', ''], dtype=object)"
      ]
     },
     "execution_count": 80,
     "metadata": {},
     "output_type": "execute_result"
    }
   ],
   "source": [
    "truck_df['fuel_type'].unique()"
   ]
  },
  {
   "cell_type": "code",
   "execution_count": 81,
   "id": "23bba9b2-f18c-4a6d-808b-581739f29bf1",
   "metadata": {},
   "outputs": [],
   "source": [
    "truck_df['fuel_type']=truck_df['fuel_type'].replace('', 'Unknown')"
   ]
  },
  {
   "cell_type": "code",
   "execution_count": 82,
   "id": "a881996c-7535-4080-8e57-42f5179630a4",
   "metadata": {},
   "outputs": [
    {
     "data": {
      "text/plain": [
       "diesel     692\n",
       "gas        568\n",
       "Unknown     40\n",
       "Name: fuel_type, dtype: int64"
      ]
     },
     "execution_count": 82,
     "metadata": {},
     "output_type": "execute_result"
    }
   ],
   "source": [
    "truck_df['fuel_type'].value_counts()"
   ]
  },
  {
   "cell_type": "code",
   "execution_count": 83,
   "id": "2e537206-0def-4b25-b341-c3fec1c03117",
   "metadata": {},
   "outputs": [
    {
     "data": {
      "text/plain": [
       "0"
      ]
     },
     "execution_count": 83,
     "metadata": {},
     "output_type": "execute_result"
    }
   ],
   "source": [
    "truck_df.duplicated().sum()"
   ]
  },
  {
   "cell_type": "markdown",
   "id": "8c7e2eda-e58e-46b0-998b-fc81a34ba275",
   "metadata": {},
   "source": [
    "## Routes_df "
   ]
  },
  {
   "cell_type": "code",
   "execution_count": 84,
   "id": "53cd5306-6d1f-4372-840b-7b6878c04d27",
   "metadata": {},
   "outputs": [
    {
     "name": "stdout",
     "output_type": "stream",
     "text": [
      "<class 'pandas.core.frame.DataFrame'>\n",
      "RangeIndex: 2352 entries, 0 to 2351\n",
      "Data columns (total 5 columns):\n",
      " #   Column          Non-Null Count  Dtype  \n",
      "---  ------          --------------  -----  \n",
      " 0   route_id        2352 non-null   object \n",
      " 1   origin_id       2352 non-null   object \n",
      " 2   destination_id  2352 non-null   object \n",
      " 3   distance        2352 non-null   float64\n",
      " 4   average_hours   2352 non-null   float64\n",
      "dtypes: float64(2), object(3)\n",
      "memory usage: 92.0+ KB\n"
     ]
    }
   ],
   "source": [
    "routes_df.info()"
   ]
  },
  {
   "cell_type": "code",
   "execution_count": 85,
   "id": "62260b53-ac96-45a2-a9ad-8bb142bb000b",
   "metadata": {},
   "outputs": [
    {
     "data": {
      "text/plain": [
       "route_id          0\n",
       "origin_id         0\n",
       "destination_id    0\n",
       "distance          0\n",
       "average_hours     0\n",
       "dtype: int64"
      ]
     },
     "execution_count": 85,
     "metadata": {},
     "output_type": "execute_result"
    }
   ],
   "source": [
    "routes_df.isna().sum()"
   ]
  },
  {
   "cell_type": "code",
   "execution_count": 86,
   "id": "dbc3a050-b69f-4412-8f12-03f2b243b340",
   "metadata": {},
   "outputs": [
    {
     "data": {
      "text/html": [
       "<div>\n",
       "<style scoped>\n",
       "    .dataframe tbody tr th:only-of-type {\n",
       "        vertical-align: middle;\n",
       "    }\n",
       "\n",
       "    .dataframe tbody tr th {\n",
       "        vertical-align: top;\n",
       "    }\n",
       "\n",
       "    .dataframe thead th {\n",
       "        text-align: right;\n",
       "    }\n",
       "</style>\n",
       "<table border=\"1\" class=\"dataframe\">\n",
       "  <thead>\n",
       "    <tr style=\"text-align: right;\">\n",
       "      <th></th>\n",
       "      <th>distance</th>\n",
       "      <th>average_hours</th>\n",
       "    </tr>\n",
       "  </thead>\n",
       "  <tbody>\n",
       "    <tr>\n",
       "      <th>count</th>\n",
       "      <td>2352.000000</td>\n",
       "      <td>2352.000000</td>\n",
       "    </tr>\n",
       "    <tr>\n",
       "      <th>mean</th>\n",
       "      <td>2376.825230</td>\n",
       "      <td>47.536556</td>\n",
       "    </tr>\n",
       "    <tr>\n",
       "      <th>std</th>\n",
       "      <td>2696.904248</td>\n",
       "      <td>53.938045</td>\n",
       "    </tr>\n",
       "    <tr>\n",
       "      <th>min</th>\n",
       "      <td>3.900000</td>\n",
       "      <td>0.080000</td>\n",
       "    </tr>\n",
       "    <tr>\n",
       "      <th>25%</th>\n",
       "      <td>557.365000</td>\n",
       "      <td>11.147500</td>\n",
       "    </tr>\n",
       "    <tr>\n",
       "      <th>50%</th>\n",
       "      <td>1104.825000</td>\n",
       "      <td>22.100000</td>\n",
       "    </tr>\n",
       "    <tr>\n",
       "      <th>75%</th>\n",
       "      <td>2516.407500</td>\n",
       "      <td>50.327500</td>\n",
       "    </tr>\n",
       "    <tr>\n",
       "      <th>max</th>\n",
       "      <td>10055.010000</td>\n",
       "      <td>201.100000</td>\n",
       "    </tr>\n",
       "  </tbody>\n",
       "</table>\n",
       "</div>"
      ],
      "text/plain": [
       "           distance  average_hours\n",
       "count   2352.000000    2352.000000\n",
       "mean    2376.825230      47.536556\n",
       "std     2696.904248      53.938045\n",
       "min        3.900000       0.080000\n",
       "25%      557.365000      11.147500\n",
       "50%     1104.825000      22.100000\n",
       "75%     2516.407500      50.327500\n",
       "max    10055.010000     201.100000"
      ]
     },
     "execution_count": 86,
     "metadata": {},
     "output_type": "execute_result"
    }
   ],
   "source": [
    "routes_df.describe()"
   ]
  },
  {
   "cell_type": "code",
   "execution_count": 87,
   "id": "8334fe93-20c7-455a-b9c6-fdb48e5d54a5",
   "metadata": {},
   "outputs": [
    {
     "data": {
      "text/html": [
       "<div>\n",
       "<style scoped>\n",
       "    .dataframe tbody tr th:only-of-type {\n",
       "        vertical-align: middle;\n",
       "    }\n",
       "\n",
       "    .dataframe tbody tr th {\n",
       "        vertical-align: top;\n",
       "    }\n",
       "\n",
       "    .dataframe thead th {\n",
       "        text-align: right;\n",
       "    }\n",
       "</style>\n",
       "<table border=\"1\" class=\"dataframe\">\n",
       "  <thead>\n",
       "    <tr style=\"text-align: right;\">\n",
       "      <th></th>\n",
       "      <th>route_id</th>\n",
       "      <th>origin_id</th>\n",
       "      <th>destination_id</th>\n",
       "      <th>distance</th>\n",
       "      <th>average_hours</th>\n",
       "    </tr>\n",
       "  </thead>\n",
       "  <tbody>\n",
       "    <tr>\n",
       "      <th>36</th>\n",
       "      <td>R-1eed753c</td>\n",
       "      <td>C-927ceb5e</td>\n",
       "      <td>C-34ae77b0</td>\n",
       "      <td>8964.48</td>\n",
       "      <td>179.29</td>\n",
       "    </tr>\n",
       "    <tr>\n",
       "      <th>42</th>\n",
       "      <td>R-c03cec67</td>\n",
       "      <td>C-927ceb5e</td>\n",
       "      <td>C-2e349ccd</td>\n",
       "      <td>8518.61</td>\n",
       "      <td>170.37</td>\n",
       "    </tr>\n",
       "    <tr>\n",
       "      <th>70</th>\n",
       "      <td>R-7f1c71f0</td>\n",
       "      <td>C-56e39a5e</td>\n",
       "      <td>C-f5ed4c15</td>\n",
       "      <td>8744.35</td>\n",
       "      <td>174.89</td>\n",
       "    </tr>\n",
       "    <tr>\n",
       "      <th>84</th>\n",
       "      <td>R-3970df53</td>\n",
       "      <td>C-56e39a5e</td>\n",
       "      <td>C-34ae77b0</td>\n",
       "      <td>8291.36</td>\n",
       "      <td>165.83</td>\n",
       "    </tr>\n",
       "    <tr>\n",
       "      <th>90</th>\n",
       "      <td>R-25828d3e</td>\n",
       "      <td>C-56e39a5e</td>\n",
       "      <td>C-2e349ccd</td>\n",
       "      <td>8157.87</td>\n",
       "      <td>163.16</td>\n",
       "    </tr>\n",
       "    <tr>\n",
       "      <th>...</th>\n",
       "      <td>...</td>\n",
       "      <td>...</td>\n",
       "      <td>...</td>\n",
       "      <td>...</td>\n",
       "      <td>...</td>\n",
       "    </tr>\n",
       "    <tr>\n",
       "      <th>2251</th>\n",
       "      <td>R-54e2dd4c</td>\n",
       "      <td>C-841ebdcb</td>\n",
       "      <td>C-2e349ccd</td>\n",
       "      <td>8514.95</td>\n",
       "      <td>170.30</td>\n",
       "    </tr>\n",
       "    <tr>\n",
       "      <th>2293</th>\n",
       "      <td>R-7e706884</td>\n",
       "      <td>C-e6dcda92</td>\n",
       "      <td>C-34ae77b0</td>\n",
       "      <td>8730.24</td>\n",
       "      <td>174.60</td>\n",
       "    </tr>\n",
       "    <tr>\n",
       "      <th>2299</th>\n",
       "      <td>R-1c86de64</td>\n",
       "      <td>C-e6dcda92</td>\n",
       "      <td>C-2e349ccd</td>\n",
       "      <td>8731.38</td>\n",
       "      <td>174.63</td>\n",
       "    </tr>\n",
       "    <tr>\n",
       "      <th>2341</th>\n",
       "      <td>R-03e478bb</td>\n",
       "      <td>C-594514f8</td>\n",
       "      <td>C-34ae77b0</td>\n",
       "      <td>9202.84</td>\n",
       "      <td>184.06</td>\n",
       "    </tr>\n",
       "    <tr>\n",
       "      <th>2347</th>\n",
       "      <td>R-cc900a65</td>\n",
       "      <td>C-594514f8</td>\n",
       "      <td>C-2e349ccd</td>\n",
       "      <td>8283.93</td>\n",
       "      <td>165.68</td>\n",
       "    </tr>\n",
       "  </tbody>\n",
       "</table>\n",
       "<p>150 rows × 5 columns</p>\n",
       "</div>"
      ],
      "text/plain": [
       "        route_id   origin_id destination_id  distance  average_hours\n",
       "36    R-1eed753c  C-927ceb5e     C-34ae77b0   8964.48         179.29\n",
       "42    R-c03cec67  C-927ceb5e     C-2e349ccd   8518.61         170.37\n",
       "70    R-7f1c71f0  C-56e39a5e     C-f5ed4c15   8744.35         174.89\n",
       "84    R-3970df53  C-56e39a5e     C-34ae77b0   8291.36         165.83\n",
       "90    R-25828d3e  C-56e39a5e     C-2e349ccd   8157.87         163.16\n",
       "...          ...         ...            ...       ...            ...\n",
       "2251  R-54e2dd4c  C-841ebdcb     C-2e349ccd   8514.95         170.30\n",
       "2293  R-7e706884  C-e6dcda92     C-34ae77b0   8730.24         174.60\n",
       "2299  R-1c86de64  C-e6dcda92     C-2e349ccd   8731.38         174.63\n",
       "2341  R-03e478bb  C-594514f8     C-34ae77b0   9202.84         184.06\n",
       "2347  R-cc900a65  C-594514f8     C-2e349ccd   8283.93         165.68\n",
       "\n",
       "[150 rows x 5 columns]"
      ]
     },
     "execution_count": 87,
     "metadata": {},
     "output_type": "execute_result"
    }
   ],
   "source": [
    "routes_df[routes_df.distance>8000]"
   ]
  },
  {
   "cell_type": "markdown",
   "id": "6be2ff63-3195-4bdb-a6ba-d219627c321d",
   "metadata": {},
   "source": [
    "## Schedule_df"
   ]
  },
  {
   "cell_type": "code",
   "execution_count": 88,
   "id": "05349efc-b5ce-4578-8a8b-7bfe4e7b1a93",
   "metadata": {},
   "outputs": [
    {
     "data": {
      "text/plain": [
       "truck_id             0\n",
       "route_id             0\n",
       "departure_date       0\n",
       "estimated_arrival    0\n",
       "delay                0\n",
       "dtype: int64"
      ]
     },
     "execution_count": 88,
     "metadata": {},
     "output_type": "execute_result"
    }
   ],
   "source": [
    "schedule_df.isna().sum()"
   ]
  },
  {
   "cell_type": "code",
   "execution_count": 89,
   "id": "d84043cc-a9ad-4238-b001-a2be64cac97b",
   "metadata": {},
   "outputs": [
    {
     "data": {
      "text/plain": [
       "0"
      ]
     },
     "execution_count": 89,
     "metadata": {},
     "output_type": "execute_result"
    }
   ],
   "source": [
    "schedule_df.duplicated().sum()"
   ]
  },
  {
   "cell_type": "markdown",
   "id": "fbdf52dd-e657-41bc-8657-452cde415b08",
   "metadata": {},
   "source": [
    "## Traffic_df"
   ]
  },
  {
   "cell_type": "code",
   "execution_count": 90,
   "id": "165c6492-8843-4ee1-8e94-8cbc245fd222",
   "metadata": {},
   "outputs": [
    {
     "data": {
      "text/plain": [
       "route_id             0\n",
       "date                 0\n",
       "hour                 0\n",
       "no_of_vehicles    1152\n",
       "accident             0\n",
       "dtype: int64"
      ]
     },
     "execution_count": 90,
     "metadata": {},
     "output_type": "execute_result"
    }
   ],
   "source": [
    "traffic_df.isna().sum()"
   ]
  },
  {
   "cell_type": "code",
   "execution_count": 91,
   "id": "2c7c702e-ac64-4703-8446-f464237916fc",
   "metadata": {},
   "outputs": [
    {
     "data": {
      "text/plain": [
       "0"
      ]
     },
     "execution_count": 91,
     "metadata": {},
     "output_type": "execute_result"
    }
   ],
   "source": [
    "traffic_df.duplicated().sum()"
   ]
  },
  {
   "cell_type": "code",
   "execution_count": 92,
   "id": "b31e3012-3eb9-4a59-9df9-7bc3a2b21580",
   "metadata": {},
   "outputs": [],
   "source": [
    "traffic_df['hour']=traffic_df['hour'].apply(lambda x: f'{x:04d}')"
   ]
  },
  {
   "cell_type": "code",
   "execution_count": 93,
   "id": "eabcf7c4-f8dd-40d3-9422-2803a1c09baf",
   "metadata": {},
   "outputs": [],
   "source": [
    "traffic_df['hour']=pd.to_datetime(traffic_df['hour'], format ='%H%M').dt.time"
   ]
  },
  {
   "cell_type": "code",
   "execution_count": 94,
   "id": "5017e4d1-1fb6-40e5-bae5-65169838af74",
   "metadata": {},
   "outputs": [],
   "source": [
    "date_hour=pd.to_datetime(traffic_df['date'].astype('str') + ' ' +traffic_df['hour'].astype('str'))"
   ]
  },
  {
   "cell_type": "code",
   "execution_count": 95,
   "id": "7ad1d36c-716a-4052-b4b2-7e54c7bf9750",
   "metadata": {},
   "outputs": [],
   "source": [
    "traffic_df.insert(1,'custom_date', date_hour)"
   ]
  },
  {
   "cell_type": "code",
   "execution_count": 96,
   "id": "3bb84482-6cd4-4491-a8d6-c5054a72f38c",
   "metadata": {},
   "outputs": [],
   "source": [
    "traffic_df.drop(columns=['date','hour'],inplace=True)"
   ]
  },
  {
   "cell_type": "code",
   "execution_count": 97,
   "id": "0081e46f-80d4-434c-a6a5-a6694caeb7ef",
   "metadata": {},
   "outputs": [
    {
     "data": {
      "text/html": [
       "<div>\n",
       "<style scoped>\n",
       "    .dataframe tbody tr th:only-of-type {\n",
       "        vertical-align: middle;\n",
       "    }\n",
       "\n",
       "    .dataframe tbody tr th {\n",
       "        vertical-align: top;\n",
       "    }\n",
       "\n",
       "    .dataframe thead th {\n",
       "        text-align: right;\n",
       "    }\n",
       "</style>\n",
       "<table border=\"1\" class=\"dataframe\">\n",
       "  <thead>\n",
       "    <tr style=\"text-align: right;\">\n",
       "      <th></th>\n",
       "      <th>route_id</th>\n",
       "      <th>custom_date</th>\n",
       "      <th>no_of_vehicles</th>\n",
       "      <th>accident</th>\n",
       "    </tr>\n",
       "  </thead>\n",
       "  <tbody>\n",
       "    <tr>\n",
       "      <th>0</th>\n",
       "      <td>R-ada2a391</td>\n",
       "      <td>2019-01-01 00:00:00</td>\n",
       "      <td>669.0</td>\n",
       "      <td>0</td>\n",
       "    </tr>\n",
       "    <tr>\n",
       "      <th>1</th>\n",
       "      <td>R-ada2a391</td>\n",
       "      <td>2019-01-01 01:00:00</td>\n",
       "      <td>628.0</td>\n",
       "      <td>0</td>\n",
       "    </tr>\n",
       "  </tbody>\n",
       "</table>\n",
       "</div>"
      ],
      "text/plain": [
       "     route_id         custom_date  no_of_vehicles  accident\n",
       "0  R-ada2a391 2019-01-01 00:00:00           669.0         0\n",
       "1  R-ada2a391 2019-01-01 01:00:00           628.0         0"
      ]
     },
     "execution_count": 97,
     "metadata": {},
     "output_type": "execute_result"
    }
   ],
   "source": [
    "traffic_df.head(2)"
   ]
  },
  {
   "cell_type": "markdown",
   "id": "cac80da2-615b-40f4-a91d-cb23d7cf224d",
   "metadata": {},
   "source": [
    "## City_weather"
   ]
  },
  {
   "cell_type": "code",
   "execution_count": 98,
   "id": "491bfd7f-780c-471d-b266-fd314f7ea5ca",
   "metadata": {},
   "outputs": [
    {
     "name": "stdout",
     "output_type": "stream",
     "text": [
      "<class 'pandas.core.frame.DataFrame'>\n",
      "RangeIndex: 55176 entries, 0 to 55175\n",
      "Data columns (total 14 columns):\n",
      " #   Column           Non-Null Count  Dtype         \n",
      "---  ------           --------------  -----         \n",
      " 0   city_id          55176 non-null  object        \n",
      " 1   date             55176 non-null  datetime64[ns]\n",
      " 2   hour             55176 non-null  int64         \n",
      " 3   temp             55176 non-null  float64       \n",
      " 4   wind_speed       55176 non-null  float64       \n",
      " 5   description      55176 non-null  object        \n",
      " 6   precip           55176 non-null  float64       \n",
      " 7   humidity         55176 non-null  int64         \n",
      " 8   visibility       55176 non-null  float64       \n",
      " 9   pressure         55176 non-null  float64       \n",
      " 10  chanceofrain     55176 non-null  float64       \n",
      " 11  chanceoffog      55176 non-null  float64       \n",
      " 12  chanceofsnow     55176 non-null  float64       \n",
      " 13  chanceofthunder  55176 non-null  float64       \n",
      "dtypes: datetime64[ns](1), float64(9), int64(2), object(2)\n",
      "memory usage: 5.9+ MB\n"
     ]
    }
   ],
   "source": [
    "city_weather.info()"
   ]
  },
  {
   "cell_type": "code",
   "execution_count": 99,
   "id": "c6cc8f5a-e898-4c60-8539-e6579acd5df9",
   "metadata": {},
   "outputs": [
    {
     "data": {
      "text/plain": [
       "0"
      ]
     },
     "execution_count": 99,
     "metadata": {},
     "output_type": "execute_result"
    }
   ],
   "source": [
    "city_weather.duplicated().sum()"
   ]
  },
  {
   "cell_type": "code",
   "execution_count": 100,
   "id": "9ca437a3-935a-43ad-952e-bc4cbb11821f",
   "metadata": {},
   "outputs": [],
   "source": [
    "columns=['chanceofrain','chanceoffog','chanceofsnow','chanceofthunder']"
   ]
  },
  {
   "cell_type": "code",
   "execution_count": 101,
   "id": "fab4c48b-68e0-488a-b04a-c6f9f78f6a5a",
   "metadata": {},
   "outputs": [],
   "source": [
    "city_weather.drop(columns=columns, inplace=True)"
   ]
  },
  {
   "cell_type": "code",
   "execution_count": 102,
   "id": "caafeb5b-9b95-4c26-b935-91ea972a2829",
   "metadata": {},
   "outputs": [
    {
     "data": {
      "text/html": [
       "<div>\n",
       "<style scoped>\n",
       "    .dataframe tbody tr th:only-of-type {\n",
       "        vertical-align: middle;\n",
       "    }\n",
       "\n",
       "    .dataframe tbody tr th {\n",
       "        vertical-align: top;\n",
       "    }\n",
       "\n",
       "    .dataframe thead th {\n",
       "        text-align: right;\n",
       "    }\n",
       "</style>\n",
       "<table border=\"1\" class=\"dataframe\">\n",
       "  <thead>\n",
       "    <tr style=\"text-align: right;\">\n",
       "      <th></th>\n",
       "      <th>city_id</th>\n",
       "      <th>date</th>\n",
       "      <th>hour</th>\n",
       "      <th>temp</th>\n",
       "      <th>wind_speed</th>\n",
       "      <th>description</th>\n",
       "      <th>precip</th>\n",
       "      <th>humidity</th>\n",
       "      <th>visibility</th>\n",
       "      <th>pressure</th>\n",
       "    </tr>\n",
       "  </thead>\n",
       "  <tbody>\n",
       "    <tr>\n",
       "      <th>0</th>\n",
       "      <td>C-927ceb5e</td>\n",
       "      <td>2019-01-01</td>\n",
       "      <td>0</td>\n",
       "      <td>30.0</td>\n",
       "      <td>11.0</td>\n",
       "      <td>Light snow</td>\n",
       "      <td>0.0</td>\n",
       "      <td>86</td>\n",
       "      <td>6.0</td>\n",
       "      <td>1019.0</td>\n",
       "    </tr>\n",
       "    <tr>\n",
       "      <th>1</th>\n",
       "      <td>C-927ceb5e</td>\n",
       "      <td>2019-01-01</td>\n",
       "      <td>100</td>\n",
       "      <td>28.0</td>\n",
       "      <td>12.0</td>\n",
       "      <td>Light snow</td>\n",
       "      <td>0.0</td>\n",
       "      <td>86</td>\n",
       "      <td>5.0</td>\n",
       "      <td>1021.0</td>\n",
       "    </tr>\n",
       "  </tbody>\n",
       "</table>\n",
       "</div>"
      ],
      "text/plain": [
       "      city_id       date  hour  temp  wind_speed description  precip  \\\n",
       "0  C-927ceb5e 2019-01-01     0  30.0        11.0  Light snow     0.0   \n",
       "1  C-927ceb5e 2019-01-01   100  28.0        12.0  Light snow     0.0   \n",
       "\n",
       "   humidity  visibility  pressure  \n",
       "0        86         6.0    1019.0  \n",
       "1        86         5.0    1021.0  "
      ]
     },
     "execution_count": 102,
     "metadata": {},
     "output_type": "execute_result"
    }
   ],
   "source": [
    "city_weather.head(2)"
   ]
  },
  {
   "cell_type": "code",
   "execution_count": 103,
   "id": "a44f8b3d-c9e6-4ccf-ba46-212b3578dd54",
   "metadata": {},
   "outputs": [],
   "source": [
    "city_weather['hour']=city_weather['hour'].apply(lambda x: f'{x:04d}')"
   ]
  },
  {
   "cell_type": "code",
   "execution_count": 104,
   "id": "1b273534-0711-49b1-8ff9-5df2f0f2506d",
   "metadata": {},
   "outputs": [],
   "source": [
    "city_weather['hour']=pd.to_datetime(city_weather['hour'], format ='%H%M').dt.time"
   ]
  },
  {
   "cell_type": "code",
   "execution_count": 105,
   "id": "67794c2c-0a8a-4dfe-9132-fd39949de04b",
   "metadata": {},
   "outputs": [],
   "source": [
    "date_hour=pd.to_datetime(city_weather['date'].astype('str') + ' ' +city_weather['hour'].astype('str'))"
   ]
  },
  {
   "cell_type": "code",
   "execution_count": 106,
   "id": "a9dc35b4-0c01-40e2-abe4-327e6d165079",
   "metadata": {},
   "outputs": [],
   "source": [
    "city_weather.insert(1,'custom_date', date_hour)"
   ]
  },
  {
   "cell_type": "code",
   "execution_count": 107,
   "id": "836624aa-b6b4-4275-848a-a78b4b9bf2b3",
   "metadata": {},
   "outputs": [
    {
     "data": {
      "text/html": [
       "<div>\n",
       "<style scoped>\n",
       "    .dataframe tbody tr th:only-of-type {\n",
       "        vertical-align: middle;\n",
       "    }\n",
       "\n",
       "    .dataframe tbody tr th {\n",
       "        vertical-align: top;\n",
       "    }\n",
       "\n",
       "    .dataframe thead th {\n",
       "        text-align: right;\n",
       "    }\n",
       "</style>\n",
       "<table border=\"1\" class=\"dataframe\">\n",
       "  <thead>\n",
       "    <tr style=\"text-align: right;\">\n",
       "      <th></th>\n",
       "      <th>city_id</th>\n",
       "      <th>custom_date</th>\n",
       "      <th>date</th>\n",
       "      <th>hour</th>\n",
       "      <th>temp</th>\n",
       "      <th>wind_speed</th>\n",
       "      <th>description</th>\n",
       "      <th>precip</th>\n",
       "      <th>humidity</th>\n",
       "      <th>visibility</th>\n",
       "      <th>pressure</th>\n",
       "    </tr>\n",
       "  </thead>\n",
       "  <tbody>\n",
       "    <tr>\n",
       "      <th>0</th>\n",
       "      <td>C-927ceb5e</td>\n",
       "      <td>2019-01-01 00:00:00</td>\n",
       "      <td>2019-01-01</td>\n",
       "      <td>00:00:00</td>\n",
       "      <td>30.0</td>\n",
       "      <td>11.0</td>\n",
       "      <td>Light snow</td>\n",
       "      <td>0.0</td>\n",
       "      <td>86</td>\n",
       "      <td>6.0</td>\n",
       "      <td>1019.0</td>\n",
       "    </tr>\n",
       "    <tr>\n",
       "      <th>1</th>\n",
       "      <td>C-927ceb5e</td>\n",
       "      <td>2019-01-01 01:00:00</td>\n",
       "      <td>2019-01-01</td>\n",
       "      <td>01:00:00</td>\n",
       "      <td>28.0</td>\n",
       "      <td>12.0</td>\n",
       "      <td>Light snow</td>\n",
       "      <td>0.0</td>\n",
       "      <td>86</td>\n",
       "      <td>5.0</td>\n",
       "      <td>1021.0</td>\n",
       "    </tr>\n",
       "  </tbody>\n",
       "</table>\n",
       "</div>"
      ],
      "text/plain": [
       "      city_id         custom_date       date      hour  temp  wind_speed  \\\n",
       "0  C-927ceb5e 2019-01-01 00:00:00 2019-01-01  00:00:00  30.0        11.0   \n",
       "1  C-927ceb5e 2019-01-01 01:00:00 2019-01-01  01:00:00  28.0        12.0   \n",
       "\n",
       "  description  precip  humidity  visibility  pressure  \n",
       "0  Light snow     0.0        86         6.0    1019.0  \n",
       "1  Light snow     0.0        86         5.0    1021.0  "
      ]
     },
     "execution_count": 107,
     "metadata": {},
     "output_type": "execute_result"
    }
   ],
   "source": [
    "city_weather.head(2)"
   ]
  },
  {
   "cell_type": "markdown",
   "id": "507d1a8a-b7fa-401c-9c66-3afdc0f6a899",
   "metadata": {},
   "source": [
    "## Routes_weather"
   ]
  },
  {
   "cell_type": "code",
   "execution_count": 108,
   "id": "3b7eb8f2-bb41-405b-874c-ebc064fd3f24",
   "metadata": {},
   "outputs": [],
   "source": [
    "routes_weather.drop(columns=columns, inplace=True)"
   ]
  },
  {
   "cell_type": "code",
   "execution_count": 109,
   "id": "8ddfdb3b-7e83-406f-b018-3664fab17938",
   "metadata": {},
   "outputs": [
    {
     "data": {
      "text/html": [
       "<div>\n",
       "<style scoped>\n",
       "    .dataframe tbody tr th:only-of-type {\n",
       "        vertical-align: middle;\n",
       "    }\n",
       "\n",
       "    .dataframe tbody tr th {\n",
       "        vertical-align: top;\n",
       "    }\n",
       "\n",
       "    .dataframe thead th {\n",
       "        text-align: right;\n",
       "    }\n",
       "</style>\n",
       "<table border=\"1\" class=\"dataframe\">\n",
       "  <thead>\n",
       "    <tr style=\"text-align: right;\">\n",
       "      <th></th>\n",
       "      <th>route_id</th>\n",
       "      <th>Date</th>\n",
       "      <th>temp</th>\n",
       "      <th>wind_speed</th>\n",
       "      <th>description</th>\n",
       "      <th>precip</th>\n",
       "      <th>humidity</th>\n",
       "      <th>visibility</th>\n",
       "      <th>pressure</th>\n",
       "    </tr>\n",
       "  </thead>\n",
       "  <tbody>\n",
       "    <tr>\n",
       "      <th>0</th>\n",
       "      <td>R-ada2a391</td>\n",
       "      <td>2019-01-01 00:00:00</td>\n",
       "      <td>30.0</td>\n",
       "      <td>11.0</td>\n",
       "      <td>Heavy snow</td>\n",
       "      <td>0.0</td>\n",
       "      <td>90</td>\n",
       "      <td>1.0</td>\n",
       "      <td>1010</td>\n",
       "    </tr>\n",
       "    <tr>\n",
       "      <th>1</th>\n",
       "      <td>R-ada2a391</td>\n",
       "      <td>2019-01-01 06:00:00</td>\n",
       "      <td>30.0</td>\n",
       "      <td>11.0</td>\n",
       "      <td>Heavy snow</td>\n",
       "      <td>0.0</td>\n",
       "      <td>91</td>\n",
       "      <td>3.0</td>\n",
       "      <td>1012</td>\n",
       "    </tr>\n",
       "  </tbody>\n",
       "</table>\n",
       "</div>"
      ],
      "text/plain": [
       "     route_id                Date  temp  wind_speed description  precip  \\\n",
       "0  R-ada2a391 2019-01-01 00:00:00  30.0        11.0  Heavy snow     0.0   \n",
       "1  R-ada2a391 2019-01-01 06:00:00  30.0        11.0  Heavy snow     0.0   \n",
       "\n",
       "   humidity  visibility  pressure  \n",
       "0        90         1.0      1010  \n",
       "1        91         3.0      1012  "
      ]
     },
     "execution_count": 109,
     "metadata": {},
     "output_type": "execute_result"
    }
   ],
   "source": [
    "routes_weather.head(2)"
   ]
  },
  {
   "cell_type": "code",
   "execution_count": 110,
   "id": "062516a5-d9de-45bb-a85a-7de210f8691c",
   "metadata": {},
   "outputs": [
    {
     "data": {
      "text/plain": [
       "0"
      ]
     },
     "execution_count": 110,
     "metadata": {},
     "output_type": "execute_result"
    }
   ],
   "source": [
    "routes_weather.duplicated().sum()"
   ]
  },
  {
   "cell_type": "code",
   "execution_count": 111,
   "id": "e14e566c-2be2-4af9-b495-e019453ce1a6",
   "metadata": {},
   "outputs": [
    {
     "data": {
      "text/html": [
       "<div>\n",
       "<style scoped>\n",
       "    .dataframe tbody tr th:only-of-type {\n",
       "        vertical-align: middle;\n",
       "    }\n",
       "\n",
       "    .dataframe tbody tr th {\n",
       "        vertical-align: top;\n",
       "    }\n",
       "\n",
       "    .dataframe thead th {\n",
       "        text-align: right;\n",
       "    }\n",
       "</style>\n",
       "<table border=\"1\" class=\"dataframe\">\n",
       "  <thead>\n",
       "    <tr style=\"text-align: right;\">\n",
       "      <th></th>\n",
       "      <th>route_id</th>\n",
       "      <th>Date</th>\n",
       "      <th>temp</th>\n",
       "      <th>wind_speed</th>\n",
       "      <th>description</th>\n",
       "      <th>precip</th>\n",
       "      <th>humidity</th>\n",
       "      <th>visibility</th>\n",
       "      <th>pressure</th>\n",
       "    </tr>\n",
       "  </thead>\n",
       "  <tbody>\n",
       "    <tr>\n",
       "      <th>0</th>\n",
       "      <td>R-ada2a391</td>\n",
       "      <td>2019-01-01 00:00:00</td>\n",
       "      <td>30.0</td>\n",
       "      <td>11.0</td>\n",
       "      <td>Heavy snow</td>\n",
       "      <td>0.0</td>\n",
       "      <td>90</td>\n",
       "      <td>1.0</td>\n",
       "      <td>1010</td>\n",
       "    </tr>\n",
       "    <tr>\n",
       "      <th>1</th>\n",
       "      <td>R-ada2a391</td>\n",
       "      <td>2019-01-01 06:00:00</td>\n",
       "      <td>30.0</td>\n",
       "      <td>11.0</td>\n",
       "      <td>Heavy snow</td>\n",
       "      <td>0.0</td>\n",
       "      <td>91</td>\n",
       "      <td>3.0</td>\n",
       "      <td>1012</td>\n",
       "    </tr>\n",
       "  </tbody>\n",
       "</table>\n",
       "</div>"
      ],
      "text/plain": [
       "     route_id                Date  temp  wind_speed description  precip  \\\n",
       "0  R-ada2a391 2019-01-01 00:00:00  30.0        11.0  Heavy snow     0.0   \n",
       "1  R-ada2a391 2019-01-01 06:00:00  30.0        11.0  Heavy snow     0.0   \n",
       "\n",
       "   humidity  visibility  pressure  \n",
       "0        90         1.0      1010  \n",
       "1        91         3.0      1012  "
      ]
     },
     "execution_count": 111,
     "metadata": {},
     "output_type": "execute_result"
    }
   ],
   "source": [
    "routes_weather.head(2)"
   ]
  },
  {
   "cell_type": "markdown",
   "id": "bd542732-b2e0-40dd-8ff3-1d9083d6308c",
   "metadata": {},
   "source": [
    "# Feature Engineering"
   ]
  },
  {
   "cell_type": "markdown",
   "id": "4e3265c4-a875-4317-ab06-0d9e72e9c2b5",
   "metadata": {},
   "source": [
    "## Data\n",
    "\n",
    "- city_weather_df\n",
    "- routes_df\n",
    "- drivers_df\n",
    "- routes_weather\n",
    "- trucks_df\n",
    "- traffic_df\n",
    "- schedule_df"
   ]
  },
  {
   "cell_type": "markdown",
   "id": "72ef9e49-ea37-4ab3-a033-ba9fd7c9565a",
   "metadata": {},
   "source": [
    "## Feature Engineering schedule_df x routes_weather"
   ]
  },
  {
   "cell_type": "code",
   "execution_count": 112,
   "id": "483ad97e-8194-4db1-8a38-58a9d36fed80",
   "metadata": {},
   "outputs": [
    {
     "data": {
      "text/html": [
       "<div>\n",
       "<style scoped>\n",
       "    .dataframe tbody tr th:only-of-type {\n",
       "        vertical-align: middle;\n",
       "    }\n",
       "\n",
       "    .dataframe tbody tr th {\n",
       "        vertical-align: top;\n",
       "    }\n",
       "\n",
       "    .dataframe thead th {\n",
       "        text-align: right;\n",
       "    }\n",
       "</style>\n",
       "<table border=\"1\" class=\"dataframe\">\n",
       "  <thead>\n",
       "    <tr style=\"text-align: right;\">\n",
       "      <th></th>\n",
       "      <th>truck_id</th>\n",
       "      <th>route_id</th>\n",
       "      <th>departure_date</th>\n",
       "      <th>estimated_arrival</th>\n",
       "      <th>delay</th>\n",
       "    </tr>\n",
       "  </thead>\n",
       "  <tbody>\n",
       "    <tr>\n",
       "      <th>0</th>\n",
       "      <td>30312694</td>\n",
       "      <td>R-b236e347</td>\n",
       "      <td>2019-01-01 07:00:00</td>\n",
       "      <td>2019-01-01 13:13:12</td>\n",
       "      <td>0</td>\n",
       "    </tr>\n",
       "    <tr>\n",
       "      <th>1</th>\n",
       "      <td>59856374</td>\n",
       "      <td>R-29ea762e</td>\n",
       "      <td>2019-01-01 07:00:00</td>\n",
       "      <td>2019-01-02 04:01:12</td>\n",
       "      <td>0</td>\n",
       "    </tr>\n",
       "  </tbody>\n",
       "</table>\n",
       "</div>"
      ],
      "text/plain": [
       "   truck_id    route_id      departure_date   estimated_arrival  delay\n",
       "0  30312694  R-b236e347 2019-01-01 07:00:00 2019-01-01 13:13:12      0\n",
       "1  59856374  R-29ea762e 2019-01-01 07:00:00 2019-01-02 04:01:12      0"
      ]
     },
     "execution_count": 112,
     "metadata": {},
     "output_type": "execute_result"
    }
   ],
   "source": [
    "schedule_df.head(2)"
   ]
  },
  {
   "cell_type": "code",
   "execution_count": 113,
   "id": "1fab3bd4-d4eb-4f16-8c02-896a9d527bb2",
   "metadata": {},
   "outputs": [],
   "source": [
    "routes_weather=routes_weather.sort_values(by=['route_id','Date']).reset_index(drop=True)"
   ]
  },
  {
   "cell_type": "code",
   "execution_count": 114,
   "id": "ca50238e-0992-4b5d-9072-e14907536a5a",
   "metadata": {},
   "outputs": [
    {
     "data": {
      "text/html": [
       "<div>\n",
       "<style scoped>\n",
       "    .dataframe tbody tr th:only-of-type {\n",
       "        vertical-align: middle;\n",
       "    }\n",
       "\n",
       "    .dataframe tbody tr th {\n",
       "        vertical-align: top;\n",
       "    }\n",
       "\n",
       "    .dataframe thead th {\n",
       "        text-align: right;\n",
       "    }\n",
       "</style>\n",
       "<table border=\"1\" class=\"dataframe\">\n",
       "  <thead>\n",
       "    <tr style=\"text-align: right;\">\n",
       "      <th></th>\n",
       "      <th>route_id</th>\n",
       "      <th>Date</th>\n",
       "      <th>temp</th>\n",
       "      <th>wind_speed</th>\n",
       "      <th>description</th>\n",
       "      <th>precip</th>\n",
       "      <th>humidity</th>\n",
       "      <th>visibility</th>\n",
       "      <th>pressure</th>\n",
       "    </tr>\n",
       "  </thead>\n",
       "  <tbody>\n",
       "    <tr>\n",
       "      <th>0</th>\n",
       "      <td>R-003c7a81</td>\n",
       "      <td>2019-01-01 00:00:00</td>\n",
       "      <td>68.0</td>\n",
       "      <td>8.0</td>\n",
       "      <td>Patchy rain possible</td>\n",
       "      <td>0.0</td>\n",
       "      <td>95</td>\n",
       "      <td>6.0</td>\n",
       "      <td>1003</td>\n",
       "    </tr>\n",
       "    <tr>\n",
       "      <th>1</th>\n",
       "      <td>R-003c7a81</td>\n",
       "      <td>2019-01-01 06:00:00</td>\n",
       "      <td>70.0</td>\n",
       "      <td>7.0</td>\n",
       "      <td>Partly cloudy</td>\n",
       "      <td>0.0</td>\n",
       "      <td>95</td>\n",
       "      <td>6.0</td>\n",
       "      <td>1003</td>\n",
       "    </tr>\n",
       "  </tbody>\n",
       "</table>\n",
       "</div>"
      ],
      "text/plain": [
       "     route_id                Date  temp  wind_speed           description  \\\n",
       "0  R-003c7a81 2019-01-01 00:00:00  68.0         8.0  Patchy rain possible   \n",
       "1  R-003c7a81 2019-01-01 06:00:00  70.0         7.0         Partly cloudy   \n",
       "\n",
       "   precip  humidity  visibility  pressure  \n",
       "0     0.0        95         6.0      1003  \n",
       "1     0.0        95         6.0      1003  "
      ]
     },
     "execution_count": 114,
     "metadata": {},
     "output_type": "execute_result"
    }
   ],
   "source": [
    "routes_weather.head(2)"
   ]
  },
  {
   "cell_type": "code",
   "execution_count": 115,
   "id": "130bad23-d1d0-40aa-8c47-3cee54f45d8c",
   "metadata": {},
   "outputs": [],
   "source": [
    "routes_weather.rename(columns={'Date':'date'},inplace=True)"
   ]
  },
  {
   "cell_type": "markdown",
   "id": "c3fffb86-f8e9-4ac2-9c28-5bddeb9ded9a",
   "metadata": {},
   "source": [
    "#### changing departure_date and estimated_arrival in schedule_df to every 6hrs to match interval as routes_weather"
   ]
  },
  {
   "cell_type": "code",
   "execution_count": 116,
   "id": "ef405589-92f7-43c5-bf21-2c7cb284c3ac",
   "metadata": {},
   "outputs": [],
   "source": [
    "#adding a unique id column for the new change\n",
    "schedule_df.insert(0,'unique_id',np.arange(len(schedule_df)))"
   ]
  },
  {
   "cell_type": "code",
   "execution_count": 117,
   "id": "715f8d53-fd69-4f0b-bcda-8eedb6c5ad77",
   "metadata": {},
   "outputs": [
    {
     "data": {
      "text/html": [
       "<div>\n",
       "<style scoped>\n",
       "    .dataframe tbody tr th:only-of-type {\n",
       "        vertical-align: middle;\n",
       "    }\n",
       "\n",
       "    .dataframe tbody tr th {\n",
       "        vertical-align: top;\n",
       "    }\n",
       "\n",
       "    .dataframe thead th {\n",
       "        text-align: right;\n",
       "    }\n",
       "</style>\n",
       "<table border=\"1\" class=\"dataframe\">\n",
       "  <thead>\n",
       "    <tr style=\"text-align: right;\">\n",
       "      <th></th>\n",
       "      <th>unique_id</th>\n",
       "      <th>truck_id</th>\n",
       "      <th>route_id</th>\n",
       "      <th>departure_date</th>\n",
       "      <th>estimated_arrival</th>\n",
       "      <th>delay</th>\n",
       "    </tr>\n",
       "  </thead>\n",
       "  <tbody>\n",
       "    <tr>\n",
       "      <th>0</th>\n",
       "      <td>0</td>\n",
       "      <td>30312694</td>\n",
       "      <td>R-b236e347</td>\n",
       "      <td>2019-01-01 07:00:00</td>\n",
       "      <td>2019-01-01 13:13:12</td>\n",
       "      <td>0</td>\n",
       "    </tr>\n",
       "    <tr>\n",
       "      <th>1</th>\n",
       "      <td>1</td>\n",
       "      <td>59856374</td>\n",
       "      <td>R-29ea762e</td>\n",
       "      <td>2019-01-01 07:00:00</td>\n",
       "      <td>2019-01-02 04:01:12</td>\n",
       "      <td>0</td>\n",
       "    </tr>\n",
       "  </tbody>\n",
       "</table>\n",
       "</div>"
      ],
      "text/plain": [
       "   unique_id  truck_id    route_id      departure_date   estimated_arrival  \\\n",
       "0          0  30312694  R-b236e347 2019-01-01 07:00:00 2019-01-01 13:13:12   \n",
       "1          1  59856374  R-29ea762e 2019-01-01 07:00:00 2019-01-02 04:01:12   \n",
       "\n",
       "   delay  \n",
       "0      0  \n",
       "1      0  "
      ]
     },
     "execution_count": 117,
     "metadata": {},
     "output_type": "execute_result"
    }
   ],
   "source": [
    "schedule_df.head(2)"
   ]
  },
  {
   "cell_type": "code",
   "execution_count": 118,
   "id": "51874388-afef-4c25-b9db-93ba3a0c7e6e",
   "metadata": {},
   "outputs": [],
   "source": [
    "new_schedule_df=schedule_df.copy()"
   ]
  },
  {
   "cell_type": "code",
   "execution_count": 119,
   "id": "7d387ce3-58f8-465b-a150-5a43b45ff624",
   "metadata": {},
   "outputs": [],
   "source": [
    "#using the .floor() to approximate to nearest 6 hour\n",
    "new_schedule_df['departure_date']=new_schedule_df['departure_date'].dt.floor(\"6H\")"
   ]
  },
  {
   "cell_type": "code",
   "execution_count": 120,
   "id": "d7304adf-22e2-4438-bce1-d26e9352c2cc",
   "metadata": {},
   "outputs": [],
   "source": [
    "new_schedule_df['estimated_arrival']=new_schedule_df['estimated_arrival'].dt.ceil(\"6H\")"
   ]
  },
  {
   "cell_type": "code",
   "execution_count": 121,
   "id": "49a99aa6-c6d4-49d5-aafd-31c4a9097d61",
   "metadata": {},
   "outputs": [
    {
     "data": {
      "text/html": [
       "<div>\n",
       "<style scoped>\n",
       "    .dataframe tbody tr th:only-of-type {\n",
       "        vertical-align: middle;\n",
       "    }\n",
       "\n",
       "    .dataframe tbody tr th {\n",
       "        vertical-align: top;\n",
       "    }\n",
       "\n",
       "    .dataframe thead th {\n",
       "        text-align: right;\n",
       "    }\n",
       "</style>\n",
       "<table border=\"1\" class=\"dataframe\">\n",
       "  <thead>\n",
       "    <tr style=\"text-align: right;\">\n",
       "      <th></th>\n",
       "      <th>unique_id</th>\n",
       "      <th>truck_id</th>\n",
       "      <th>route_id</th>\n",
       "      <th>departure_date</th>\n",
       "      <th>estimated_arrival</th>\n",
       "      <th>delay</th>\n",
       "    </tr>\n",
       "  </thead>\n",
       "  <tbody>\n",
       "    <tr>\n",
       "      <th>0</th>\n",
       "      <td>0</td>\n",
       "      <td>30312694</td>\n",
       "      <td>R-b236e347</td>\n",
       "      <td>2019-01-01 06:00:00</td>\n",
       "      <td>2019-01-01 18:00:00</td>\n",
       "      <td>0</td>\n",
       "    </tr>\n",
       "    <tr>\n",
       "      <th>1</th>\n",
       "      <td>1</td>\n",
       "      <td>59856374</td>\n",
       "      <td>R-29ea762e</td>\n",
       "      <td>2019-01-01 06:00:00</td>\n",
       "      <td>2019-01-02 06:00:00</td>\n",
       "      <td>0</td>\n",
       "    </tr>\n",
       "  </tbody>\n",
       "</table>\n",
       "</div>"
      ],
      "text/plain": [
       "   unique_id  truck_id    route_id      departure_date   estimated_arrival  \\\n",
       "0          0  30312694  R-b236e347 2019-01-01 06:00:00 2019-01-01 18:00:00   \n",
       "1          1  59856374  R-29ea762e 2019-01-01 06:00:00 2019-01-02 06:00:00   \n",
       "\n",
       "   delay  \n",
       "0      0  \n",
       "1      0  "
      ]
     },
     "execution_count": 121,
     "metadata": {},
     "output_type": "execute_result"
    }
   ],
   "source": [
    "new_schedule_df.head(2)"
   ]
  },
  {
   "cell_type": "code",
   "execution_count": 122,
   "id": "d73727f9-448a-4028-a21f-31f88cf616ed",
   "metadata": {},
   "outputs": [],
   "source": [
    "explode_schedule_df=new_schedule_df.assign(date=[pd.date_range(start,end,freq='6H')\n",
    "for start, end in zip(new_schedule_df['departure_date'],new_schedule_df['estimated_arrival'])]).explode('date',ignore_index=True)"
   ]
  },
  {
   "cell_type": "code",
   "execution_count": 123,
   "id": "d1fb0186-a9e5-4e7f-852d-d5c78f1b2ce4",
   "metadata": {},
   "outputs": [],
   "source": [
    "schedule_weather=explode_schedule_df.merge(routes_weather, on=['route_id','date'], how='left')"
   ]
  },
  {
   "cell_type": "code",
   "execution_count": 193,
   "id": "2d75fe91-89c5-4395-87de-9902b6802832",
   "metadata": {},
   "outputs": [
    {
     "data": {
      "text/plain": [
       "(71376, 14)"
      ]
     },
     "execution_count": 193,
     "metadata": {},
     "output_type": "execute_result"
    }
   ],
   "source": [
    "schedule_weather.shape"
   ]
  },
  {
   "cell_type": "code",
   "execution_count": 125,
   "id": "c899b744-72d9-4d6f-83b1-12e3fd0a1797",
   "metadata": {},
   "outputs": [],
   "source": [
    "#making a mode function for description to pick teh 1st most frequent description\n",
    "def custom_mode(x):\n",
    "    return x.mode().iloc[0]"
   ]
  },
  {
   "cell_type": "code",
   "execution_count": 126,
   "id": "2dbc97cc-93ab-4796-9994-31b48ad7f6a2",
   "metadata": {},
   "outputs": [],
   "source": [
    "schedule_weather_grp=schedule_weather.groupby(['unique_id','truck_id','route_id'], as_index=False).agg(route_avg_temp=('temp','mean'),\n",
    "                                                                                  route_avg_wind=('wind_speed','mean'),\n",
    "                                                                                  route_avg_precip=('precip','mean'),\n",
    "                                                                                  route_avg_humidity=('humidity','mean'),\n",
    "                                                                                  route_avg_visibility=('visibility','mean'),\n",
    "                                                                                  route_avg_pressure=('pressure','mean'),\n",
    "                                                                                  route_description=('description',custom_mode))"
   ]
  },
  {
   "cell_type": "code",
   "execution_count": 127,
   "id": "5a883359-226d-4194-aec0-1d981c3045c1",
   "metadata": {},
   "outputs": [
    {
     "data": {
      "text/html": [
       "<div>\n",
       "<style scoped>\n",
       "    .dataframe tbody tr th:only-of-type {\n",
       "        vertical-align: middle;\n",
       "    }\n",
       "\n",
       "    .dataframe tbody tr th {\n",
       "        vertical-align: top;\n",
       "    }\n",
       "\n",
       "    .dataframe thead th {\n",
       "        text-align: right;\n",
       "    }\n",
       "</style>\n",
       "<table border=\"1\" class=\"dataframe\">\n",
       "  <thead>\n",
       "    <tr style=\"text-align: right;\">\n",
       "      <th></th>\n",
       "      <th>unique_id</th>\n",
       "      <th>truck_id</th>\n",
       "      <th>route_id</th>\n",
       "      <th>route_avg_temp</th>\n",
       "      <th>route_avg_wind</th>\n",
       "      <th>route_avg_precip</th>\n",
       "      <th>route_avg_humidity</th>\n",
       "      <th>route_avg_visibility</th>\n",
       "      <th>route_avg_pressure</th>\n",
       "      <th>route_description</th>\n",
       "    </tr>\n",
       "  </thead>\n",
       "  <tbody>\n",
       "    <tr>\n",
       "      <th>0</th>\n",
       "      <td>0</td>\n",
       "      <td>30312694</td>\n",
       "      <td>R-b236e347</td>\n",
       "      <td>28.333333</td>\n",
       "      <td>4.333333</td>\n",
       "      <td>0.0</td>\n",
       "      <td>82.333333</td>\n",
       "      <td>6.0</td>\n",
       "      <td>1010.0</td>\n",
       "      <td>Clear</td>\n",
       "    </tr>\n",
       "    <tr>\n",
       "      <th>1</th>\n",
       "      <td>1</td>\n",
       "      <td>59856374</td>\n",
       "      <td>R-29ea762e</td>\n",
       "      <td>40.000000</td>\n",
       "      <td>10.600000</td>\n",
       "      <td>0.0</td>\n",
       "      <td>78.800000</td>\n",
       "      <td>6.0</td>\n",
       "      <td>1022.2</td>\n",
       "      <td>Overcast</td>\n",
       "    </tr>\n",
       "  </tbody>\n",
       "</table>\n",
       "</div>"
      ],
      "text/plain": [
       "   unique_id  truck_id    route_id  route_avg_temp  route_avg_wind  \\\n",
       "0          0  30312694  R-b236e347       28.333333        4.333333   \n",
       "1          1  59856374  R-29ea762e       40.000000       10.600000   \n",
       "\n",
       "   route_avg_precip  route_avg_humidity  route_avg_visibility  \\\n",
       "0               0.0           82.333333                   6.0   \n",
       "1               0.0           78.800000                   6.0   \n",
       "\n",
       "   route_avg_pressure route_description  \n",
       "0              1010.0             Clear  \n",
       "1              1022.2          Overcast  "
      ]
     },
     "execution_count": 127,
     "metadata": {},
     "output_type": "execute_result"
    }
   ],
   "source": [
    "schedule_weather_grp.head(2)"
   ]
  },
  {
   "cell_type": "code",
   "execution_count": 128,
   "id": "5610ae91-c392-47f4-9b04-256a486c1d9d",
   "metadata": {},
   "outputs": [],
   "source": [
    "#merge with original schedule_df \n",
    "schedule_df_merge=schedule_df.merge(schedule_weather_grp, on=(['unique_id','truck_id','route_id']), how='left')"
   ]
  },
  {
   "cell_type": "code",
   "execution_count": 129,
   "id": "2b6a0442-c351-4b2b-baf3-ad84993ce898",
   "metadata": {},
   "outputs": [
    {
     "data": {
      "text/plain": [
       "unique_id               0\n",
       "truck_id                0\n",
       "route_id                0\n",
       "departure_date          0\n",
       "estimated_arrival       0\n",
       "delay                   0\n",
       "route_avg_temp          0\n",
       "route_avg_wind          0\n",
       "route_avg_precip        0\n",
       "route_avg_humidity      0\n",
       "route_avg_visibility    0\n",
       "route_avg_pressure      0\n",
       "route_description       0\n",
       "dtype: int64"
      ]
     },
     "execution_count": 129,
     "metadata": {},
     "output_type": "execute_result"
    }
   ],
   "source": [
    "schedule_df_merge.isna().sum()"
   ]
  },
  {
   "cell_type": "markdown",
   "id": "310e3723-61db-49b5-bfe2-b98daa82c714",
   "metadata": {},
   "source": [
    "## Feature Engineering: City_Weather data"
   ]
  },
  {
   "cell_type": "code",
   "execution_count": 130,
   "id": "fcfed7ce-5680-4cf7-9801-61c3ac1dc321",
   "metadata": {},
   "outputs": [
    {
     "data": {
      "text/html": [
       "<div>\n",
       "<style scoped>\n",
       "    .dataframe tbody tr th:only-of-type {\n",
       "        vertical-align: middle;\n",
       "    }\n",
       "\n",
       "    .dataframe tbody tr th {\n",
       "        vertical-align: top;\n",
       "    }\n",
       "\n",
       "    .dataframe thead th {\n",
       "        text-align: right;\n",
       "    }\n",
       "</style>\n",
       "<table border=\"1\" class=\"dataframe\">\n",
       "  <thead>\n",
       "    <tr style=\"text-align: right;\">\n",
       "      <th></th>\n",
       "      <th>city_id</th>\n",
       "      <th>custom_date</th>\n",
       "      <th>date</th>\n",
       "      <th>hour</th>\n",
       "      <th>temp</th>\n",
       "      <th>wind_speed</th>\n",
       "      <th>description</th>\n",
       "      <th>precip</th>\n",
       "      <th>humidity</th>\n",
       "      <th>visibility</th>\n",
       "      <th>pressure</th>\n",
       "    </tr>\n",
       "  </thead>\n",
       "  <tbody>\n",
       "    <tr>\n",
       "      <th>0</th>\n",
       "      <td>C-927ceb5e</td>\n",
       "      <td>2019-01-01 00:00:00</td>\n",
       "      <td>2019-01-01</td>\n",
       "      <td>00:00:00</td>\n",
       "      <td>30.0</td>\n",
       "      <td>11.0</td>\n",
       "      <td>Light snow</td>\n",
       "      <td>0.0</td>\n",
       "      <td>86</td>\n",
       "      <td>6.0</td>\n",
       "      <td>1019.0</td>\n",
       "    </tr>\n",
       "    <tr>\n",
       "      <th>1</th>\n",
       "      <td>C-927ceb5e</td>\n",
       "      <td>2019-01-01 01:00:00</td>\n",
       "      <td>2019-01-01</td>\n",
       "      <td>01:00:00</td>\n",
       "      <td>28.0</td>\n",
       "      <td>12.0</td>\n",
       "      <td>Light snow</td>\n",
       "      <td>0.0</td>\n",
       "      <td>86</td>\n",
       "      <td>5.0</td>\n",
       "      <td>1021.0</td>\n",
       "    </tr>\n",
       "  </tbody>\n",
       "</table>\n",
       "</div>"
      ],
      "text/plain": [
       "      city_id         custom_date       date      hour  temp  wind_speed  \\\n",
       "0  C-927ceb5e 2019-01-01 00:00:00 2019-01-01  00:00:00  30.0        11.0   \n",
       "1  C-927ceb5e 2019-01-01 01:00:00 2019-01-01  01:00:00  28.0        12.0   \n",
       "\n",
       "  description  precip  humidity  visibility  pressure  \n",
       "0  Light snow     0.0        86         6.0    1019.0  \n",
       "1  Light snow     0.0        86         5.0    1021.0  "
      ]
     },
     "execution_count": 130,
     "metadata": {},
     "output_type": "execute_result"
    }
   ],
   "source": [
    "city_weather.head(2)"
   ]
  },
  {
   "cell_type": "code",
   "execution_count": 131,
   "id": "3f6a2029-b8c9-41fb-bdd7-9f5112c4b43b",
   "metadata": {},
   "outputs": [],
   "source": [
    "weather_df=city_weather.sort_values(by=['city_id','custom_date']).reset_index(drop=True)"
   ]
  },
  {
   "cell_type": "code",
   "execution_count": 132,
   "id": "44e63381-9719-4b6a-bafa-0c3e573150ab",
   "metadata": {},
   "outputs": [
    {
     "data": {
      "text/html": [
       "<div>\n",
       "<style scoped>\n",
       "    .dataframe tbody tr th:only-of-type {\n",
       "        vertical-align: middle;\n",
       "    }\n",
       "\n",
       "    .dataframe tbody tr th {\n",
       "        vertical-align: top;\n",
       "    }\n",
       "\n",
       "    .dataframe thead th {\n",
       "        text-align: right;\n",
       "    }\n",
       "</style>\n",
       "<table border=\"1\" class=\"dataframe\">\n",
       "  <thead>\n",
       "    <tr style=\"text-align: right;\">\n",
       "      <th></th>\n",
       "      <th>city_id</th>\n",
       "      <th>custom_date</th>\n",
       "      <th>date</th>\n",
       "      <th>hour</th>\n",
       "      <th>temp</th>\n",
       "      <th>wind_speed</th>\n",
       "      <th>description</th>\n",
       "      <th>precip</th>\n",
       "      <th>humidity</th>\n",
       "      <th>visibility</th>\n",
       "      <th>pressure</th>\n",
       "    </tr>\n",
       "  </thead>\n",
       "  <tbody>\n",
       "    <tr>\n",
       "      <th>0</th>\n",
       "      <td>C-01660979</td>\n",
       "      <td>2019-01-01 00:00:00</td>\n",
       "      <td>2019-01-01</td>\n",
       "      <td>00:00:00</td>\n",
       "      <td>50.0</td>\n",
       "      <td>9.0</td>\n",
       "      <td>Heavy rain</td>\n",
       "      <td>0.5</td>\n",
       "      <td>96</td>\n",
       "      <td>3.0</td>\n",
       "      <td>1009.0</td>\n",
       "    </tr>\n",
       "    <tr>\n",
       "      <th>1</th>\n",
       "      <td>C-01660979</td>\n",
       "      <td>2019-01-01 01:00:00</td>\n",
       "      <td>2019-01-01</td>\n",
       "      <td>01:00:00</td>\n",
       "      <td>52.0</td>\n",
       "      <td>10.0</td>\n",
       "      <td>Heavy rain</td>\n",
       "      <td>0.2</td>\n",
       "      <td>95</td>\n",
       "      <td>2.0</td>\n",
       "      <td>1008.0</td>\n",
       "    </tr>\n",
       "  </tbody>\n",
       "</table>\n",
       "</div>"
      ],
      "text/plain": [
       "      city_id         custom_date       date      hour  temp  wind_speed  \\\n",
       "0  C-01660979 2019-01-01 00:00:00 2019-01-01  00:00:00  50.0         9.0   \n",
       "1  C-01660979 2019-01-01 01:00:00 2019-01-01  01:00:00  52.0        10.0   \n",
       "\n",
       "  description  precip  humidity  visibility  pressure  \n",
       "0  Heavy rain     0.5        96         3.0    1009.0  \n",
       "1  Heavy rain     0.2        95         2.0    1008.0  "
      ]
     },
     "execution_count": 132,
     "metadata": {},
     "output_type": "execute_result"
    }
   ],
   "source": [
    "weather_df.head(2)"
   ]
  },
  {
   "cell_type": "markdown",
   "id": "d0ac6a28-97e8-4c0f-8fe2-40d26437a515",
   "metadata": {},
   "source": [
    "#### merge weather x schedule df to give weather deaprture date at origin and estimated arrival at destination_id of routes df"
   ]
  },
  {
   "cell_type": "code",
   "execution_count": 133,
   "id": "42a6fa7b-3ac0-4f08-b639-dcac8251d0c1",
   "metadata": {},
   "outputs": [
    {
     "data": {
      "text/plain": [
       "(12308, 6)"
      ]
     },
     "execution_count": 133,
     "metadata": {},
     "output_type": "execute_result"
    }
   ],
   "source": [
    "schedule_df.shape"
   ]
  },
  {
   "cell_type": "code",
   "execution_count": 162,
   "id": "1294e78f-eeb8-4b53-ac22-47a788f7bee5",
   "metadata": {},
   "outputs": [
    {
     "data": {
      "text/html": [
       "<div>\n",
       "<style scoped>\n",
       "    .dataframe tbody tr th:only-of-type {\n",
       "        vertical-align: middle;\n",
       "    }\n",
       "\n",
       "    .dataframe tbody tr th {\n",
       "        vertical-align: top;\n",
       "    }\n",
       "\n",
       "    .dataframe thead th {\n",
       "        text-align: right;\n",
       "    }\n",
       "</style>\n",
       "<table border=\"1\" class=\"dataframe\">\n",
       "  <thead>\n",
       "    <tr style=\"text-align: right;\">\n",
       "      <th></th>\n",
       "      <th>unique_id</th>\n",
       "      <th>truck_id</th>\n",
       "      <th>route_id</th>\n",
       "      <th>departure_date</th>\n",
       "      <th>estimated_arrival</th>\n",
       "      <th>delay</th>\n",
       "    </tr>\n",
       "  </thead>\n",
       "  <tbody>\n",
       "    <tr>\n",
       "      <th>0</th>\n",
       "      <td>0</td>\n",
       "      <td>30312694</td>\n",
       "      <td>R-b236e347</td>\n",
       "      <td>2019-01-01 07:00:00</td>\n",
       "      <td>2019-01-01 13:13:12</td>\n",
       "      <td>0</td>\n",
       "    </tr>\n",
       "    <tr>\n",
       "      <th>1</th>\n",
       "      <td>1</td>\n",
       "      <td>59856374</td>\n",
       "      <td>R-29ea762e</td>\n",
       "      <td>2019-01-01 07:00:00</td>\n",
       "      <td>2019-01-02 04:01:12</td>\n",
       "      <td>0</td>\n",
       "    </tr>\n",
       "  </tbody>\n",
       "</table>\n",
       "</div>"
      ],
      "text/plain": [
       "   unique_id  truck_id    route_id      departure_date   estimated_arrival  \\\n",
       "0          0  30312694  R-b236e347 2019-01-01 07:00:00 2019-01-01 13:13:12   \n",
       "1          1  59856374  R-29ea762e 2019-01-01 07:00:00 2019-01-02 04:01:12   \n",
       "\n",
       "   delay  \n",
       "0      0  \n",
       "1      0  "
      ]
     },
     "execution_count": 162,
     "metadata": {},
     "output_type": "execute_result"
    }
   ],
   "source": [
    "schedule_df.head(2)"
   ]
  },
  {
   "cell_type": "code",
   "execution_count": 134,
   "id": "13b231df-5c4c-432f-b05f-71c1c16c8c2c",
   "metadata": {},
   "outputs": [],
   "source": [
    "near_hr_schedule=schedule_df.copy()"
   ]
  },
  {
   "cell_type": "code",
   "execution_count": 135,
   "id": "02378ab8-a4b1-44c9-9966-c7e939b78f81",
   "metadata": {},
   "outputs": [],
   "source": [
    "near_hr_schedule['estimated_arrival_nearest_hour']=near_hr_schedule['estimated_arrival'].dt.round('H')\n",
    "near_hr_schedule['departure_date_nearest_hour']=near_hr_schedule['departure_date'].dt.round('H')"
   ]
  },
  {
   "cell_type": "code",
   "execution_count": 163,
   "id": "90366791-141f-4da7-a7ed-2a64823a06b6",
   "metadata": {},
   "outputs": [
    {
     "data": {
      "text/plain": [
       "unique_id                                  int64\n",
       "truck_id                                   int64\n",
       "route_id                                  object\n",
       "departure_date                    datetime64[ns]\n",
       "estimated_arrival                 datetime64[ns]\n",
       "delay                                      int64\n",
       "estimated_arrival_nearest_hour    datetime64[ns]\n",
       "departure_date_nearest_hour       datetime64[ns]\n",
       "dtype: object"
      ]
     },
     "execution_count": 163,
     "metadata": {},
     "output_type": "execute_result"
    }
   ],
   "source": [
    "near_hr_schedule.dtypes"
   ]
  },
  {
   "cell_type": "code",
   "execution_count": 137,
   "id": "5644d1a3-8ff2-4086-be9a-e7ddb1a31fae",
   "metadata": {},
   "outputs": [
    {
     "data": {
      "text/plain": [
       "(12308, 8)"
      ]
     },
     "execution_count": 137,
     "metadata": {},
     "output_type": "execute_result"
    }
   ],
   "source": [
    "near_hr_schedule.shape"
   ]
  },
  {
   "cell_type": "code",
   "execution_count": 194,
   "id": "32b7f30e-a0e9-49e6-97ed-694d0a648273",
   "metadata": {},
   "outputs": [
    {
     "data": {
      "text/html": [
       "<div>\n",
       "<style scoped>\n",
       "    .dataframe tbody tr th:only-of-type {\n",
       "        vertical-align: middle;\n",
       "    }\n",
       "\n",
       "    .dataframe tbody tr th {\n",
       "        vertical-align: top;\n",
       "    }\n",
       "\n",
       "    .dataframe thead th {\n",
       "        text-align: right;\n",
       "    }\n",
       "</style>\n",
       "<table border=\"1\" class=\"dataframe\">\n",
       "  <thead>\n",
       "    <tr style=\"text-align: right;\">\n",
       "      <th></th>\n",
       "      <th>route_id</th>\n",
       "      <th>origin_id</th>\n",
       "      <th>destination_id</th>\n",
       "      <th>distance</th>\n",
       "      <th>average_hours</th>\n",
       "    </tr>\n",
       "  </thead>\n",
       "  <tbody>\n",
       "    <tr>\n",
       "      <th>0</th>\n",
       "      <td>R-ada2a391</td>\n",
       "      <td>C-927ceb5e</td>\n",
       "      <td>C-56e39a5e</td>\n",
       "      <td>1735.06</td>\n",
       "      <td>34.70</td>\n",
       "    </tr>\n",
       "    <tr>\n",
       "      <th>1</th>\n",
       "      <td>R-ae0ef31f</td>\n",
       "      <td>C-927ceb5e</td>\n",
       "      <td>C-73ae5412</td>\n",
       "      <td>1498.24</td>\n",
       "      <td>29.96</td>\n",
       "    </tr>\n",
       "  </tbody>\n",
       "</table>\n",
       "</div>"
      ],
      "text/plain": [
       "     route_id   origin_id destination_id  distance  average_hours\n",
       "0  R-ada2a391  C-927ceb5e     C-56e39a5e   1735.06          34.70\n",
       "1  R-ae0ef31f  C-927ceb5e     C-73ae5412   1498.24          29.96"
      ]
     },
     "execution_count": 194,
     "metadata": {},
     "output_type": "execute_result"
    }
   ],
   "source": [
    "routes_df.head(2)"
   ]
  },
  {
   "cell_type": "code",
   "execution_count": 138,
   "id": "c08b64a5-efb5-4d92-b7df-c249bb8593d8",
   "metadata": {},
   "outputs": [],
   "source": [
    "#merge schedule and route\n",
    "schedule_route=near_hr_schedule.merge(routes_df, on=['route_id'], how='left')"
   ]
  },
  {
   "cell_type": "code",
   "execution_count": 139,
   "id": "3116f512-1924-4f04-94c9-baf86b64d413",
   "metadata": {},
   "outputs": [
    {
     "data": {
      "text/html": [
       "<div>\n",
       "<style scoped>\n",
       "    .dataframe tbody tr th:only-of-type {\n",
       "        vertical-align: middle;\n",
       "    }\n",
       "\n",
       "    .dataframe tbody tr th {\n",
       "        vertical-align: top;\n",
       "    }\n",
       "\n",
       "    .dataframe thead th {\n",
       "        text-align: right;\n",
       "    }\n",
       "</style>\n",
       "<table border=\"1\" class=\"dataframe\">\n",
       "  <thead>\n",
       "    <tr style=\"text-align: right;\">\n",
       "      <th></th>\n",
       "      <th>unique_id</th>\n",
       "      <th>truck_id</th>\n",
       "      <th>route_id</th>\n",
       "      <th>departure_date</th>\n",
       "      <th>estimated_arrival</th>\n",
       "      <th>delay</th>\n",
       "      <th>estimated_arrival_nearest_hour</th>\n",
       "      <th>departure_date_nearest_hour</th>\n",
       "      <th>origin_id</th>\n",
       "      <th>destination_id</th>\n",
       "      <th>distance</th>\n",
       "      <th>average_hours</th>\n",
       "    </tr>\n",
       "  </thead>\n",
       "  <tbody>\n",
       "    <tr>\n",
       "      <th>0</th>\n",
       "      <td>0</td>\n",
       "      <td>30312694</td>\n",
       "      <td>R-b236e347</td>\n",
       "      <td>2019-01-01 07:00:00</td>\n",
       "      <td>2019-01-01 13:13:12</td>\n",
       "      <td>0</td>\n",
       "      <td>2019-01-01 13:00:00</td>\n",
       "      <td>2019-01-01 07:00:00</td>\n",
       "      <td>C-927ceb5e</td>\n",
       "      <td>C-d80a1e7d</td>\n",
       "      <td>310.75</td>\n",
       "      <td>6.22</td>\n",
       "    </tr>\n",
       "    <tr>\n",
       "      <th>1</th>\n",
       "      <td>1</td>\n",
       "      <td>59856374</td>\n",
       "      <td>R-29ea762e</td>\n",
       "      <td>2019-01-01 07:00:00</td>\n",
       "      <td>2019-01-02 04:01:12</td>\n",
       "      <td>0</td>\n",
       "      <td>2019-01-02 04:00:00</td>\n",
       "      <td>2019-01-01 07:00:00</td>\n",
       "      <td>C-927ceb5e</td>\n",
       "      <td>C-639c5e36</td>\n",
       "      <td>1050.84</td>\n",
       "      <td>21.02</td>\n",
       "    </tr>\n",
       "  </tbody>\n",
       "</table>\n",
       "</div>"
      ],
      "text/plain": [
       "   unique_id  truck_id    route_id      departure_date   estimated_arrival  \\\n",
       "0          0  30312694  R-b236e347 2019-01-01 07:00:00 2019-01-01 13:13:12   \n",
       "1          1  59856374  R-29ea762e 2019-01-01 07:00:00 2019-01-02 04:01:12   \n",
       "\n",
       "   delay estimated_arrival_nearest_hour departure_date_nearest_hour  \\\n",
       "0      0            2019-01-01 13:00:00         2019-01-01 07:00:00   \n",
       "1      0            2019-01-02 04:00:00         2019-01-01 07:00:00   \n",
       "\n",
       "    origin_id destination_id  distance  average_hours  \n",
       "0  C-927ceb5e     C-d80a1e7d    310.75           6.22  \n",
       "1  C-927ceb5e     C-639c5e36   1050.84          21.02  "
      ]
     },
     "execution_count": 139,
     "metadata": {},
     "output_type": "execute_result"
    }
   ],
   "source": [
    "schedule_route.head(2)"
   ]
  },
  {
   "cell_type": "code",
   "execution_count": 140,
   "id": "8b322414-2352-4e79-8e94-6cd04508cd88",
   "metadata": {},
   "outputs": [
    {
     "data": {
      "text/plain": [
       "(12308, 12)"
      ]
     },
     "execution_count": 140,
     "metadata": {},
     "output_type": "execute_result"
    }
   ],
   "source": [
    "schedule_route.shape"
   ]
  },
  {
   "cell_type": "code",
   "execution_count": 141,
   "id": "8bbf9943-16a2-44f0-82f0-2c1af16ad8c7",
   "metadata": {},
   "outputs": [
    {
     "data": {
      "text/html": [
       "<div>\n",
       "<style scoped>\n",
       "    .dataframe tbody tr th:only-of-type {\n",
       "        vertical-align: middle;\n",
       "    }\n",
       "\n",
       "    .dataframe tbody tr th {\n",
       "        vertical-align: top;\n",
       "    }\n",
       "\n",
       "    .dataframe thead th {\n",
       "        text-align: right;\n",
       "    }\n",
       "</style>\n",
       "<table border=\"1\" class=\"dataframe\">\n",
       "  <thead>\n",
       "    <tr style=\"text-align: right;\">\n",
       "      <th></th>\n",
       "      <th>city_id</th>\n",
       "      <th>custom_date</th>\n",
       "      <th>date</th>\n",
       "      <th>hour</th>\n",
       "      <th>temp</th>\n",
       "      <th>wind_speed</th>\n",
       "      <th>description</th>\n",
       "      <th>precip</th>\n",
       "      <th>humidity</th>\n",
       "      <th>visibility</th>\n",
       "      <th>pressure</th>\n",
       "    </tr>\n",
       "  </thead>\n",
       "  <tbody>\n",
       "    <tr>\n",
       "      <th>0</th>\n",
       "      <td>C-01660979</td>\n",
       "      <td>2019-01-01 00:00:00</td>\n",
       "      <td>2019-01-01</td>\n",
       "      <td>00:00:00</td>\n",
       "      <td>50.0</td>\n",
       "      <td>9.0</td>\n",
       "      <td>Heavy rain</td>\n",
       "      <td>0.5</td>\n",
       "      <td>96</td>\n",
       "      <td>3.0</td>\n",
       "      <td>1009.0</td>\n",
       "    </tr>\n",
       "    <tr>\n",
       "      <th>1</th>\n",
       "      <td>C-01660979</td>\n",
       "      <td>2019-01-01 01:00:00</td>\n",
       "      <td>2019-01-01</td>\n",
       "      <td>01:00:00</td>\n",
       "      <td>52.0</td>\n",
       "      <td>10.0</td>\n",
       "      <td>Heavy rain</td>\n",
       "      <td>0.2</td>\n",
       "      <td>95</td>\n",
       "      <td>2.0</td>\n",
       "      <td>1008.0</td>\n",
       "    </tr>\n",
       "  </tbody>\n",
       "</table>\n",
       "</div>"
      ],
      "text/plain": [
       "      city_id         custom_date       date      hour  temp  wind_speed  \\\n",
       "0  C-01660979 2019-01-01 00:00:00 2019-01-01  00:00:00  50.0         9.0   \n",
       "1  C-01660979 2019-01-01 01:00:00 2019-01-01  01:00:00  52.0        10.0   \n",
       "\n",
       "  description  precip  humidity  visibility  pressure  \n",
       "0  Heavy rain     0.5        96         3.0    1009.0  \n",
       "1  Heavy rain     0.2        95         2.0    1008.0  "
      ]
     },
     "execution_count": 141,
     "metadata": {},
     "output_type": "execute_result"
    }
   ],
   "source": [
    "weather_df.head(2)"
   ]
  },
  {
   "cell_type": "code",
   "execution_count": 142,
   "id": "c04f8647-1503-4b62-8489-675deffbf61e",
   "metadata": {},
   "outputs": [],
   "source": [
    "origin_df=weather_df.copy()"
   ]
  },
  {
   "cell_type": "code",
   "execution_count": 143,
   "id": "a9d0c751-a247-49fc-b0c7-ce14866f5844",
   "metadata": {},
   "outputs": [],
   "source": [
    "origin_df=origin_df.drop(columns=['date','hour'])"
   ]
  },
  {
   "cell_type": "code",
   "execution_count": 144,
   "id": "5a52dc36-6f78-4f32-b514-e8fb4b40d160",
   "metadata": {},
   "outputs": [
    {
     "data": {
      "text/plain": [
       "Index(['city_id', 'custom_date', 'temp', 'wind_speed', 'description', 'precip',\n",
       "       'humidity', 'visibility', 'pressure'],\n",
       "      dtype='object')"
      ]
     },
     "execution_count": 144,
     "metadata": {},
     "output_type": "execute_result"
    }
   ],
   "source": [
    "origin_df.columns"
   ]
  },
  {
   "cell_type": "code",
   "execution_count": 145,
   "id": "c0744f56-b45f-4beb-bd48-1c9bc5b4086e",
   "metadata": {},
   "outputs": [
    {
     "data": {
      "text/plain": [
       "(55176, 9)"
      ]
     },
     "execution_count": 145,
     "metadata": {},
     "output_type": "execute_result"
    }
   ],
   "source": [
    "origin_df.shape"
   ]
  },
  {
   "cell_type": "code",
   "execution_count": 146,
   "id": "5271daed-a1f9-4095-95e2-40ce48ef4dd1",
   "metadata": {},
   "outputs": [],
   "source": [
    "origin_df.columns=['origin_id','departure_date_nearest_hour','origin_temp','origin_wind_speed',\n",
    "                   'origin_description','origin_precip','origin_humidity','origin_visibility',\n",
    "                   'origin_pressure']"
   ]
  },
  {
   "cell_type": "code",
   "execution_count": 147,
   "id": "a83940ca-07c6-4023-8b0e-0694af2e5165",
   "metadata": {},
   "outputs": [],
   "source": [
    "origin_weather_data=schedule_route.merge(origin_df, on=['origin_id','departure_date_nearest_hour'], how='left')"
   ]
  },
  {
   "cell_type": "code",
   "execution_count": 166,
   "id": "cb8daa0a-188b-46d7-91a4-85a31b9a2f40",
   "metadata": {},
   "outputs": [
    {
     "data": {
      "text/plain": [
       "unique_id                         0\n",
       "truck_id                          0\n",
       "route_id                          0\n",
       "departure_date                    0\n",
       "estimated_arrival                 0\n",
       "delay                             0\n",
       "estimated_arrival_nearest_hour    0\n",
       "departure_date_nearest_hour       0\n",
       "origin_id                         0\n",
       "destination_id                    0\n",
       "distance                          0\n",
       "average_hours                     0\n",
       "origin_temp                       4\n",
       "origin_wind_speed                 4\n",
       "origin_description                4\n",
       "origin_precip                     4\n",
       "origin_humidity                   4\n",
       "origin_visibility                 4\n",
       "origin_pressure                   4\n",
       "dtype: int64"
      ]
     },
     "execution_count": 166,
     "metadata": {},
     "output_type": "execute_result"
    }
   ],
   "source": [
    "origin_weather_data.isna().sum()"
   ]
  },
  {
   "cell_type": "code",
   "execution_count": 149,
   "id": "a63984ac-e13d-4913-bfb2-067b108010ad",
   "metadata": {},
   "outputs": [],
   "source": [
    "#for the destination (estimated arrival,destination_id\n",
    "destination_df=weather_df.copy()"
   ]
  },
  {
   "cell_type": "code",
   "execution_count": 150,
   "id": "a2936c0a-6e1b-4229-afca-67ff568c75b5",
   "metadata": {},
   "outputs": [],
   "source": [
    "destination_df.drop(columns=['date','hour'], inplace=True)"
   ]
  },
  {
   "cell_type": "code",
   "execution_count": 151,
   "id": "99fb366d-b18a-4300-a4cf-f20b42241ebe",
   "metadata": {},
   "outputs": [],
   "source": [
    "destination_df.columns=['destination_id','estimated_arrival_nearest_hour','destination_temp','destination_wind_speed',\n",
    "                   'destination_description','destination_precip','destination_humidity','destination_visibility',\n",
    "                   'destination_pressure']"
   ]
  },
  {
   "cell_type": "code",
   "execution_count": 152,
   "id": "05da9190-08fe-4412-9c0d-e6330c2edf77",
   "metadata": {},
   "outputs": [],
   "source": [
    "origin_destination_data=origin_weather_data.merge(destination_df, on=['destination_id','estimated_arrival_nearest_hour'], how='left')"
   ]
  },
  {
   "cell_type": "code",
   "execution_count": 161,
   "id": "57c30533-f495-4a65-974a-803cf5096091",
   "metadata": {},
   "outputs": [
    {
     "data": {
      "text/html": [
       "<div>\n",
       "<style scoped>\n",
       "    .dataframe tbody tr th:only-of-type {\n",
       "        vertical-align: middle;\n",
       "    }\n",
       "\n",
       "    .dataframe tbody tr th {\n",
       "        vertical-align: top;\n",
       "    }\n",
       "\n",
       "    .dataframe thead th {\n",
       "        text-align: right;\n",
       "    }\n",
       "</style>\n",
       "<table border=\"1\" class=\"dataframe\">\n",
       "  <thead>\n",
       "    <tr style=\"text-align: right;\">\n",
       "      <th></th>\n",
       "      <th>unique_id</th>\n",
       "      <th>truck_id</th>\n",
       "      <th>route_id</th>\n",
       "      <th>departure_date</th>\n",
       "      <th>estimated_arrival</th>\n",
       "      <th>delay</th>\n",
       "      <th>estimated_arrival_nearest_hour</th>\n",
       "      <th>departure_date_nearest_hour</th>\n",
       "      <th>origin_id</th>\n",
       "      <th>destination_id</th>\n",
       "      <th>...</th>\n",
       "      <th>origin_humidity</th>\n",
       "      <th>origin_visibility</th>\n",
       "      <th>origin_pressure</th>\n",
       "      <th>destination_temp</th>\n",
       "      <th>destination_wind_speed</th>\n",
       "      <th>destination_description</th>\n",
       "      <th>destination_precip</th>\n",
       "      <th>destination_humidity</th>\n",
       "      <th>destination_visibility</th>\n",
       "      <th>destination_pressure</th>\n",
       "    </tr>\n",
       "  </thead>\n",
       "  <tbody>\n",
       "    <tr>\n",
       "      <th>0</th>\n",
       "      <td>0</td>\n",
       "      <td>30312694</td>\n",
       "      <td>R-b236e347</td>\n",
       "      <td>2019-01-01 07:00:00</td>\n",
       "      <td>2019-01-01 13:13:12</td>\n",
       "      <td>0</td>\n",
       "      <td>2019-01-01 13:00:00</td>\n",
       "      <td>2019-01-01 07:00:00</td>\n",
       "      <td>C-927ceb5e</td>\n",
       "      <td>C-d80a1e7d</td>\n",
       "      <td>...</td>\n",
       "      <td>83.0</td>\n",
       "      <td>4.0</td>\n",
       "      <td>1027.0</td>\n",
       "      <td>41.0</td>\n",
       "      <td>11.0</td>\n",
       "      <td>Overcast</td>\n",
       "      <td>0.0</td>\n",
       "      <td>76</td>\n",
       "      <td>6.0</td>\n",
       "      <td>1025.0</td>\n",
       "    </tr>\n",
       "    <tr>\n",
       "      <th>1</th>\n",
       "      <td>1</td>\n",
       "      <td>59856374</td>\n",
       "      <td>R-29ea762e</td>\n",
       "      <td>2019-01-01 07:00:00</td>\n",
       "      <td>2019-01-02 04:01:12</td>\n",
       "      <td>0</td>\n",
       "      <td>2019-01-02 04:00:00</td>\n",
       "      <td>2019-01-01 07:00:00</td>\n",
       "      <td>C-927ceb5e</td>\n",
       "      <td>C-639c5e36</td>\n",
       "      <td>...</td>\n",
       "      <td>83.0</td>\n",
       "      <td>4.0</td>\n",
       "      <td>1027.0</td>\n",
       "      <td>3.0</td>\n",
       "      <td>3.0</td>\n",
       "      <td>Partly cloudy</td>\n",
       "      <td>0.0</td>\n",
       "      <td>71</td>\n",
       "      <td>6.0</td>\n",
       "      <td>1037.0</td>\n",
       "    </tr>\n",
       "    <tr>\n",
       "      <th>2</th>\n",
       "      <td>2</td>\n",
       "      <td>12602955</td>\n",
       "      <td>R-a3d67783</td>\n",
       "      <td>2019-01-01 07:00:00</td>\n",
       "      <td>2019-01-01 07:45:36</td>\n",
       "      <td>0</td>\n",
       "      <td>2019-01-01 08:00:00</td>\n",
       "      <td>2019-01-01 07:00:00</td>\n",
       "      <td>C-927ceb5e</td>\n",
       "      <td>C-a9f2c329</td>\n",
       "      <td>...</td>\n",
       "      <td>83.0</td>\n",
       "      <td>4.0</td>\n",
       "      <td>1027.0</td>\n",
       "      <td>28.0</td>\n",
       "      <td>10.0</td>\n",
       "      <td>Moderate snow</td>\n",
       "      <td>0.0</td>\n",
       "      <td>84</td>\n",
       "      <td>3.0</td>\n",
       "      <td>1027.0</td>\n",
       "    </tr>\n",
       "    <tr>\n",
       "      <th>3</th>\n",
       "      <td>3</td>\n",
       "      <td>46619422</td>\n",
       "      <td>R-31ec9310</td>\n",
       "      <td>2019-01-01 07:00:00</td>\n",
       "      <td>2019-01-01 20:46:48</td>\n",
       "      <td>0</td>\n",
       "      <td>2019-01-01 21:00:00</td>\n",
       "      <td>2019-01-01 07:00:00</td>\n",
       "      <td>C-927ceb5e</td>\n",
       "      <td>C-c7cacd1d</td>\n",
       "      <td>...</td>\n",
       "      <td>83.0</td>\n",
       "      <td>4.0</td>\n",
       "      <td>1027.0</td>\n",
       "      <td>27.0</td>\n",
       "      <td>11.0</td>\n",
       "      <td>Partly cloudy</td>\n",
       "      <td>0.0</td>\n",
       "      <td>67</td>\n",
       "      <td>6.0</td>\n",
       "      <td>1026.0</td>\n",
       "    </tr>\n",
       "    <tr>\n",
       "      <th>4</th>\n",
       "      <td>4</td>\n",
       "      <td>10140178</td>\n",
       "      <td>R-a07c5dbd</td>\n",
       "      <td>2019-01-01 07:00:00</td>\n",
       "      <td>2019-01-01 21:34:11</td>\n",
       "      <td>0</td>\n",
       "      <td>2019-01-01 22:00:00</td>\n",
       "      <td>2019-01-01 07:00:00</td>\n",
       "      <td>C-927ceb5e</td>\n",
       "      <td>C-ef47bdcd</td>\n",
       "      <td>...</td>\n",
       "      <td>83.0</td>\n",
       "      <td>4.0</td>\n",
       "      <td>1027.0</td>\n",
       "      <td>10.0</td>\n",
       "      <td>6.0</td>\n",
       "      <td>Clear</td>\n",
       "      <td>0.0</td>\n",
       "      <td>75</td>\n",
       "      <td>6.0</td>\n",
       "      <td>1029.0</td>\n",
       "    </tr>\n",
       "  </tbody>\n",
       "</table>\n",
       "<p>5 rows × 26 columns</p>\n",
       "</div>"
      ],
      "text/plain": [
       "   unique_id  truck_id    route_id      departure_date   estimated_arrival  \\\n",
       "0          0  30312694  R-b236e347 2019-01-01 07:00:00 2019-01-01 13:13:12   \n",
       "1          1  59856374  R-29ea762e 2019-01-01 07:00:00 2019-01-02 04:01:12   \n",
       "2          2  12602955  R-a3d67783 2019-01-01 07:00:00 2019-01-01 07:45:36   \n",
       "3          3  46619422  R-31ec9310 2019-01-01 07:00:00 2019-01-01 20:46:48   \n",
       "4          4  10140178  R-a07c5dbd 2019-01-01 07:00:00 2019-01-01 21:34:11   \n",
       "\n",
       "   delay estimated_arrival_nearest_hour departure_date_nearest_hour  \\\n",
       "0      0            2019-01-01 13:00:00         2019-01-01 07:00:00   \n",
       "1      0            2019-01-02 04:00:00         2019-01-01 07:00:00   \n",
       "2      0            2019-01-01 08:00:00         2019-01-01 07:00:00   \n",
       "3      0            2019-01-01 21:00:00         2019-01-01 07:00:00   \n",
       "4      0            2019-01-01 22:00:00         2019-01-01 07:00:00   \n",
       "\n",
       "    origin_id destination_id  ...  origin_humidity  origin_visibility  \\\n",
       "0  C-927ceb5e     C-d80a1e7d  ...             83.0                4.0   \n",
       "1  C-927ceb5e     C-639c5e36  ...             83.0                4.0   \n",
       "2  C-927ceb5e     C-a9f2c329  ...             83.0                4.0   \n",
       "3  C-927ceb5e     C-c7cacd1d  ...             83.0                4.0   \n",
       "4  C-927ceb5e     C-ef47bdcd  ...             83.0                4.0   \n",
       "\n",
       "   origin_pressure  destination_temp destination_wind_speed  \\\n",
       "0           1027.0              41.0                   11.0   \n",
       "1           1027.0               3.0                    3.0   \n",
       "2           1027.0              28.0                   10.0   \n",
       "3           1027.0              27.0                   11.0   \n",
       "4           1027.0              10.0                    6.0   \n",
       "\n",
       "   destination_description  destination_precip  destination_humidity  \\\n",
       "0                 Overcast                 0.0                    76   \n",
       "1            Partly cloudy                 0.0                    71   \n",
       "2            Moderate snow                 0.0                    84   \n",
       "3            Partly cloudy                 0.0                    67   \n",
       "4                    Clear                 0.0                    75   \n",
       "\n",
       "   destination_visibility  destination_pressure  \n",
       "0                     6.0                1025.0  \n",
       "1                     6.0                1037.0  \n",
       "2                     3.0                1027.0  \n",
       "3                     6.0                1026.0  \n",
       "4                     6.0                1029.0  \n",
       "\n",
       "[5 rows x 26 columns]"
      ]
     },
     "execution_count": 161,
     "metadata": {},
     "output_type": "execute_result"
    }
   ],
   "source": [
    "origin_destination_data.head(5)"
   ]
  },
  {
   "cell_type": "markdown",
   "id": "891ccf5f-e8b7-40ff-9e98-456cd8c4289b",
   "metadata": {},
   "source": [
    "### Traffic x scheduling data merge"
   ]
  },
  {
   "cell_type": "code",
   "execution_count": 167,
   "id": "9b16f740-15ae-4ff4-b5d5-6c4fd5bd3974",
   "metadata": {},
   "outputs": [
    {
     "data": {
      "text/html": [
       "<div>\n",
       "<style scoped>\n",
       "    .dataframe tbody tr th:only-of-type {\n",
       "        vertical-align: middle;\n",
       "    }\n",
       "\n",
       "    .dataframe tbody tr th {\n",
       "        vertical-align: top;\n",
       "    }\n",
       "\n",
       "    .dataframe thead th {\n",
       "        text-align: right;\n",
       "    }\n",
       "</style>\n",
       "<table border=\"1\" class=\"dataframe\">\n",
       "  <thead>\n",
       "    <tr style=\"text-align: right;\">\n",
       "      <th></th>\n",
       "      <th>route_id</th>\n",
       "      <th>custom_date</th>\n",
       "      <th>no_of_vehicles</th>\n",
       "      <th>accident</th>\n",
       "    </tr>\n",
       "  </thead>\n",
       "  <tbody>\n",
       "    <tr>\n",
       "      <th>0</th>\n",
       "      <td>R-ada2a391</td>\n",
       "      <td>2019-01-01 00:00:00</td>\n",
       "      <td>669.0</td>\n",
       "      <td>0</td>\n",
       "    </tr>\n",
       "    <tr>\n",
       "      <th>1</th>\n",
       "      <td>R-ada2a391</td>\n",
       "      <td>2019-01-01 01:00:00</td>\n",
       "      <td>628.0</td>\n",
       "      <td>0</td>\n",
       "    </tr>\n",
       "  </tbody>\n",
       "</table>\n",
       "</div>"
      ],
      "text/plain": [
       "     route_id         custom_date  no_of_vehicles  accident\n",
       "0  R-ada2a391 2019-01-01 00:00:00           669.0         0\n",
       "1  R-ada2a391 2019-01-01 01:00:00           628.0         0"
      ]
     },
     "execution_count": 167,
     "metadata": {},
     "output_type": "execute_result"
    }
   ],
   "source": [
    "traffic_df.head(2)"
   ]
  },
  {
   "cell_type": "code",
   "execution_count": 168,
   "id": "7e600e67-ad84-4563-82db-cc6279e53358",
   "metadata": {},
   "outputs": [],
   "source": [
    "traffic_df=traffic_df.sort_values(by=['route_id','custom_date']).reset_index(drop=True)"
   ]
  },
  {
   "cell_type": "code",
   "execution_count": 205,
   "id": "2733b6c6-6748-4c77-8226-6383ef4f078e",
   "metadata": {},
   "outputs": [
    {
     "data": {
      "text/plain": [
       "(12308, 13)"
      ]
     },
     "execution_count": 205,
     "metadata": {},
     "output_type": "execute_result"
    }
   ],
   "source": [
    "schedule_df_merge.shape"
   ]
  },
  {
   "cell_type": "code",
   "execution_count": 206,
   "id": "b16abaa1-6185-4d6f-b928-96033a3dd7d7",
   "metadata": {},
   "outputs": [],
   "source": [
    "new_schedule=schedule_df_merge.copy()"
   ]
  },
  {
   "cell_type": "code",
   "execution_count": 207,
   "id": "5c49a343-64dc-4321-ad88-6b36d03665a2",
   "metadata": {},
   "outputs": [],
   "source": [
    "new_schedule['departure_date_nearest_hour']=new_schedule['departure_date'].dt.round('H')\n",
    "new_schedule['estimated_arrival_nearest_hour']=new_schedule['estimated_arrival'].dt.round('H')"
   ]
  },
  {
   "cell_type": "code",
   "execution_count": 218,
   "id": "6c982e69-e580-4ff3-aeee-02e66d54bb82",
   "metadata": {},
   "outputs": [
    {
     "name": "stdout",
     "output_type": "stream",
     "text": [
      "<class 'pandas.core.frame.DataFrame'>\n",
      "RangeIndex: 317379 entries, 0 to 317378\n",
      "Data columns (total 16 columns):\n",
      " #   Column                          Non-Null Count   Dtype         \n",
      "---  ------                          --------------   -----         \n",
      " 0   unique_id                       317379 non-null  int64         \n",
      " 1   truck_id                        317379 non-null  int64         \n",
      " 2   route_id                        317379 non-null  object        \n",
      " 3   departure_date                  317379 non-null  datetime64[ns]\n",
      " 4   estimated_arrival               317379 non-null  datetime64[ns]\n",
      " 5   delay                           317379 non-null  int64         \n",
      " 6   route_avg_temp                  317379 non-null  float64       \n",
      " 7   route_avg_wind                  317379 non-null  float64       \n",
      " 8   route_avg_precip                317379 non-null  float64       \n",
      " 9   route_avg_humidity              317379 non-null  float64       \n",
      " 10  route_avg_visibility            317379 non-null  float64       \n",
      " 11  route_avg_pressure              317379 non-null  float64       \n",
      " 12  route_description               317379 non-null  object        \n",
      " 13  departure_date_nearest_hour     317379 non-null  datetime64[ns]\n",
      " 14  estimated_arrival_nearest_hour  317379 non-null  datetime64[ns]\n",
      " 15  custom_date                     317379 non-null  datetime64[ns]\n",
      "dtypes: datetime64[ns](5), float64(6), int64(3), object(2)\n",
      "memory usage: 38.7+ MB\n"
     ]
    }
   ],
   "source": [
    "hourly_exploded_schedule.info()"
   ]
  },
  {
   "cell_type": "code",
   "execution_count": 208,
   "id": "979a34ed-6f00-4000-adf2-0a1e20228599",
   "metadata": {},
   "outputs": [],
   "source": [
    "hourly_exploded_schedule=new_schedule.assign(custom_date=[pd.date_range(start,end,freq='H')\n",
    "for start,end, in zip(new_schedule['departure_date_nearest_hour'],new_schedule['estimated_arrival_nearest_hour']\n",
    "                     )]).explode('custom_date',ignore_index=True)"
   ]
  },
  {
   "cell_type": "code",
   "execution_count": 209,
   "id": "1bf7b068-8fb6-40a1-a147-ce1d2d03ceed",
   "metadata": {},
   "outputs": [],
   "source": [
    "schedule_traffic=hourly_exploded_schedule.merge(traffic_df, on=['route_id', 'custom_date'], how='left')"
   ]
  },
  {
   "cell_type": "code",
   "execution_count": 210,
   "id": "021b1add-743d-43b6-a35a-3f34ba6a0f6e",
   "metadata": {},
   "outputs": [
    {
     "data": {
      "text/plain": [
       "unique_id                          0\n",
       "truck_id                           0\n",
       "route_id                           0\n",
       "departure_date                     0\n",
       "estimated_arrival                  0\n",
       "delay                              0\n",
       "route_avg_temp                     0\n",
       "route_avg_wind                     0\n",
       "route_avg_precip                   0\n",
       "route_avg_humidity                 0\n",
       "route_avg_visibility               0\n",
       "route_avg_pressure                 0\n",
       "route_description                  0\n",
       "departure_date_nearest_hour        0\n",
       "estimated_arrival_nearest_hour     0\n",
       "custom_date                        0\n",
       "no_of_vehicles                    68\n",
       "accident                           0\n",
       "dtype: int64"
      ]
     },
     "execution_count": 210,
     "metadata": {},
     "output_type": "execute_result"
    }
   ],
   "source": [
    "schedule_traffic.isna().sum()"
   ]
  },
  {
   "cell_type": "code",
   "execution_count": 216,
   "id": "7e5ee620-6116-4ae6-99b5-35b79819f45f",
   "metadata": {},
   "outputs": [
    {
     "data": {
      "text/plain": [
       "(317488, 18)"
      ]
     },
     "execution_count": 216,
     "metadata": {},
     "output_type": "execute_result"
    }
   ],
   "source": [
    "schedule_traffic.shape"
   ]
  },
  {
   "cell_type": "code",
   "execution_count": 211,
   "id": "73890a31-92d8-47ea-bba9-2e33b789090e",
   "metadata": {},
   "outputs": [],
   "source": [
    "def custom_agg(values):\n",
    "    if any(values==1):\n",
    "        return 1\n",
    "    else:\n",
    "        return 0"
   ]
  },
  {
   "cell_type": "code",
   "execution_count": 212,
   "id": "aed42bd2-6afc-4df4-b36d-6d51716d5ce6",
   "metadata": {},
   "outputs": [],
   "source": [
    "schedule_route_traffic=schedule_traffic.groupby(['unique_id', 'truck_id', 'route_id'], as_index=False).agg(\n",
    "    avg_no_of_vehicles=('no_of_vehicles', 'mean'),\n",
    "    accident=('accident', custom_agg)\n",
    ")\n"
   ]
  },
  {
   "cell_type": "code",
   "execution_count": 213,
   "id": "db9e38d7-8337-48b6-8cd3-61705020f8f0",
   "metadata": {},
   "outputs": [
    {
     "data": {
      "text/plain": [
       "Index(['unique_id', 'truck_id', 'route_id'], dtype='object')"
      ]
     },
     "execution_count": 213,
     "metadata": {},
     "output_type": "execute_result"
    }
   ],
   "source": [
    "origin_destination_data.columns.intersection(schedule_route_traffic.columns)"
   ]
  },
  {
   "cell_type": "code",
   "execution_count": 214,
   "id": "8599d111-6aff-40cf-b17d-d37967bcce2c",
   "metadata": {},
   "outputs": [],
   "source": [
    "origin_destination_weather_traffic=origin_destination_data.merge(schedule_route_traffic, how='left', on =['unique_id', 'truck_id', 'route_id'])"
   ]
  },
  {
   "cell_type": "code",
   "execution_count": 215,
   "id": "fe757c8a-f387-4e2c-8fb2-2f1a27f91936",
   "metadata": {},
   "outputs": [
    {
     "data": {
      "text/plain": [
       "(12875, 28)"
      ]
     },
     "execution_count": 215,
     "metadata": {},
     "output_type": "execute_result"
    }
   ],
   "source": [
    "origin_destination_weather_traffic.shape"
   ]
  },
  {
   "cell_type": "code",
   "execution_count": 221,
   "id": "24ab576c-a772-4822-85dc-04255742b946",
   "metadata": {},
   "outputs": [
    {
     "data": {
      "text/plain": [
       "(12308, 13)"
      ]
     },
     "execution_count": 221,
     "metadata": {},
     "output_type": "execute_result"
    }
   ],
   "source": [
    "schedule_df_merge.shape"
   ]
  },
  {
   "cell_type": "code",
   "execution_count": 222,
   "id": "1a132e60-86af-4cf6-9145-19d486a781a7",
   "metadata": {},
   "outputs": [
    {
     "data": {
      "text/plain": [
       "Index(['unique_id', 'truck_id', 'route_id', 'departure_date',\n",
       "       'estimated_arrival', 'delay'],\n",
       "      dtype='object')"
      ]
     },
     "execution_count": 222,
     "metadata": {},
     "output_type": "execute_result"
    }
   ],
   "source": [
    "schedule_df_merge.columns.intersection(origin_destination_weather_traffic.columns)"
   ]
  },
  {
   "cell_type": "code",
   "execution_count": 223,
   "id": "2efb79f0-3420-416a-94a6-598dd3ace53d",
   "metadata": {},
   "outputs": [],
   "source": [
    "merged_data_weather_traffic=schedule_df_merge.merge(origin_destination_weather_traffic, on=['unique_id', 'truck_id', 'route_id', 'departure_date',\n",
    "       'estimated_arrival', 'delay'], how='left')"
   ]
  },
  {
   "cell_type": "code",
   "execution_count": 224,
   "id": "65f41a06-4f91-4f39-9db6-bad93ba06866",
   "metadata": {},
   "outputs": [],
   "source": [
    "merged_data_weather_traffic_truck=merged_data_weather_traffic.merge(truck_df, on='truck_id', how='left')"
   ]
  },
  {
   "cell_type": "code",
   "execution_count": 225,
   "id": "0916377d-b86c-49f0-84a4-1008cbc25eb3",
   "metadata": {},
   "outputs": [],
   "source": [
    "final_merge=merged_data_weather_traffic_truck.merge(drivers_df, left_on='truck_id', right_on='vehicle_no',\n",
    "                                                    how='left')"
   ]
  },
  {
   "cell_type": "code",
   "execution_count": 228,
   "id": "9c9e366e-4f48-4dc2-828e-fd297aff022b",
   "metadata": {
    "scrolled": true
   },
   "outputs": [
    {
     "data": {
      "text/html": [
       "<div>\n",
       "<style scoped>\n",
       "    .dataframe tbody tr th:only-of-type {\n",
       "        vertical-align: middle;\n",
       "    }\n",
       "\n",
       "    .dataframe tbody tr th {\n",
       "        vertical-align: top;\n",
       "    }\n",
       "\n",
       "    .dataframe thead th {\n",
       "        text-align: right;\n",
       "    }\n",
       "</style>\n",
       "<table border=\"1\" class=\"dataframe\">\n",
       "  <thead>\n",
       "    <tr style=\"text-align: right;\">\n",
       "      <th></th>\n",
       "      <th>unique_id</th>\n",
       "      <th>truck_id</th>\n",
       "      <th>route_id</th>\n",
       "      <th>departure_date</th>\n",
       "      <th>estimated_arrival</th>\n",
       "      <th>delay</th>\n",
       "      <th>route_avg_temp</th>\n",
       "      <th>route_avg_wind</th>\n",
       "      <th>route_avg_precip</th>\n",
       "      <th>route_avg_humidity</th>\n",
       "      <th>...</th>\n",
       "      <th>fuel_type</th>\n",
       "      <th>driver_id</th>\n",
       "      <th>name</th>\n",
       "      <th>gender</th>\n",
       "      <th>age</th>\n",
       "      <th>experience</th>\n",
       "      <th>driving_style</th>\n",
       "      <th>ratings</th>\n",
       "      <th>vehicle_no</th>\n",
       "      <th>average_speed_mph</th>\n",
       "    </tr>\n",
       "  </thead>\n",
       "  <tbody>\n",
       "    <tr>\n",
       "      <th>0</th>\n",
       "      <td>0</td>\n",
       "      <td>30312694</td>\n",
       "      <td>R-b236e347</td>\n",
       "      <td>2019-01-01 07:00:00</td>\n",
       "      <td>2019-01-01 13:13:12</td>\n",
       "      <td>0</td>\n",
       "      <td>28.333333</td>\n",
       "      <td>4.333333</td>\n",
       "      <td>0.0</td>\n",
       "      <td>82.333333</td>\n",
       "      <td>...</td>\n",
       "      <td>diesel</td>\n",
       "      <td>94ed3e6d-f</td>\n",
       "      <td>Manuel Wise</td>\n",
       "      <td>male</td>\n",
       "      <td>48</td>\n",
       "      <td>9</td>\n",
       "      <td>proactive</td>\n",
       "      <td>7</td>\n",
       "      <td>30312694</td>\n",
       "      <td>57.36</td>\n",
       "    </tr>\n",
       "    <tr>\n",
       "      <th>1</th>\n",
       "      <td>1</td>\n",
       "      <td>59856374</td>\n",
       "      <td>R-29ea762e</td>\n",
       "      <td>2019-01-01 07:00:00</td>\n",
       "      <td>2019-01-02 04:01:12</td>\n",
       "      <td>0</td>\n",
       "      <td>40.000000</td>\n",
       "      <td>10.600000</td>\n",
       "      <td>0.0</td>\n",
       "      <td>78.800000</td>\n",
       "      <td>...</td>\n",
       "      <td>diesel</td>\n",
       "      <td>0efc20ea-5</td>\n",
       "      <td>Steven Bishop</td>\n",
       "      <td>male</td>\n",
       "      <td>47</td>\n",
       "      <td>12</td>\n",
       "      <td>proactive</td>\n",
       "      <td>8</td>\n",
       "      <td>59856374</td>\n",
       "      <td>57.04</td>\n",
       "    </tr>\n",
       "  </tbody>\n",
       "</table>\n",
       "<p>2 rows × 48 columns</p>\n",
       "</div>"
      ],
      "text/plain": [
       "   unique_id  truck_id    route_id      departure_date   estimated_arrival  \\\n",
       "0          0  30312694  R-b236e347 2019-01-01 07:00:00 2019-01-01 13:13:12   \n",
       "1          1  59856374  R-29ea762e 2019-01-01 07:00:00 2019-01-02 04:01:12   \n",
       "\n",
       "   delay  route_avg_temp  route_avg_wind  route_avg_precip  \\\n",
       "0      0       28.333333        4.333333               0.0   \n",
       "1      0       40.000000       10.600000               0.0   \n",
       "\n",
       "   route_avg_humidity  ...  fuel_type   driver_id           name gender age  \\\n",
       "0           82.333333  ...     diesel  94ed3e6d-f    Manuel Wise   male  48   \n",
       "1           78.800000  ...     diesel  0efc20ea-5  Steven Bishop   male  47   \n",
       "\n",
       "  experience driving_style  ratings  vehicle_no  average_speed_mph  \n",
       "0          9     proactive        7    30312694              57.36  \n",
       "1         12     proactive        8    59856374              57.04  \n",
       "\n",
       "[2 rows x 48 columns]"
      ]
     },
     "execution_count": 228,
     "metadata": {},
     "output_type": "execute_result"
    }
   ],
   "source": [
    "final_merge.head(2)"
   ]
  },
  {
   "cell_type": "code",
   "execution_count": 229,
   "id": "085ce73e-ba8a-49a4-92fa-b2880559c435",
   "metadata": {},
   "outputs": [],
   "source": [
    "#to check if there is nightime involved between arrival and departure time\n",
    "def has_midnight(start,end):\n",
    "    return int(start.date() != end.date())"
   ]
  },
  {
   "cell_type": "code",
   "execution_count": 230,
   "id": "8eb8d712-a9e8-49f6-a803-7242dab340cb",
   "metadata": {},
   "outputs": [],
   "source": [
    "final_merge['is_midnight']=final_merge.apply(lambda row: has_midnight(row['departure_date'],\n",
    "                                                                      row['estimated_arrival']),\n",
    "                                             axis=1)"
   ]
  },
  {
   "cell_type": "code",
   "execution_count": 231,
   "id": "5834595c-a63c-4c0f-8692-6240e6624beb",
   "metadata": {},
   "outputs": [
    {
     "data": {
      "text/html": [
       "<div>\n",
       "<style scoped>\n",
       "    .dataframe tbody tr th:only-of-type {\n",
       "        vertical-align: middle;\n",
       "    }\n",
       "\n",
       "    .dataframe tbody tr th {\n",
       "        vertical-align: top;\n",
       "    }\n",
       "\n",
       "    .dataframe thead th {\n",
       "        text-align: right;\n",
       "    }\n",
       "</style>\n",
       "<table border=\"1\" class=\"dataframe\">\n",
       "  <thead>\n",
       "    <tr style=\"text-align: right;\">\n",
       "      <th></th>\n",
       "      <th>unique_id</th>\n",
       "      <th>truck_id</th>\n",
       "      <th>route_id</th>\n",
       "      <th>departure_date</th>\n",
       "      <th>estimated_arrival</th>\n",
       "      <th>delay</th>\n",
       "      <th>route_avg_temp</th>\n",
       "      <th>route_avg_wind</th>\n",
       "      <th>route_avg_precip</th>\n",
       "      <th>route_avg_humidity</th>\n",
       "      <th>...</th>\n",
       "      <th>driver_id</th>\n",
       "      <th>name</th>\n",
       "      <th>gender</th>\n",
       "      <th>age</th>\n",
       "      <th>experience</th>\n",
       "      <th>driving_style</th>\n",
       "      <th>ratings</th>\n",
       "      <th>vehicle_no</th>\n",
       "      <th>average_speed_mph</th>\n",
       "      <th>is_midnight</th>\n",
       "    </tr>\n",
       "  </thead>\n",
       "  <tbody>\n",
       "    <tr>\n",
       "      <th>0</th>\n",
       "      <td>0</td>\n",
       "      <td>30312694</td>\n",
       "      <td>R-b236e347</td>\n",
       "      <td>2019-01-01 07:00:00</td>\n",
       "      <td>2019-01-01 13:13:12</td>\n",
       "      <td>0</td>\n",
       "      <td>28.333333</td>\n",
       "      <td>4.333333</td>\n",
       "      <td>0.0</td>\n",
       "      <td>82.333333</td>\n",
       "      <td>...</td>\n",
       "      <td>94ed3e6d-f</td>\n",
       "      <td>Manuel Wise</td>\n",
       "      <td>male</td>\n",
       "      <td>48</td>\n",
       "      <td>9</td>\n",
       "      <td>proactive</td>\n",
       "      <td>7</td>\n",
       "      <td>30312694</td>\n",
       "      <td>57.36</td>\n",
       "      <td>0</td>\n",
       "    </tr>\n",
       "    <tr>\n",
       "      <th>1</th>\n",
       "      <td>1</td>\n",
       "      <td>59856374</td>\n",
       "      <td>R-29ea762e</td>\n",
       "      <td>2019-01-01 07:00:00</td>\n",
       "      <td>2019-01-02 04:01:12</td>\n",
       "      <td>0</td>\n",
       "      <td>40.000000</td>\n",
       "      <td>10.600000</td>\n",
       "      <td>0.0</td>\n",
       "      <td>78.800000</td>\n",
       "      <td>...</td>\n",
       "      <td>0efc20ea-5</td>\n",
       "      <td>Steven Bishop</td>\n",
       "      <td>male</td>\n",
       "      <td>47</td>\n",
       "      <td>12</td>\n",
       "      <td>proactive</td>\n",
       "      <td>8</td>\n",
       "      <td>59856374</td>\n",
       "      <td>57.04</td>\n",
       "      <td>1</td>\n",
       "    </tr>\n",
       "  </tbody>\n",
       "</table>\n",
       "<p>2 rows × 49 columns</p>\n",
       "</div>"
      ],
      "text/plain": [
       "   unique_id  truck_id    route_id      departure_date   estimated_arrival  \\\n",
       "0          0  30312694  R-b236e347 2019-01-01 07:00:00 2019-01-01 13:13:12   \n",
       "1          1  59856374  R-29ea762e 2019-01-01 07:00:00 2019-01-02 04:01:12   \n",
       "\n",
       "   delay  route_avg_temp  route_avg_wind  route_avg_precip  \\\n",
       "0      0       28.333333        4.333333               0.0   \n",
       "1      0       40.000000       10.600000               0.0   \n",
       "\n",
       "   route_avg_humidity  ...   driver_id           name gender age experience  \\\n",
       "0           82.333333  ...  94ed3e6d-f    Manuel Wise   male  48          9   \n",
       "1           78.800000  ...  0efc20ea-5  Steven Bishop   male  47         12   \n",
       "\n",
       "  driving_style ratings  vehicle_no  average_speed_mph  is_midnight  \n",
       "0     proactive       7    30312694              57.36            0  \n",
       "1     proactive       8    59856374              57.04            1  \n",
       "\n",
       "[2 rows x 49 columns]"
      ]
     },
     "execution_count": 231,
     "metadata": {},
     "output_type": "execute_result"
    }
   ],
   "source": [
    "final_merge.head(2)"
   ]
  },
  {
   "cell_type": "markdown",
   "id": "0b6cb4e3-32df-4510-8567-9e877c29981e",
   "metadata": {},
   "source": [
    "# Final Feature selection"
   ]
  },
  {
   "cell_type": "code",
   "execution_count": 239,
   "id": "36d3ea6b-f378-4222-9102-74336e7316d0",
   "metadata": {},
   "outputs": [
    {
     "data": {
      "text/plain": [
       "unique_id                           0\n",
       "truck_id                            0\n",
       "route_id                            0\n",
       "departure_date                      0\n",
       "estimated_arrival                   0\n",
       "delay                               0\n",
       "route_avg_temp                      0\n",
       "route_avg_wind                      0\n",
       "route_avg_precip                    0\n",
       "route_avg_humidity                  0\n",
       "route_avg_visibility                0\n",
       "route_avg_pressure                  0\n",
       "route_description                   0\n",
       "estimated_arrival_nearest_hour      0\n",
       "departure_date_nearest_hour         0\n",
       "origin_id                           0\n",
       "destination_id                      0\n",
       "distance                            0\n",
       "average_hours                       0\n",
       "origin_temp                         4\n",
       "origin_wind_speed                   4\n",
       "origin_description                  4\n",
       "origin_precip                       4\n",
       "origin_humidity                     4\n",
       "origin_visibility                   4\n",
       "origin_pressure                     4\n",
       "destination_temp                    0\n",
       "destination_wind_speed              0\n",
       "destination_description             0\n",
       "destination_precip                  0\n",
       "destination_humidity                0\n",
       "destination_visibility              0\n",
       "destination_pressure                0\n",
       "avg_no_of_vehicles                  0\n",
       "accident                            0\n",
       "truck_age                           0\n",
       "load_capacity_pounds              634\n",
       "mileage_mpg                         0\n",
       "fuel_type                           0\n",
       "driver_id                           0\n",
       "name                                0\n",
       "gender                              0\n",
       "age                                 0\n",
       "experience                          0\n",
       "driving_style                       0\n",
       "ratings                             0\n",
       "vehicle_no                          0\n",
       "average_speed_mph                   0\n",
       "is_midnight                         0\n",
       "dtype: int64"
      ]
     },
     "execution_count": 239,
     "metadata": {},
     "output_type": "execute_result"
    }
   ],
   "source": [
    "final_merge.isna().sum()"
   ]
  },
  {
   "cell_type": "code",
   "execution_count": 233,
   "id": "eeeff0a5-9dc2-48e8-969e-354a6b4b96f1",
   "metadata": {},
   "outputs": [
    {
     "data": {
      "text/plain": [
       "unique_id                                  int64\n",
       "truck_id                                   int64\n",
       "route_id                                  object\n",
       "departure_date                    datetime64[ns]\n",
       "estimated_arrival                 datetime64[ns]\n",
       "delay                                      int64\n",
       "route_avg_temp                           float64\n",
       "route_avg_wind                           float64\n",
       "route_avg_precip                         float64\n",
       "route_avg_humidity                       float64\n",
       "route_avg_visibility                     float64\n",
       "route_avg_pressure                       float64\n",
       "route_description                         object\n",
       "estimated_arrival_nearest_hour    datetime64[ns]\n",
       "departure_date_nearest_hour       datetime64[ns]\n",
       "origin_id                                 object\n",
       "destination_id                            object\n",
       "distance                                 float64\n",
       "average_hours                            float64\n",
       "origin_temp                              float64\n",
       "origin_wind_speed                        float64\n",
       "origin_description                        object\n",
       "origin_precip                            float64\n",
       "origin_humidity                          float64\n",
       "origin_visibility                        float64\n",
       "origin_pressure                          float64\n",
       "destination_temp                         float64\n",
       "destination_wind_speed                   float64\n",
       "destination_description                   object\n",
       "destination_precip                       float64\n",
       "destination_humidity                       int64\n",
       "destination_visibility                   float64\n",
       "destination_pressure                     float64\n",
       "avg_no_of_vehicles                       float64\n",
       "accident                                   int64\n",
       "truck_age                                  int64\n",
       "load_capacity_pounds                     float64\n",
       "mileage_mpg                                int64\n",
       "fuel_type                                 object\n",
       "driver_id                                 object\n",
       "name                                      object\n",
       "gender                                    object\n",
       "age                                        int64\n",
       "experience                                 int64\n",
       "driving_style                             object\n",
       "ratings                                    int64\n",
       "vehicle_no                                 int64\n",
       "average_speed_mph                        float64\n",
       "is_midnight                                int64\n",
       "dtype: object"
      ]
     },
     "execution_count": 233,
     "metadata": {},
     "output_type": "execute_result"
    }
   ],
   "source": [
    "final_merge.dtypes"
   ]
  },
  {
   "cell_type": "code",
   "execution_count": 236,
   "id": "7bb886ae-92c7-4455-8844-d7d795e363c3",
   "metadata": {},
   "outputs": [],
   "source": [
    "fs_data=final_merge.sort_values(['estimated_arrival','unique_id'])"
   ]
  },
  {
   "cell_type": "code",
   "execution_count": 240,
   "id": "234bf615-e27a-47ae-823e-693b79855993",
   "metadata": {},
   "outputs": [],
   "source": [
    "fs_data['origin_description']=fs_data['origin_description'].fillna(\"Unknown\")"
   ]
  },
  {
   "cell_type": "code",
   "execution_count": 256,
   "id": "cfb1dec6-16b5-4c18-adc7-5d600d00de62",
   "metadata": {},
   "outputs": [
    {
     "data": {
      "text/plain": [
       "unique_id                         0\n",
       "truck_id                          0\n",
       "route_id                          0\n",
       "departure_date                    0\n",
       "estimated_arrival                 0\n",
       "delay                             0\n",
       "route_avg_temp                    0\n",
       "route_avg_wind                    0\n",
       "route_avg_precip                  0\n",
       "route_avg_humidity                0\n",
       "route_avg_visibility              0\n",
       "route_avg_pressure                0\n",
       "route_description                 0\n",
       "estimated_arrival_nearest_hour    0\n",
       "departure_date_nearest_hour       0\n",
       "origin_id                         0\n",
       "destination_id                    0\n",
       "distance                          0\n",
       "average_hours                     0\n",
       "origin_temp                       0\n",
       "origin_wind_speed                 0\n",
       "origin_description                0\n",
       "origin_precip                     0\n",
       "origin_humidity                   0\n",
       "origin_visibility                 0\n",
       "origin_pressure                   0\n",
       "destination_temp                  0\n",
       "destination_wind_speed            0\n",
       "destination_description           0\n",
       "destination_precip                0\n",
       "destination_humidity              0\n",
       "destination_visibility            0\n",
       "destination_pressure              0\n",
       "avg_no_of_vehicles                0\n",
       "accident                          0\n",
       "truck_age                         0\n",
       "load_capacity_pounds              0\n",
       "mileage_mpg                       0\n",
       "fuel_type                         0\n",
       "driver_id                         0\n",
       "name                              0\n",
       "gender                            0\n",
       "age                               0\n",
       "experience                        0\n",
       "driving_style                     0\n",
       "ratings                           0\n",
       "vehicle_no                        0\n",
       "average_speed_mph                 0\n",
       "is_midnight                       0\n",
       "dtype: int64"
      ]
     },
     "execution_count": 256,
     "metadata": {},
     "output_type": "execute_result"
    }
   ],
   "source": [
    "fs_data.isna().sum()"
   ]
  },
  {
   "cell_type": "code",
   "execution_count": 245,
   "id": "2c3eb77f-df5b-46b4-9756-75fbe2790838",
   "metadata": {},
   "outputs": [],
   "source": [
    "fs_data['origin_temp']=fs_data['origin_temp'].fillna(fs_data['origin_temp'].mean)"
   ]
  },
  {
   "cell_type": "code",
   "execution_count": 248,
   "id": "032b71bc-8d12-4842-9e5c-d4382e11ffd3",
   "metadata": {},
   "outputs": [],
   "source": [
    "fs_data['origin_wind_speed']=fs_data['origin_wind_speed'].fillna(fs_data['origin_wind_speed'].mean)"
   ]
  },
  {
   "cell_type": "code",
   "execution_count": 249,
   "id": "4cfa264b-debb-4439-8384-4989f06547de",
   "metadata": {},
   "outputs": [],
   "source": [
    "fs_data['origin_precip']=fs_data['origin_precip'].fillna(fs_data['origin_precip'].mean)"
   ]
  },
  {
   "cell_type": "code",
   "execution_count": 251,
   "id": "445232d6-e5bc-42d0-af69-4ea499874dbe",
   "metadata": {},
   "outputs": [],
   "source": [
    "fs_data['origin_humidity']=fs_data['origin_humidity'].fillna(fs_data['origin_humidity'].mean)"
   ]
  },
  {
   "cell_type": "code",
   "execution_count": 252,
   "id": "ddea4979-a0e5-47ca-9ecb-90053e601016",
   "metadata": {},
   "outputs": [],
   "source": [
    "fs_data['origin_visibility']=fs_data['origin_visibility'].fillna(fs_data['origin_visibility'].mean)"
   ]
  },
  {
   "cell_type": "code",
   "execution_count": 253,
   "id": "97d6d0f6-b15c-4867-b09c-fe4ef9e49d59",
   "metadata": {},
   "outputs": [],
   "source": [
    "fs_data['origin_visibility']=fs_data['origin_visibility'].fillna(fs_data['origin_visibility'].mean)"
   ]
  },
  {
   "cell_type": "code",
   "execution_count": 254,
   "id": "d2e201c9-74e6-4a04-95b9-e08d96b3258e",
   "metadata": {},
   "outputs": [],
   "source": [
    "fs_data['origin_pressure']=fs_data['origin_pressure'].fillna(fs_data['origin_pressure'].mean)"
   ]
  },
  {
   "cell_type": "code",
   "execution_count": 255,
   "id": "7e832974-08dc-45c0-a430-e7a9402f437a",
   "metadata": {},
   "outputs": [],
   "source": [
    "fs_data['load_capacity_pounds']=fs_data['load_capacity_pounds'].fillna(fs_data['load_capacity_pounds'].mean)"
   ]
  },
  {
   "cell_type": "code",
   "execution_count": 257,
   "id": "70e0e252-2d71-4f5f-87ad-fc3677c29542",
   "metadata": {},
   "outputs": [],
   "source": [
    "final_df=fs_data.copy()"
   ]
  },
  {
   "cell_type": "code",
   "execution_count": 258,
   "id": "f593b219-4853-4062-bd2c-ba1e889b6fb7",
   "metadata": {},
   "outputs": [
    {
     "name": "stdout",
     "output_type": "stream",
     "text": [
      "<class 'pandas.core.frame.DataFrame'>\n",
      "Int64Index: 12875 entries, 471 to 12834\n",
      "Data columns (total 49 columns):\n",
      " #   Column                          Non-Null Count  Dtype         \n",
      "---  ------                          --------------  -----         \n",
      " 0   unique_id                       12875 non-null  int64         \n",
      " 1   truck_id                        12875 non-null  int64         \n",
      " 2   route_id                        12875 non-null  object        \n",
      " 3   departure_date                  12875 non-null  datetime64[ns]\n",
      " 4   estimated_arrival               12875 non-null  datetime64[ns]\n",
      " 5   delay                           12875 non-null  int64         \n",
      " 6   route_avg_temp                  12875 non-null  float64       \n",
      " 7   route_avg_wind                  12875 non-null  float64       \n",
      " 8   route_avg_precip                12875 non-null  float64       \n",
      " 9   route_avg_humidity              12875 non-null  float64       \n",
      " 10  route_avg_visibility            12875 non-null  float64       \n",
      " 11  route_avg_pressure              12875 non-null  float64       \n",
      " 12  route_description               12875 non-null  object        \n",
      " 13  estimated_arrival_nearest_hour  12875 non-null  datetime64[ns]\n",
      " 14  departure_date_nearest_hour     12875 non-null  datetime64[ns]\n",
      " 15  origin_id                       12875 non-null  object        \n",
      " 16  destination_id                  12875 non-null  object        \n",
      " 17  distance                        12875 non-null  float64       \n",
      " 18  average_hours                   12875 non-null  float64       \n",
      " 19  origin_temp                     12875 non-null  object        \n",
      " 20  origin_wind_speed               12875 non-null  object        \n",
      " 21  origin_description              12875 non-null  object        \n",
      " 22  origin_precip                   12875 non-null  object        \n",
      " 23  origin_humidity                 12875 non-null  object        \n",
      " 24  origin_visibility               12875 non-null  object        \n",
      " 25  origin_pressure                 12875 non-null  object        \n",
      " 26  destination_temp                12875 non-null  float64       \n",
      " 27  destination_wind_speed          12875 non-null  float64       \n",
      " 28  destination_description         12875 non-null  object        \n",
      " 29  destination_precip              12875 non-null  float64       \n",
      " 30  destination_humidity            12875 non-null  int64         \n",
      " 31  destination_visibility          12875 non-null  float64       \n",
      " 32  destination_pressure            12875 non-null  float64       \n",
      " 33  avg_no_of_vehicles              12875 non-null  float64       \n",
      " 34  accident                        12875 non-null  int64         \n",
      " 35  truck_age                       12875 non-null  int64         \n",
      " 36  load_capacity_pounds            12875 non-null  object        \n",
      " 37  mileage_mpg                     12875 non-null  int64         \n",
      " 38  fuel_type                       12875 non-null  object        \n",
      " 39  driver_id                       12875 non-null  object        \n",
      " 40  name                            12875 non-null  object        \n",
      " 41  gender                          12875 non-null  object        \n",
      " 42  age                             12875 non-null  int64         \n",
      " 43  experience                      12875 non-null  int64         \n",
      " 44  driving_style                   12875 non-null  object        \n",
      " 45  ratings                         12875 non-null  int64         \n",
      " 46  vehicle_no                      12875 non-null  int64         \n",
      " 47  average_speed_mph               12875 non-null  float64       \n",
      " 48  is_midnight                     12875 non-null  int64         \n",
      "dtypes: datetime64[ns](4), float64(15), int64(12), object(18)\n",
      "memory usage: 4.9+ MB\n"
     ]
    }
   ],
   "source": [
    "final_df.info()"
   ]
  },
  {
   "cell_type": "markdown",
   "id": "ae0518a8-9afe-43be-b363-b19a6bc1b374",
   "metadata": {},
   "source": [
    "# End of Story"
   ]
  }
 ],
 "metadata": {
  "kernelspec": {
   "display_name": "Python 3 (ipykernel)",
   "language": "python",
   "name": "python3"
  },
  "language_info": {
   "codemirror_mode": {
    "name": "ipython",
    "version": 3
   },
   "file_extension": ".py",
   "mimetype": "text/x-python",
   "name": "python",
   "nbconvert_exporter": "python",
   "pygments_lexer": "ipython3",
   "version": "3.11.5"
  }
 },
 "nbformat": 4,
 "nbformat_minor": 5
}
